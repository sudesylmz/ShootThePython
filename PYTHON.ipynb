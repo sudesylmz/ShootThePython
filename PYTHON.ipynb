{
 "cells": [
  {
   "cell_type": "markdown",
   "id": "6a15cbd3-b2f6-465f-83c7-efbf2e2fe08d",
   "metadata": {},
   "source": [
    "# Hatalar #\n",
    "\n",
    "İnsanlar hata yapmaya yatkındır ve genellikle bilgisayar programlarını yazanlar insanlardır. Bu nedenle, programlama dilleri, yapılan hataları anlamaya ve açıklamaya çalışır.\n",
    "\n",
    "Python, bu hatalara \"errors\" (hatalar) der ve hatanın oluştuğu yeri ^ karakteri ile işaretler. Beklenmeyen bir hata meydana geldiğinde buna \"bug\" (hata) denir. Programcılar, programın bu tür beklenmeyen hataları üretmemesi için güncelleme yapma sürecine \"debugging\" (hata ayıklama) der.\n",
    "\n",
    "Python’da sıkça karşılaşılan iki hata türü vardır: SyntaxError ve NameError.\n",
    "\n",
    "**SyntaxError:** Programın yazılış biçiminde bir hata olduğunu belirtir. Yanlış bir noktalama işareti, beklenmeyen bir komut ya da eksik bir parantez bu hatayı tetikleyebilir.\n",
    "\n",
    "**NameError:** Python, tanımlanmamış bir kelimeyle karşılaştığında oluşur. Örneğin, bir değişkenmiş gibi görünen ancak tanımlanmamış bir kelime NameError hatasına yol açar.\n",
    "\n",
    "\n",
    "Talimatlar:\n",
    "\n",
    "Bir string (metin) tek tırnakla açılıp çift tırnakla kapatılırsa, SyntaxError oluşabilir. String’i baştan sona aynı tırnak işaretiyle güncelleyin.\n",
    "Eğer tek bir kelimeyi tırnak işareti olmadan yazıp yazdırmaya çalışırsanız, Python bunu bir değişken olarak algılar ve tanımlı olmadığını fark ettiğinde NameError verir. Bu hatayı düzeltmek için string’in başına ve sonuna tırnak işareti ekleyin."
   ]
  },
  {
   "cell_type": "markdown",
   "id": "6f88a6fe-f0a2-49c8-bbb6-2017a2ea2df5",
   "metadata": {},
   "source": [
    "**Rakamlar (Numbers)**\n",
    "\n",
    "Bilgisayarlar yalnızca metin değil, rakamları da anlayabilir. Python, farklı sayısal veri türleri barındırır ve bunları kullanma amacınıza göre farklı biçimlerde saklayabilirsiniz.\n",
    "\n",
    "**Tamsayı (Integer - int):**\n",
    "\n",
    "Tamsayılar, ondalık noktası olmayan tam sayılardır. Sayma sayıları (1, 2, 3, …), negatifleri ve sıfırı içerir. Örneğin, bir odadaki insan sayısı, bir kavanozdaki jelibon sayısı veya bir klavyedeki tuş sayısı gibi değerler için tamsayı kullanabilirsiniz.\n",
    "\n",
    "**Ondalık Sayı (Floating-point number - float):**\n",
    "\n",
    "Ondalık sayılar, kesirli değerleri ve hassas ölçümleri temsil eder. Örneğin, bir yatak odasının duvar uzunluğunu ölçmek, bir sınıfın sınav ortalamasını hesaplamak veya bir beyzbol oyuncusunun vuruş ortalamasını kaydetmek için float kullanabilirsiniz."
   ]
  },
  {
   "cell_type": "code",
   "execution_count": 6,
   "id": "37a6c2e6-32ba-49c9-a8da-b5ff38c5997c",
   "metadata": {},
   "outputs": [
    {
     "name": "stdout",
     "output_type": "stream",
     "text": [
      "5\n"
     ]
    }
   ],
   "source": [
    "an_int = 2\n",
    "a_float = 2.1\n",
    "\n",
    "print(an_int + 3)"
   ]
  },
  {
   "cell_type": "markdown",
   "id": "4e906f64-7762-4960-9125-d5391890456e",
   "metadata": {},
   "source": [
    "**Hesaplamalar (Calculations)**\n",
    "\n",
    "Bilgisayarlar, hesaplama yapma konusunda inanılmaz derecede başarılıdır. \"Compute\" kelimesi, bilgisayarların matematiksel sorunlara cevap sağlama işlevine tarihsel olarak dayanmaktadır. Python, toplama, çıkarma, çarpma ve bölme gibi aritmetik işlemleri sırasıyla +, -, * ve / operatörleri ile gerçekleştirir.\n",
    "\n",
    "Üs Alma (Exponents):\n",
    "\n",
    "Python, üs alma işlemlerini gerçekleştirebilir. Matematikte üslü ifadeler genellikle üst simgesi ile yazılır, ancak modern klavyelerde bu simgeleri yazmak kolay olmadığından Python'da üs işlemi için ** operatörü kullanılır.\n",
    "\n",
    "\n",
    "**Notlar:**\n",
    "\n",
    "Bölme işlemi yapıldığında sonuç bir ondalık (float) sayı olur. Bunun nedeni, Python’ın tüm tamsayıları işlem öncesinde float’a dönüştürmesidir. Python 2.7 ve daha eski sürümlerde bu dönüşüm yapılmaz ve sonuç her zaman aşağı yuvarlanırdı.\n",
    "Bölme işleminde ZeroDivisionError adlı bir hata oluşabilir. Bu hata, 0’a bölme işlemi yapılmaya çalışıldığında ortaya çıkar.\n",
    "Python, matematikteki standart işlem önceliği kurallarını takip eder. Örneğin, çarpma ve bölme toplama ve çıkarmadan önce gerçekleştirilir."
   ]
  },
  {
   "cell_type": "code",
   "execution_count": 11,
   "id": "ba07502f-a0f6-417d-a9bb-46b884e95908",
   "metadata": {},
   "outputs": [
    {
     "name": "stdout",
     "output_type": "stream",
     "text": [
      "1700.4642857142858\n"
     ]
    }
   ],
   "source": [
    "print(25 * 68 + 13 / 28)"
   ]
  },
  {
   "cell_type": "markdown",
   "id": "ef9067c4-a374-4530-a33b-611022cc0434",
   "metadata": {},
   "source": [
    "**Değişkenlerle Sayılar (Changing Numbers)**\n",
    "\n",
    "Python'da sayısal değerler atanan değişkenler, doğrudan sayılar gibi kullanılabilir. Değişkenler, birbirleriyle toplanabilir, bölünebilir ya da çarpılabilir. Python, değişkenler ile sabit sayılar (literal) arasında bir fark gözetmez. Ancak, değişkenler üzerinde işlem yapmak onların değerini değiştirmez; bir değişkeni güncellemek için = atama operatörü kullanılır."
   ]
  },
  {
   "cell_type": "code",
   "execution_count": 16,
   "id": "a7eb27f0-2496-4a78-82fe-58c03ea453a0",
   "metadata": {},
   "outputs": [
    {
     "name": "stdout",
     "output_type": "stream",
     "text": [
      "6.0\n",
      "1.5\n",
      "4\n",
      "8.0\n",
      "2.0\n",
      "4\n"
     ]
    }
   ],
   "source": [
    "coffee_price = 1.50\n",
    "number_of_coffees = 4\n",
    "\n",
    "print(coffee_price * number_of_coffees)\n",
    "\n",
    "print(coffee_price)\n",
    "\n",
    "print(number_of_coffees)\n",
    "\n",
    "# Değişkeni güncelleme\n",
    "coffee_price = 2.00\n",
    "\n",
    "print(coffee_price * number_of_coffees)\n",
    "\n",
    "print(coffee_price)\n",
    "\n",
    "print(number_of_coffees)"
   ]
  },
  {
   "cell_type": "markdown",
   "id": "910cd45d-d40d-413d-98b3-78359eb7f9a3",
   "metadata": {},
   "source": [
    "**Proje**\n",
    "\n",
    "İlk yorgan projenizi planlıyorsunuz! Yorganın kare sayısını hesaplamak için iki değişken oluşturalım:\n",
    "\n",
    "quilt_width: Yorganın genişliği (8 kare genişliğinde olacak)\n",
    "\n",
    "quilt_length: Yorganın uzunluğu (12 kare uzunluğunda olacak)"
   ]
  },
  {
   "cell_type": "code",
   "execution_count": 25,
   "id": "a3b4fd70-ca9b-46f9-bc4f-29322d908a22",
   "metadata": {},
   "outputs": [],
   "source": [
    "quilt_width = 8\n",
    "quilt_length = 12"
   ]
  },
  {
   "cell_type": "markdown",
   "id": "c658bf2c-09db-4727-91d4-7c793953a6bf",
   "metadata": {},
   "source": [
    "Kaç kareye ihtiyacınız olduğunu yazdırın:\n",
    "\n",
    "Toplam kare sayısı, genişlik ile uzunluğun çarpımına eşittir. print() fonksiyonunu kullanarak sonucu yazdırın:"
   ]
  },
  {
   "cell_type": "code",
   "execution_count": 30,
   "id": "35fd5372-c6ec-4561-bb42-4e67a82b76be",
   "metadata": {},
   "outputs": [
    {
     "name": "stdout",
     "output_type": "stream",
     "text": [
      "96\n"
     ]
    }
   ],
   "source": [
    "print (quilt_width * quilt_length)"
   ]
  },
  {
   "cell_type": "markdown",
   "id": "47ed9759-185a-4320-aa3f-b1506b77f1d8",
   "metadata": {},
   "source": [
    "Yorganın boyutunu küçültün:\n",
    "\n",
    "Malzemeniz yetersiz olduğu için yorgan sadece 8 kare uzunluğunda olmalı. "
   ]
  },
  {
   "cell_type": "code",
   "execution_count": 35,
   "id": "26fcd75d-cec7-4d92-ad22-7a27bb3b17d2",
   "metadata": {},
   "outputs": [
    {
     "name": "stdout",
     "output_type": "stream",
     "text": [
      "64\n"
     ]
    }
   ],
   "source": [
    "quilt_length = 8\n",
    "print (quilt_width * quilt_length)"
   ]
  },
  {
   "cell_type": "markdown",
   "id": "bef0a01f-82c1-41ac-8265-181763572b7a",
   "metadata": {},
   "source": [
    "Kare yorganlar için gerekli kare sayısını hesaplayın:\n",
    "\n",
    "Artık tüm yorganlarınızın kare şeklinde olmasına karar verdiniz. Aşağıdaki boyutlarda kare yorganlar yapmak için kaç kareye ihtiyacınız olduğunu hesaplayın ve yazdırın:\n",
    "\n",
    "6x6 (36 kare)\n",
    "\n",
    "7x7 (49 kare)\n",
    "\n",
    "8x8 (64 kare)"
   ]
  },
  {
   "cell_type": "code",
   "execution_count": 41,
   "id": "1fecfb96-4d4b-4c30-b009-156cfdccb1dd",
   "metadata": {},
   "outputs": [
    {
     "name": "stdout",
     "output_type": "stream",
     "text": [
      "36\n",
      "49\n",
      "64\n"
     ]
    }
   ],
   "source": [
    "print(6 ** 2)  # 6x6 yorgan için kare sayısı\n",
    "print(7 ** 2)  # 7x7 yorgan için kare sayısı\n",
    "print(8 ** 2)  # 8x8 yorgan için kare sayısı"
   ]
  },
  {
   "cell_type": "markdown",
   "id": "451b9f21-ba10-4e08-ab50-ee77d6d722b0",
   "metadata": {},
   "source": [
    "6x6 yorganlardan toplam kare sayısını hesaplayın:\n",
    "\n",
    "6 kişi, 6'şar tane 6x6 yorgan istemiştir. Bu yorganlar için toplamda kaç kareye ihtiyacınız olduğunu hesaplayın ve yazdırın:"
   ]
  },
  {
   "cell_type": "code",
   "execution_count": 43,
   "id": "ba232e8b-6c0a-4bb3-9058-27881946955b",
   "metadata": {},
   "outputs": [
    {
     "name": "stdout",
     "output_type": "stream",
     "text": [
      "216\n"
     ]
    }
   ],
   "source": [
    "total_tiles = 6 * (6 ** 2)  # Her bir yorgan için 6x6 kare sayısı\n",
    "print(total_tiles)          # Toplam kare sayısı"
   ]
  },
  {
   "cell_type": "markdown",
   "id": "20976605-7ffe-499b-b440-8bc956c7d21b",
   "metadata": {},
   "source": [
    "**Modulo Operatörü (Modulo)**\n",
    "\n",
    "Python, bölme işlemini tamamlayan bir operatör olan modulo operatörünü (%) sunar. Modulo operatörü, bir bölme işleminin kalanını döndürür. Eğer iki sayı tam bölünebiliyorsa, kalan 0 olur.\n",
    "\n",
    "**Not:** Modulo operatörü, bir işlemi her \"n\"inci kez gerçekleştirmek istediğimizde programlama açısından kullanışlıdır. Örneğin, her 7. müşteriye bir anket vermek isterseniz, işlem numarası % 7 işlemiyle hangi müşterilerin bu kurala uyduğunu belirleyebilirsiniz."
   ]
  },
  {
   "cell_type": "code",
   "execution_count": 46,
   "id": "e4e99702-538b-4296-b3ad-0662d0ff4bce",
   "metadata": {},
   "outputs": [
    {
     "name": "stdout",
     "output_type": "stream",
     "text": [
      "4\n",
      "2\n",
      "0\n"
     ]
    }
   ],
   "source": [
    "#29'u 5'e böler\n",
    "print(29 % 5)  \n",
    "\n",
    "# 32 % 3: 32'yi 3'e böler\n",
    "print(32 % 3)  \n",
    "\n",
    "# 44 % 2: 44'ü 2'ye böler\n",
    "print(44 % 2)  "
   ]
  },
  {
   "cell_type": "markdown",
   "id": "74b3fe47-84cc-41ef-973e-487e64641110",
   "metadata": {},
   "source": [
    "## Proje ##\n",
    "\n",
    "İlk sipariş için kupon kontrolü:\n",
    "Yeni bir kampanya başlattınız. Her 10. müşteri, bir sonraki siparişi için %10 indirim kazanacak. İlk sipariş günün 269 numaralı siparişidir.\n",
    "\n",
    "Adımlar:\n",
    "\n",
    "Yeni bir değişken oluşturun: first_order_remainder. Bu, 269 % 10 işleminin sonucunu tutacaktır.\n",
    "Sonucu ekrana yazdırın:"
   ]
  },
  {
   "cell_type": "code",
   "execution_count": 57,
   "id": "23505120-bb01-4186-96d3-427821d651a2",
   "metadata": {},
   "outputs": [
    {
     "name": "stdout",
     "output_type": "stream",
     "text": [
      "9\n"
     ]
    }
   ],
   "source": [
    "first_order_remainder = 269 % 10\n",
    "print(first_order_remainder)"
   ]
  },
  {
   "cell_type": "markdown",
   "id": "1fed68cc-374c-430e-9010-d961ab86e332",
   "metadata": {},
   "source": [
    "İndirim kontrolü:\n",
    "\n",
    "Eğer kalan 0 ise, müşteri bir kupon kazanır.\n",
    "\n",
    "Yeni bir değişken oluşturun: first_order_coupon. Eğer müşteri indirim kazanıyorsa \"yes\", aksi takdirde \"no\" olarak ayarlayın."
   ]
  },
  {
   "cell_type": "code",
   "execution_count": 63,
   "id": "a053f8c6-b529-46f6-8634-1b0dc47d838c",
   "metadata": {},
   "outputs": [
    {
     "name": "stdout",
     "output_type": "stream",
     "text": [
      "no\n"
     ]
    }
   ],
   "source": [
    "if first_order_remainder == 0:\n",
    "    first_order_coupon = \"yes\"\n",
    "else:\n",
    "    first_order_coupon = \"no\"\n",
    "\n",
    "print(first_order_coupon)"
   ]
  },
  {
   "cell_type": "markdown",
   "id": "b50861df-e9e7-454a-a9a3-745a8d941eec",
   "metadata": {},
   "source": [
    "İkinci sipariş için kupon kontrolü:\n",
    "\n",
    "Günün ikinci siparişi 270 numaralıdır.\n",
    "\n",
    "Adımlar:\n",
    "\n",
    "Yeni bir değişken oluşturun: second_order_remainder. Bu, 270 % 10 işleminin sonucunu tutacaktır."
   ]
  },
  {
   "cell_type": "code",
   "execution_count": 65,
   "id": "3c98b10c-b887-4899-8f6b-645923fdbc48",
   "metadata": {},
   "outputs": [
    {
     "name": "stdout",
     "output_type": "stream",
     "text": [
      "0\n"
     ]
    }
   ],
   "source": [
    "second_order_remainder = 270 % 10\n",
    "print(second_order_remainder)"
   ]
  },
  {
   "cell_type": "code",
   "execution_count": 68,
   "id": "f3b7a2f9-cfea-46d5-b926-32824dabcf4c",
   "metadata": {},
   "outputs": [
    {
     "name": "stdout",
     "output_type": "stream",
     "text": [
      "yes\n"
     ]
    }
   ],
   "source": [
    "if second_order_remainder == 0:\n",
    "    second_order_coupon = \"yes\"\n",
    "else:\n",
    "    second_order_coupon = \"no\"\n",
    "\n",
    "print(second_order_coupon)"
   ]
  },
  {
   "cell_type": "markdown",
   "id": "9ccca386-c316-4e07-a517-99a1b922266c",
   "metadata": {},
   "source": [
    "**Birleştirme (Concatenation)**\n",
    "\n",
    "Python'da + operatörü yalnızca sayıları toplamakla kalmaz, aynı zamanda iki string’i birleştirmek için de kullanılır. Bu işlem string birleştirme (string concatenation) olarak adlandırılır. Birleştirme işlemi, iki string’i yan yana getirerek yeni bir string oluşturur.\n",
    "\n",
    "**Sayısal Değerleri String ile Birleştirme:**\n",
    "\n",
    "Bir string’i bir sayıyla birleştirmek isterseniz, önce sayıyı bir string’e dönüştürmelisiniz. Bunun için str() fonksiyonu kullanılır. Ancak, sadece bir mesaj yazdırıyorsanız print() fonksiyonuna sayıyı direkt argüman olarak geçirebilirsiniz."
   ]
  },
  {
   "cell_type": "code",
   "execution_count": 72,
   "id": "f7bc524d-d6d4-49b0-8084-616737af82f8",
   "metadata": {},
   "outputs": [
    {
     "name": "stdout",
     "output_type": "stream",
     "text": [
      "Hey there! How are you doing?\n"
     ]
    }
   ],
   "source": [
    "greeting_text = \"Hey there!\"\n",
    "question_text = \"How are you doing?\"\n",
    "\n",
    "full_text = greeting_text + \" \" + question_text\n",
    "\n",
    "print(full_text)  "
   ]
  },
  {
   "cell_type": "code",
   "execution_count": 76,
   "id": "357c104b-4598-400b-af8a-b78f32e75eb0",
   "metadata": {},
   "outputs": [
    {
     "name": "stdout",
     "output_type": "stream",
     "text": [
      "I am 10 years old today!\n",
      "I am  10  years old today!\n"
     ]
    }
   ],
   "source": [
    "birthday_string = \"I am \"\n",
    "age = 10\n",
    "birthday_string_2 = \" years old today!\"\n",
    "\n",
    "full_birthday_string = birthday_string + str(age) + birthday_string_2\n",
    "\n",
    "print(full_birthday_string)  \n",
    "\n",
    "# print() ile direkt argüman olarak\n",
    "print(birthday_string, age, birthday_string_2)  \n"
   ]
  },
  {
   "cell_type": "markdown",
   "id": "94adb0c5-923a-4fe1-8bb2-6dcab773cf0f",
   "metadata": {},
   "source": [
    "**Plus Equals (+=) Operatörü:**\n",
    "\n",
    "Python'da += operatörü, bir değişkenin mevcut değerini güncellemek için kullanılan bir kısayoldur. Bu operatör, değişkene yeni bir değer ekler ve sonucu doğrudan aynı değişkene kaydeder."
   ]
  },
  {
   "cell_type": "code",
   "execution_count": 79,
   "id": "b7ab0969-c81a-42d2-b9ca-c2f86fb5572c",
   "metadata": {},
   "outputs": [
    {
     "name": "stdout",
     "output_type": "stream",
     "text": [
      "14\n"
     ]
    }
   ],
   "source": [
    "number_of_miles_hiked = 12\n",
    "\n",
    "number_of_miles_hiked += 2  \n",
    "\n",
    "print(number_of_miles_hiked)  "
   ]
  },
  {
   "cell_type": "code",
   "execution_count": 81,
   "id": "cc58db04-fdbc-4346-860b-e9c99680ea18",
   "metadata": {},
   "outputs": [
    {
     "name": "stdout",
     "output_type": "stream",
     "text": [
      "What an amazing time to walk through nature! #nofilter #blessed\n"
     ]
    }
   ],
   "source": [
    "hike_caption = \"What an amazing time to walk through nature!\"\n",
    "\n",
    "hike_caption += \" #nofilter\"\n",
    "hike_caption += \" #blessed\"\n",
    "\n",
    "print(hike_caption)"
   ]
  },
  {
   "cell_type": "markdown",
   "id": "c6eb9fdb-9774-4894-b12f-805bee73e961",
   "metadata": {},
   "source": [
    "**Çok Satırlı String'ler (Multi-line Strings):**\n",
    "\n",
    "Python string’leri esnektir, ancak birden fazla satır içeren bir string oluşturmaya çalıştığınızda bir SyntaxError ile karşılaşabilirsiniz. Bu sorunu çözmek için Python, üçlü tırnak işaretleri (\"\"\" veya ''') kullanılarak oluşturulan çok satırlı string'leri destekler. Bu yöntemle, string’in sonu bir sonraki üçlü tırnak işaretine kadar devam eder.\n",
    "\n",
    "**Not:**\n",
    "\n",
    "Eğer çok satırlı bir string bir değişkene atanmazsa veya bir ifadede kullanılmazsa, Python onu bir yorum (comment) olarak değerlendirir."
   ]
  },
  {
   "cell_type": "code",
   "execution_count": 87,
   "id": "6175a62c-89f2-4f92-bf08-2f80dc3482c1",
   "metadata": {},
   "outputs": [
    {
     "name": "stdout",
     "output_type": "stream",
     "text": [
      "\n",
      "Poets to come! orators, singers, musicians to come!\n",
      "Not to-day is to justify me and answer what I am for,\n",
      "But you, a new brood, native, athletic, continental, greater than\n",
      "  before known,\n",
      "Arouse! for you must justify me.\n",
      "\n"
     ]
    }
   ],
   "source": [
    "leaves_of_grass = \"\"\"\n",
    "Poets to come! orators, singers, musicians to come!\n",
    "Not to-day is to justify me and answer what I am for,\n",
    "But you, a new brood, native, athletic, continental, greater than\n",
    "  before known,\n",
    "Arouse! for you must justify me.\n",
    "\"\"\"\n",
    "\n",
    "print(leaves_of_grass)"
   ]
  },
  {
   "cell_type": "markdown",
   "id": "ed6f4de8-3a45-4449-9ec9-34abde4ca1bf",
   "metadata": {},
   "source": [
    "# Proje #\n",
    "\n",
    "Sağlık Sigortası Projesi\n",
    "\n",
    "Bu projede, bir kişinin yaş, cinsiyet, BMI (vücut kitle indeksi), çocuk sayısı ve sigara kullanımı gibi faktörlerinin yıllık sağlık sigortası maliyetine nasıl etki ettiğini analiz etmek için bir formül kullanacağız. Aşağıda adım adım proje talimatlarının Türkçe özeti bulunmaktadır:"
   ]
  },
  {
   "cell_type": "markdown",
   "id": "2bc32477-c5eb-4bfa-a8d7-f47da6d3485b",
   "metadata": {},
   "source": [
    "**Adım 1:** Faktörlerin Ayarlanması\n",
    "\n",
    "Aşağıdaki değişkenleri oluşturun:\n",
    "\n",
    "age: Yaş (örn. 28)\n",
    "\n",
    "sex: Cinsiyet (0: Kadın, 1: Erkek)\n",
    "\n",
    "bmi: Vücut kitle indeksi (örn. 26.2)\n",
    "\n",
    "num_of_children: Çocuk sayısı (örn. 3)\n",
    "\n",
    "smoker: Sigara kullanımı (0: Sigara içmiyor, 1: Sigara içiyor)"
   ]
  },
  {
   "cell_type": "code",
   "execution_count": 5,
   "id": "6d97634e-f88b-4230-930f-c068206b95fa",
   "metadata": {},
   "outputs": [],
   "source": [
    "age = 28\n",
    "sex = 0.1\n",
    "bmi = 26.2\n",
    "num_of_children = 3\n",
    "smoker = 0"
   ]
  },
  {
   "cell_type": "markdown",
   "id": "699dec75-ff79-4fd8-8553-c2b17b0ff960",
   "metadata": {},
   "source": [
    "**Adım 2:** Aşağıdaki formülü kullanarak insurance_cost adlı bir değişken oluşturun:\n",
    "\n",
    "250 * age - 128 * sex + 370 * bmi + 425 * num_of_children + 24000 * smoker - 12500"
   ]
  },
  {
   "cell_type": "code",
   "execution_count": 8,
   "id": "b9cd32cb-5a0a-41ef-8be8-965007472286",
   "metadata": {},
   "outputs": [],
   "source": [
    "insurance_cost = 250 * age - 128 * sex + 370 * bmi + 425 * num_of_children + 24000 * smoker - 12500"
   ]
  },
  {
   "cell_type": "markdown",
   "id": "0de6375a-4f4a-40f2-ae25-e8261340d611",
   "metadata": {},
   "source": [
    "**Adım 3:** Sigorta Maliyetini Yazdırma\n",
    "\n",
    "Hesaplanan sigorta maliyetini bilgilendirici bir şekilde yazdırın:"
   ]
  },
  {
   "cell_type": "code",
   "execution_count": 11,
   "id": "a8edbb3c-e78a-41e9-a972-e47bec987cae",
   "metadata": {},
   "outputs": [
    {
     "name": "stdout",
     "output_type": "stream",
     "text": [
      "Bu kişinin sigorta maliyeti 5456.200000000001 dolardır.\n"
     ]
    }
   ],
   "source": [
    "print(\"Bu kişinin sigorta maliyeti \" + str(insurance_cost) + \" dolardır.\")"
   ]
  },
  {
   "cell_type": "markdown",
   "id": "3c38170f-e5c2-4089-9e05-e691515ac316",
   "metadata": {},
   "source": [
    "**Adım 4:** Yaş Faktörü\n",
    "\n",
    "Yaşı artırın: age değişkenine 4 ekleyin.\n",
    "\n",
    "Yeni sigorta maliyetini hesaplayın: new_insurance_cost.\n",
    "\n",
    "Eski ve yeni maliyet arasındaki farkı bulun: change_in_insurance_cost."
   ]
  },
  {
   "cell_type": "code",
   "execution_count": 14,
   "id": "c15f1b8a-d545-4024-89b4-b5ffc4ba38c9",
   "metadata": {},
   "outputs": [
    {
     "name": "stdout",
     "output_type": "stream",
     "text": [
      "Yaşın 4 yıl artması durumunda sigorta maliyeti değişimi: 1000.0 dolardır.\n"
     ]
    }
   ],
   "source": [
    "age += 4\n",
    "\n",
    "new_insurance_cost = 250 * age - 128 * sex + 370 * bmi + 425 * num_of_children + 24000 * smoker - 12500\n",
    "\n",
    "change_in_insurance_cost = new_insurance_cost - insurance_cost\n",
    "\n",
    "print(\"Yaşın 4 yıl artması durumunda sigorta maliyeti değişimi: \" + str(change_in_insurance_cost) + \" dolardır.\")"
   ]
  },
  {
   "cell_type": "markdown",
   "id": "6bf17909-121c-41d6-b0e6-60e1537a914c",
   "metadata": {},
   "source": [
    "**Adım 5:** BMI Faktörü\n",
    "\n",
    "Yaşı sıfırlayın (örn. age = 28).\n",
    "\n",
    "BMI’yi artırın: bmi değişkenine 3.1 ekleyin.\n",
    "\n",
    "Yeni sigorta maliyetini hesaplayın ve farkı yazdırın:"
   ]
  },
  {
   "cell_type": "code",
   "execution_count": 17,
   "id": "e8a2d22d-a1a8-426a-a794-3f8b9dc0c5e6",
   "metadata": {},
   "outputs": [
    {
     "name": "stdout",
     "output_type": "stream",
     "text": [
      "BMI'nin 3.1 artması durumunda sigorta maliyeti değişimi: 1000.0 dolardır.\n"
     ]
    }
   ],
   "source": [
    "age = 28\n",
    "bmi += 3.1\n",
    "print(\"BMI'nin 3.1 artması durumunda sigorta maliyeti değişimi: \" + str(change_in_insurance_cost) + \" dolardır.\")"
   ]
  },
  {
   "cell_type": "markdown",
   "id": "ba1183fa-ab82-491f-bb47-68f1ffa03634",
   "metadata": {},
   "source": [
    "**Fonksiyonlara Giriş**\n",
    "\n",
    "Programlama yaparken, daha büyük ve karmaşık projeler yazmaya başladığımızda, aynı adımları tekrar tekrar birçok farklı yerde tekrarlamamız gerektiğini fark ederiz.\n",
    "\n",
    "Örnek: Bir seyahat planlama uygulaması tasarladığımızı düşünelim. Bu uygulamada, basit bir prosedür şu adımları içerebilir:\n",
    "\n",
    "Başlangıç ve varış noktasını belirlemek\n",
    "\n",
    "Mesafeyi/rotayı hesaplamak\n",
    "\n",
    "Kullanıcıya en iyi rotayı sunmak\n",
    "\n",
    "Bu adımları her seyahat planında tekrar tekrar yazmak yerine, Python bize fonksiyonlar adında kullanışlı bir kavram sunar.\n",
    "\n",
    "**Fonksiyonlar Nedir?**\n",
    "\n",
    "Fonksiyonlar, kodumuzu tekrar kullanılabilir bloklar halinde gruplandırmanın bir yoludur. Bir fonksiyon, program içinde tekrarlamadan tekrar tekrar çalıştırılabilecek bir dizi adım içerir. \n",
    "\n",
    "Parametre: Fonksiyon tanımlanırken parantez ( ) içinde belirtilen değişken ismidir.\n",
    "\n",
    "Argument: Fonksiyon çağrılırken parametreye sağlanan veri."
   ]
  },
  {
   "cell_type": "code",
   "execution_count": 30,
   "id": "1c336de9-f25c-4778-99ba-77316800de05",
   "metadata": {},
   "outputs": [
    {
     "name": "stdout",
     "output_type": "stream",
     "text": [
      "Welcome to Tripcademy!\n",
      "Let's get you to your destination.\n"
     ]
    }
   ],
   "source": [
    "def trip_welcome():\n",
    "    print(\"Welcome to Tripcademy!\") \n",
    "    print(\"Let's get you to your destination.\")\n",
    "\n",
    "#fonksiyonu çağıralım\n",
    "trip_welcome()"
   ]
  },
  {
   "cell_type": "markdown",
   "id": "6193d2cf-a552-4284-9226-599654815f6e",
   "metadata": {},
   "source": [
    "**Notlar:**\n",
    "  \n",
    "Fonksiyon çağrısı, tanımın altında ve dışarıda olmalıdır (girintisiz).\n",
    "\n",
    "Fonksiyon gövdesine eklenen yeni ifadeler çağrıldığında çalışır."
   ]
  },
  {
   "cell_type": "code",
   "execution_count": 33,
   "id": "ba2b58bb-fb80-4926-b06c-edf38ed1770a",
   "metadata": {},
   "outputs": [
    {
     "name": "stdout",
     "output_type": "stream",
     "text": [
      "Woah, look at the weather outside! Don't walk, take the train!\n",
      "Welcome to Tripcademy!\n",
      "Let's get you to your destination.\n"
     ]
    }
   ],
   "source": [
    "def trip_welcome():\n",
    "    # Bu kod fonksiyonun bir parçasıdır (girintili)\n",
    "    print(\"Welcome to Tripcademy!\") \n",
    "    print(\"Let's get you to your destination.\")\n",
    "\n",
    "# Bu kod fonksiyonun dışında (girintisiz)\n",
    "print(\"Woah, look at the weather outside! Don't walk, take the train!\")\n",
    "\n",
    "trip_welcome()"
   ]
  },
  {
   "cell_type": "markdown",
   "id": "44de7daf-4008-4d4b-a40f-6d37a34c0c9e",
   "metadata": {},
   "source": [
    "Burada print() ifadesi fonksiyonun dışında olduğu için önce yürütülür. Python programları, yukarıdan aşağıya sırayla çalışır; bu düzene çalıştırma akışı (execution flow) denir."
   ]
  },
  {
   "cell_type": "markdown",
   "id": "0f12a776-649d-4061-a28f-fd0bb12932ab",
   "metadata": {},
   "source": [
    "## Proje ##\n",
    "\n",
    "**Adım 1:** Fonksiyon Tanımlayın\n",
    "   \n",
    "Bir generate_trip_instructions() fonksiyonu tanımlayın ve bir location parametresi ekleyin."
   ]
  },
  {
   "cell_type": "code",
   "execution_count": 53,
   "id": "9f10dc71-c904-44c7-9400-f5245c0e69b1",
   "metadata": {},
   "outputs": [],
   "source": [
    "def generate_trip_instructions(location):\n",
    "    pass # Geçici olarak boş bırakıyoruz"
   ]
  },
  {
   "cell_type": "markdown",
   "id": "2b352d78-6fc7-42f0-aec9-814dc48106e9",
   "metadata": {},
   "source": [
    "**Adım 2:** İlk Mesajı Yazdırın\n",
    "\n",
    "Fonksiyon, şu mesajı yazdırsın:\n",
    "\n",
    "\"Looks like you are planning a trip to visit <<location>>"
   ]
  },
  {
   "cell_type": "code",
   "execution_count": 64,
   "id": "8d1e1054-38af-4cfc-80bc-7219b0b5ed73",
   "metadata": {},
   "outputs": [],
   "source": [
    "def generate_trip_instructions(location):\n",
    "    print(\"Looks like you are planning a trip to visit \" + location)"
   ]
  },
  {
   "cell_type": "markdown",
   "id": "bf79abe2-bd02-4184-a5c7-4484c026e750",
   "metadata": {},
   "source": [
    "**Adım 4:** Fonksiyonu Çağırın\n",
    "\n",
    "Fonksiyonu \"Central Park\" argument’i ile çağırın."
   ]
  },
  {
   "cell_type": "code",
   "execution_count": 67,
   "id": "1d992332-5de1-4d8d-ae4d-da9738089e90",
   "metadata": {},
   "outputs": [
    {
     "name": "stdout",
     "output_type": "stream",
     "text": [
      "Looks like you are planning a trip to visit Central Park\n"
     ]
    }
   ],
   "source": [
    "generate_trip_instructions(\"Central Park\")"
   ]
  },
  {
   "cell_type": "markdown",
   "id": "4921bf77-878f-446d-afa4-cb53cdbfa367",
   "metadata": {},
   "source": [
    "**Adım 5:** Argümanı Değiştirin\n",
    "\n",
    "Fonksiyonu \"Grand Central Station\" argument’i ile tekrar çağırın."
   ]
  },
  {
   "cell_type": "code",
   "execution_count": 70,
   "id": "365221eb-3f1d-4d2d-bc99-e55e07486059",
   "metadata": {},
   "outputs": [
    {
     "name": "stdout",
     "output_type": "stream",
     "text": [
      "Looks like you are planning a trip to visit Grand Central Station\n"
     ]
    }
   ],
   "source": [
    "generate_trip_instructions(\"Grand Central Station\")"
   ]
  },
  {
   "cell_type": "markdown",
   "id": "d70da510-25a1-42ef-9b5b-774a97e8b6fe",
   "metadata": {},
   "source": [
    "**Çoklu Parametre Kullanımı:**\n",
    "\n",
    "Bir fonksiyon, birden fazla parametre alarak esnek ve çeşitli işlemler gerçekleştirebilir. Parametreler, fonksiyonun ihtiyaç duyduğu giriş verilerini belirtir ve bunlar, çağrıldığında belirtilen argümanlarla eşleştirilir."
   ]
  },
  {
   "cell_type": "code",
   "execution_count": 77,
   "id": "d64f498b-1a98-4a2e-b736-14be593321e5",
   "metadata": {},
   "outputs": [
    {
     "name": "stdout",
     "output_type": "stream",
     "text": [
      "Welcome to Tripcademy\n",
      "Looks like you are traveling from Prospect Park\n",
      "And you are heading to Atlantic Terminal\n"
     ]
    }
   ],
   "source": [
    "def trip_welcome(origin, destination): #parametreler\n",
    "    print(\"Welcome to Tripcademy\")\n",
    "    print(\"Looks like you are traveling from \" + origin)\n",
    "    print(\"And you are heading to \" + destination)\n",
    "\n",
    "trip_welcome(\"Prospect Park\", \"Atlantic Terminal\") #argümanlar"
   ]
  },
  {
   "cell_type": "markdown",
   "id": "a0cf3d6d-5f24-484f-acbd-c2763aee1e0b",
   "metadata": {},
   "source": [
    "## Proje: ##\n",
    "\n",
    "Seyahat Giderlerini Hesaplayan Bir Fonksiyon\n",
    "\n",
    "**Adım 1:** Fonksiyon Tanımlama\n",
    "\n",
    "Bir calculate_expenses() fonksiyonu oluşturun ve şu dört parametreyi tanımlayın:\n",
    "\n",
    "plane_ticket_price\n",
    "\n",
    "car_rental_rate\n",
    "\n",
    "hotel_rate\n",
    "\n",
    "trip_time"
   ]
  },
  {
   "cell_type": "code",
   "execution_count": 109,
   "id": "ae0e7d95-f07e-4ebb-a7f5-4de5f2856d76",
   "metadata": {},
   "outputs": [],
   "source": [
    "def calculate_expenses(plane_ticket_price, car_rental_rate, hotel_rate, trip_time):\n",
    "    pass"
   ]
  },
  {
   "cell_type": "markdown",
   "id": "c43c369d-935e-48c2-87fc-58648a132c99",
   "metadata": {},
   "source": [
    "**Adım 2:** Araç Kiralama Gideri\n",
    "\n",
    "car_rental_total adlı bir değişken oluşturun ve şu işlemi yapın:\n",
    "\n",
    "car_rental_rate * trip_time"
   ]
  },
  {
   "cell_type": "code",
   "execution_count": 112,
   "id": "a2660125-a94a-4cbb-b639-1c32ac62af57",
   "metadata": {},
   "outputs": [],
   "source": [
    "def calculate_expenses(plane_ticket_price, car_rental_rate, hotel_rate, trip_time):\n",
    "    car_rental_total = car_rental_rate * trip_time"
   ]
  },
  {
   "cell_type": "markdown",
   "id": "223587c7-8ce7-4f86-9f23-4c1dd17a3afb",
   "metadata": {},
   "source": [
    "**Adım 3:** Otel Gideri\n",
    "\n",
    "hotel_total adlı bir değişken oluşturun ve şu işlemi yapın:\n",
    "\n",
    "hotel_rate * trip_time - 10 (Kuponla 10 birim indirim uygulanır.)"
   ]
  },
  {
   "cell_type": "code",
   "execution_count": 115,
   "id": "47010f8e-283a-43d8-ab5c-367a13431367",
   "metadata": {},
   "outputs": [],
   "source": [
    "def calculate_expenses(plane_ticket_price, car_rental_rate, hotel_rate, trip_time):\n",
    "    car_rental_total = car_rental_rate * trip_time\n",
    "    hotel_total = hotel_rate * trip_time - 10"
   ]
  },
  {
   "cell_type": "markdown",
   "id": "dcde0026-46d9-48d1-8540-e7299ae46020",
   "metadata": {},
   "source": [
    "**Adım 4:** Toplam Gider\n",
    "\n",
    "trip_total adlı bir değişken oluşturun ve şu işlemi yapın:\n",
    "\n",
    "car_rental_total + hotel_total + plane_ticket_price"
   ]
  },
  {
   "cell_type": "code",
   "execution_count": 118,
   "id": "b8400ae5-9907-4120-9944-c2f0df2b9324",
   "metadata": {},
   "outputs": [],
   "source": [
    "def calculate_expenses(plane_ticket_price, car_rental_rate, hotel_rate, trip_time):\n",
    "    car_rental_total = car_rental_rate * trip_time\n",
    "    hotel_total = hotel_rate * trip_time - 10\n",
    "    trip_total = car_rental_total + hotel_total + plane_ticket_price\n",
    "    return trip_total"
   ]
  },
  {
   "cell_type": "markdown",
   "id": "e482e44b-2e73-48ee-8f22-9f2f0b327b14",
   "metadata": {},
   "source": [
    "**Adım 5:** Fonksiyonu Çağırma\n",
    "\n",
    "Fonksiyonu şu argümanlarla çağırın ve sonucu yazdırın:\n",
    "\n",
    "plane_ticket_price = 200\n",
    "\n",
    "car_rental_rate = 100\n",
    "\n",
    "hotel_rate = 100\n",
    "\n",
    "trip_time = 5"
   ]
  },
  {
   "cell_type": "code",
   "execution_count": 121,
   "id": "43e9c1db-4560-4db8-ae5d-71431b64ea7b",
   "metadata": {},
   "outputs": [
    {
     "name": "stdout",
     "output_type": "stream",
     "text": [
      "1190\n"
     ]
    }
   ],
   "source": [
    "total_cost = calculate_expenses(200, 100, 100, 5)\n",
    "print(total_cost)"
   ]
  },
  {
   "cell_type": "markdown",
   "id": "3f5b6472-2962-4533-981c-7a6196b86718",
   "metadata": {},
   "source": [
    "**Python'da Argüman Türleri**\n",
    "\n",
    "Python'da fonksiyonlara üç farklı türde argüman sağlayabiliriz:\n",
    "\n",
    "\n",
    "Positional Arguments (Konuma Bağlı Argümanlar):\n",
    "\n",
    "Argümanlar, fonksiyon tanımındaki parametrelerin sırasına göre atanır.\n",
    "\n",
    "\n",
    "Keyword Arguments (Anahtar Kelime Argümanları):\n",
    "\n",
    "Argümanlar, parametre isimleri ile atanır. Bu yöntemle argümanların sırası önemli değildir.\n",
    "\n",
    "\n",
    "Default Arguments (Varsayılan Argümanlar):\n",
    "\n",
    "Parametreler için varsayılan bir değer belirlenir. Bu sayede fonksiyon çağrılırken bu parametreye argüman sağlanmasa bile varsayılan değer kullanılır."
   ]
  },
  {
   "cell_type": "markdown",
   "id": "2d259722-4324-43e6-a710-c64883294d20",
   "metadata": {},
   "source": [
    "## Proje ##\n",
    "\n",
    "Adım 1: Fonksiyon Tanımlama\n",
    "   \n",
    "Bir trip_planner() fonksiyonu oluşturun ve şu üç parametreyi ekleyin:\n",
    "\n",
    "first_destination\n",
    "\n",
    "second_destination\n",
    "\n",
    "final_destination (varsayılan değer olarak \"Codecademy HQ\" verin.)\n",
    "\n",
    "Fonksiyonun başında şu mesajı yazdırın:\n",
    "\n",
    "\"Here is what your trip will look like!\""
   ]
  },
  {
   "cell_type": "code",
   "execution_count": 134,
   "id": "9cae5cbf-b7a3-438a-9e7d-2d0dad2a6f18",
   "metadata": {},
   "outputs": [],
   "source": [
    "def trip_planner(first_destination, second_destination, final_destination = \"Codecademy HQ\"):\n",
    "    print(\"Here is what your trip will look like!\")"
   ]
  },
  {
   "cell_type": "markdown",
   "id": "f141f02b-bd10-4443-8ced-919592f8af4a",
   "metadata": {},
   "source": [
    "**Adım 2: İtinerer Yazdırma**\n",
    "\n",
    "Kullanıcının duraklarını sırayla açıklayan bir mesaj yazdırın: \"First, we will stop in <first_destination>, then <second_destination>, and lastly <final_destination>\""
   ]
  },
  {
   "cell_type": "code",
   "execution_count": 140,
   "id": "fab26b54-92cb-4336-a4dc-af12a5094b1a",
   "metadata": {},
   "outputs": [
    {
     "name": "stdout",
     "output_type": "stream",
     "text": [
      "Here is what your trip will look like!\n",
      "First, we will stop in France, then Germany, and lastly Denmark.\n"
     ]
    }
   ],
   "source": [
    "def trip_planner(first_destination, second_destination, final_destination=\"Codecademy HQ\"):\n",
    "    print(\"Here is what your trip will look like!\")\n",
    "    print(f\"First, we will stop in {first_destination}, then {second_destination}, and lastly {final_destination}.\")\n",
    "\n",
    "#fonksiyonu çağıralım\n",
    "trip_planner(\"France\", \"Germany\", \"Denmark\")"
   ]
  },
  {
   "cell_type": "markdown",
   "id": "d6fd538e-1b09-48a9-a1bd-6fbac922fa2f",
   "metadata": {},
   "source": [
    "**Adım 3:** Argümanların Yerini Değiştirme"
   ]
  },
  {
   "cell_type": "code",
   "execution_count": 148,
   "id": "e81ea08c-047d-4215-b709-fb0dd11172dc",
   "metadata": {},
   "outputs": [
    {
     "name": "stdout",
     "output_type": "stream",
     "text": [
      "Here is what your trip will look like!\n",
      "First, we will stop in Denmark, then France, and lastly Germany.\n"
     ]
    }
   ],
   "source": [
    "trip_planner(\"Denmark\", \"France\", \"Germany\")"
   ]
  },
  {
   "cell_type": "markdown",
   "id": "487291e6-35ea-4bc7-8f63-5f67598160d0",
   "metadata": {},
   "source": [
    "**Adım 4:** Keyword Arguments Kullanma\n",
    "\n",
    "Fonksiyonu şu anahtar kelime argümanlarıyla çağırın:\n",
    "\n",
    "first_destination = \"Iceland\"\n",
    "\n",
    "final_destination = \"Germany\"\n",
    "\n",
    "second_destination = \"India\""
   ]
  },
  {
   "cell_type": "code",
   "execution_count": 151,
   "id": "2f35a21c-662f-427d-8953-a63d4561a8e9",
   "metadata": {},
   "outputs": [
    {
     "name": "stdout",
     "output_type": "stream",
     "text": [
      "Here is what your trip will look like!\n",
      "First, we will stop in Iceland, then India, and lastly Germany.\n"
     ]
    }
   ],
   "source": [
    "trip_planner(first_destination=\"Iceland\", final_destination=\"Germany\", second_destination=\"India\")"
   ]
  },
  {
   "cell_type": "markdown",
   "id": "472bff8f-32f6-4725-93e4-0e250fd2b140",
   "metadata": {},
   "source": [
    "**Adım 5:** Varsayılan Argümanı Kullanma\n",
    "\n",
    "Fonksiyonu sadece iki positional argument ile çağırarak varsayılan değeri kullanın:\n",
    "\n",
    "first_destination: \"Brooklyn\"\n",
    "\n",
    "second_destination: \"Queens\""
   ]
  },
  {
   "cell_type": "code",
   "execution_count": 154,
   "id": "0cfb0757-cc02-4fbd-b1d3-fc77fba1c297",
   "metadata": {},
   "outputs": [
    {
     "name": "stdout",
     "output_type": "stream",
     "text": [
      "Here is what your trip will look like!\n",
      "First, we will stop in Brooklyn, then Queens, and lastly Codecademy HQ.\n"
     ]
    }
   ],
   "source": [
    "trip_planner(\"Brooklyn\", \"Queens\")"
   ]
  },
  {
   "cell_type": "markdown",
   "id": "2c6dfb26-499f-48ea-a358-720512effae3",
   "metadata": {},
   "source": [
    "**Yerleşik İşlevler vs Kullanıcı Tanımlı İşlevler**\n",
    "    \n",
    "Python'da iki ana fonksiyon türü vardır:\n",
    "\n",
    "Kullanıcı Tanımlı Fonksiyonlar: Kullanıcılar tarafından yazılan fonksiyonlar.\n",
    "\n",
    "Yerleşik Fonksiyonlar: Python tarafından sağlanan print(), len(), max(), vb. gibi önceden tanımlanmış fonksiyonlar."
   ]
  },
  {
   "cell_type": "code",
   "execution_count": 157,
   "id": "68feb139-3186-4014-8cbe-d532c852de75",
   "metadata": {},
   "outputs": [
    {
     "name": "stdout",
     "output_type": "stream",
     "text": [
      "28\n"
     ]
    }
   ],
   "source": [
    "# Bir dizenin uzunluğunu bulmak için yerleşik len() işlevini kullanma\n",
    "\n",
    "destination_name = \"Venkatanarasimharajuvaripeta\"\n",
    "length_of_destination = len(destination_name)\n",
    "\n",
    "print(length_of_destination)"
   ]
  },
  {
   "cell_type": "markdown",
   "id": "dd455074-d2fd-4e4c-9907-02d614ba5258",
   "metadata": {},
   "source": [
    "## Proje ##\n",
    "\n",
    "**Adım 1:**  En Yüksek Fiyatı Bulma\n",
    "\n",
    "max() fonksiyonunu kullanarak en yüksek fiyatı bulun ve sonucu max_price değişkenine kaydedin."
   ]
  },
  {
   "cell_type": "code",
   "execution_count": 159,
   "id": "c7ce2885-7a32-4deb-b31a-e09179f910a4",
   "metadata": {},
   "outputs": [
    {
     "name": "stdout",
     "output_type": "stream",
     "text": [
      "15.5\n"
     ]
    }
   ],
   "source": [
    "tshirt_price = 9.75\n",
    "shorts_price = 15.50\n",
    "mug_price = 5.99\n",
    "poster_price = 2.00\n",
    "\n",
    "max_price = max(tshirt_price, shorts_price, mug_price, poster_price)\n",
    "\n",
    "print(max_price)"
   ]
  },
  {
   "cell_type": "markdown",
   "id": "ee1fa03d-8e79-41f2-af7b-8e21f27f15f2",
   "metadata": {},
   "source": [
    "min() fonksiyonunu kullanarak en düşük fiyatı bulun ve sonucu min_price değişkenine kaydedin."
   ]
  },
  {
   "cell_type": "code",
   "execution_count": 161,
   "id": "4d60855b-ab09-4a8b-a398-57687f2f3891",
   "metadata": {},
   "outputs": [
    {
     "name": "stdout",
     "output_type": "stream",
     "text": [
      "2.0\n"
     ]
    }
   ],
   "source": [
    "min_price = min(tshirt_price, shorts_price, mug_price, poster_price)\n",
    "\n",
    "print(min_price)"
   ]
  },
  {
   "cell_type": "markdown",
   "id": "946409d5-55dc-4f99-88e7-f77a67f60016",
   "metadata": {},
   "source": [
    "**Adım 2:** T-shirt Fiyatını Yuvarlama\n",
    "\n",
    "round() fonksiyonunu kullanarak tshirt_price değişkenini bir ondalık basamağa yuvarlayın. Sonucu rounded_price değişkenine kaydedin ve yazdırın."
   ]
  },
  {
   "cell_type": "code",
   "execution_count": 164,
   "id": "44a62bf7-1cc9-4a64-9912-5d1ea2f1258b",
   "metadata": {},
   "outputs": [
    {
     "name": "stdout",
     "output_type": "stream",
     "text": [
      "9.8\n"
     ]
    }
   ],
   "source": [
    "rounded_price = round(tshirt_price, 1) #1 ondalık basamağa yuvarlanır. Yani virgülden sonra 1 sayı olsun istedik.\n",
    "\n",
    "print(rounded_price)"
   ]
  },
  {
   "cell_type": "markdown",
   "id": "30f822e4-649b-4771-8a6d-5b889f0f2689",
   "metadata": {},
   "source": [
    "**Değişken Erişimi**\n",
    "\n",
    "Programlarımızı daha fazla fonksiyonla genişletirken, değişkenlere nerede erişebileceğimizi sorgulamaya başlarız. Bunun cevabı, bir değişkenin scope (etki alanı) ile ilgilidir."
   ]
  },
  {
   "cell_type": "code",
   "execution_count": 3,
   "id": "2e78f3de-bea6-437e-8907-d0f57964b09d",
   "metadata": {},
   "outputs": [
    {
     "ename": "NameError",
     "evalue": "name 'destination' is not defined",
     "output_type": "error",
     "traceback": [
      "\u001b[1;31m---------------------------------------------------------------------------\u001b[0m",
      "\u001b[1;31mNameError\u001b[0m                                 Traceback (most recent call last)",
      "Cell \u001b[1;32mIn[3], line 4\u001b[0m\n\u001b[0;32m      1\u001b[0m \u001b[38;5;28;01mdef\u001b[39;00m \u001b[38;5;21mtrip_welcome\u001b[39m(destination):\n\u001b[0;32m      2\u001b[0m     \u001b[38;5;28mprint\u001b[39m(\u001b[38;5;124m\"\u001b[39m\u001b[38;5;124mLooks like you\u001b[39m\u001b[38;5;124m'\u001b[39m\u001b[38;5;124mre going to the \u001b[39m\u001b[38;5;124m\"\u001b[39m \u001b[38;5;241m+\u001b[39m destination \u001b[38;5;241m+\u001b[39m \u001b[38;5;124m\"\u001b[39m\u001b[38;5;124m today.\u001b[39m\u001b[38;5;124m\"\u001b[39m)\n\u001b[1;32m----> 4\u001b[0m \u001b[38;5;28mprint\u001b[39m(destination)\n",
      "\u001b[1;31mNameError\u001b[0m: name 'destination' is not defined"
     ]
    }
   ],
   "source": [
    "def trip_welcome(destination):\n",
    "    print(\"Looks like you're going to the \" + destination + \" today.\")\n",
    "\n",
    "print(destination)  # Hata verir."
   ]
  },
  {
   "cell_type": "markdown",
   "id": "ee704d60-3b2e-476c-986f-2ca3b7810f4d",
   "metadata": {},
   "source": [
    "Hata:\n",
    "\n",
    "Bu kod çalıştırıldığında, destination değişkenine fonksiyonun dışında erişilmeye çalışıldığında NameError oluşur. Çünkü destination yalnızca trip_welcome() fonksiyonunun içinde kullanılabilir (lokal etki alanı)."
   ]
  },
  {
   "cell_type": "code",
   "execution_count": 5,
   "id": "660e8627-abeb-40e5-b8fd-1b279026fe73",
   "metadata": {},
   "outputs": [
    {
     "name": "stdout",
     "output_type": "stream",
     "text": [
      "1000\n",
      "Looks like you're going to California\n",
      "Your budget for this trip is 1000\n"
     ]
    }
   ],
   "source": [
    "budget = 1000\n",
    "\n",
    "def trip_welcome(destination=\"California\"):\n",
    "    print(\"Looks like you're going to \" + destination)\n",
    "    print(\"Your budget for this trip is \" + str(budget))\n",
    "\n",
    "print(budget)         # Fonksiyon dışında kullanılabilir\n",
    "trip_welcome()        # Fonksiyon içinde de kullanılabilir"
   ]
  },
  {
   "cell_type": "markdown",
   "id": "425f32d8-43bd-4ba3-bd67-0935788c5a97",
   "metadata": {},
   "source": [
    "**Açıklama:**\n",
    "\n",
    "Eğer bir değişken bir fonksiyonun dışında tanımlandıysa (global etki alanında), hem fonksiyon içinde hem de dışında kullanılabilir."
   ]
  },
  {
   "cell_type": "code",
   "execution_count": 11,
   "id": "99261328-93e5-488d-8ebf-89af8325d360",
   "metadata": {},
   "outputs": [
    {
     "name": "stdout",
     "output_type": "stream",
     "text": [
      "Your favorite locations are: ['Paris', 'New York']\n"
     ]
    }
   ],
   "source": [
    "# Değişkeni global scope'da tanımlayın\n",
    "favorite_locations = []\n",
    "\n",
    "def add_favorite_location(location):\n",
    "    favorite_locations.append(location)\n",
    "\n",
    "def show_favorite_locations():\n",
    "    print(\"Your favorite locations are: \" + str(favorite_locations))\n",
    "\n",
    "# Favori mekanları ekle\n",
    "add_favorite_location(\"Paris\")\n",
    "add_favorite_location(\"New York\")\n",
    "\n",
    "show_favorite_locations()"
   ]
  },
  {
   "cell_type": "markdown",
   "id": "bb760c85-208c-4f97-8d87-3acb40dc67ec",
   "metadata": {},
   "source": [
    "**Özet:**\n",
    "\n",
    "Lokal Scope: Değişken yalnızca tanımlandığı fonksiyon içinde erişilebilir.\n",
    "    \n",
    "Global Scope: Değişken fonksiyonların dışında tanımlandığında, tüm fonksiyonlardan erişilebilir.\n",
    "\n",
    "Sorunu çözmek için favorite_locations değişkenini global scope’a taşıdık."
   ]
  },
  {
   "cell_type": "markdown",
   "id": "d576745c-0050-4668-bd0e-8ffbd81855bf",
   "metadata": {},
   "source": [
    "**Fonksiyonlar ve return Kullanımı**\n",
    "\n",
    "Fonksiyonlar yalnızca değerleri yazdırmakla kalmaz, aynı zamanda hesaplamalar yaparak bu değerleri döndürebilir. Python'da return anahtar kelimesi, bir fonksiyonun sonucunu döndürmek\n",
    "\n",
    "için kullanılır. Döndürülen değer, başka bir değişkene atanabilir ve programda tekrar kullanılabilir."
   ]
  },
  {
   "cell_type": "markdown",
   "id": "c987de1b-1a28-449e-b5e2-3fea71825603",
   "metadata": {},
   "source": [
    "## Proje ##\n",
    "\n",
    "Bütçe Takip Sistemi\n",
    "\n",
    "**Adım 1:** Harcama Fonksiyonu Tanımlama\n",
    "    \n",
    "Bir deduct_expense() fonksiyonu oluşturun. Bu fonksiyon:\n",
    "\n",
    "budget: Kullanıcının mevcut bütçesini alır.\n",
    "    \n",
    "expense: Kullanıcının yaptığı harcamayı alır.\n",
    "\n",
    "Bütçeden harcamayı çıkarır ve sonucu döndürür."
   ]
  },
  {
   "cell_type": "code",
   "execution_count": 16,
   "id": "8b12496d-191f-4134-9a15-0781f659d935",
   "metadata": {},
   "outputs": [],
   "source": [
    "def deduct_expense(budget, expense):\n",
    "    return budget - expense"
   ]
  },
  {
   "cell_type": "markdown",
   "id": "b1db66d9-4746-490e-aa26-814f698d853b",
   "metadata": {},
   "source": [
    "**Adım 2:** T-shirt Harcaması Değeri Tanımlama\n",
    "\n",
    "Harcamayı temsil eden bir değişken oluşturun:\n",
    "\n",
    "shirt_expense: T-shirt için sabit bir harcama değeri (örneğin, 9)."
   ]
  },
  {
   "cell_type": "code",
   "execution_count": 19,
   "id": "f197be42-abe1-4d81-ad72-ce771873c077",
   "metadata": {},
   "outputs": [],
   "source": [
    "shirt_expense = 9"
   ]
  },
  {
   "cell_type": "markdown",
   "id": "6a439e2f-7967-40d9-8c7e-4fa038ec0b6b",
   "metadata": {},
   "source": [
    "**Adım 3:** Yeni Bütçeyi Hesaplama\n",
    "\n",
    "deduct_expense() fonksiyonunu çağırın.\n",
    "    \n",
    "current_budget değişkenini ve shirt_expense değerini argüman olarak geçin.\n",
    "    \n",
    "Sonucu new_budget_after_shirt değişkenine kaydedin."
   ]
  },
  {
   "cell_type": "code",
   "execution_count": 34,
   "id": "773da886-8d28-4fa5-884a-830d9b2160e4",
   "metadata": {},
   "outputs": [],
   "source": [
    "current_budget = 100  # Örnek başlangıç bütçesi\n",
    "new_budget_after_shirt = deduct_expense(current_budget, shirt_expense)"
   ]
  },
  {
   "cell_type": "markdown",
   "id": "e2392abf-000b-4abb-8005-1f9864695040",
   "metadata": {},
   "source": [
    "**Adım 4:** Kalan Bütçeyi Yazdırma\n",
    "\n",
    "Kalan bütçeyi göstermek için sağlanan print_remaining_budget() fonksiyonunu yazdırın ve çağırın:\n",
    "\n",
    "Argüman olarak new_budget_after_shirt değerini geçin."
   ]
  },
  {
   "cell_type": "code",
   "execution_count": 37,
   "id": "5585977f-58e5-4044-965a-2f1338e38564",
   "metadata": {},
   "outputs": [],
   "source": [
    "def print_remaining_budget(budget):\n",
    "    print(\"Your remaining budget is: \" + str(budget))"
   ]
  },
  {
   "cell_type": "code",
   "execution_count": 39,
   "id": "f9f8cb76-209d-4a12-8a06-9ee70013f187",
   "metadata": {},
   "outputs": [
    {
     "name": "stdout",
     "output_type": "stream",
     "text": [
      "Your remaining budget is: 91\n"
     ]
    }
   ],
   "source": [
    "print_remaining_budget(new_budget_after_shirt)"
   ]
  },
  {
   "cell_type": "markdown",
   "id": "dbfc11ca-9015-484a-9371-da4bc8002d63",
   "metadata": {},
   "source": [
    "**Bir Fonksiyondan Birden Fazla Değer Döndürme**\n",
    "\n",
    "Python'da bir fonksiyondan birden fazla değer döndürmek için return anahtar kelimesini ve değerleri virgülle ayırarak kullanabilirsiniz. Bu yöntem, bir fonksiyonun birden fazla çıktısını aynı anda döndürmesine olanak tanır."
   ]
  },
  {
   "cell_type": "code",
   "execution_count": 52,
   "id": "7f00b215-28e2-4b44-9c39-ef831f581e9b",
   "metadata": {},
   "outputs": [
    {
     "name": "stdout",
     "output_type": "stream",
     "text": [
      "Tomorrow the weather will be Sunny\n",
      "The following day it will be Sunny\n",
      "Two days from now it will be Cloudy\n"
     ]
    }
   ],
   "source": [
    "#Örnek: Hava Durumu Tahmini\n",
    "\n",
    "weather_data = ['Sunny', 'Sunny', 'Cloudy', 'Raining', 'Snowing']\n",
    "\n",
    "def threeday_weather_report(weather):\n",
    "    first_day = \"Tomorrow the weather will be \" + weather[0]\n",
    "    second_day = \"The following day it will be \" + weather[1]\n",
    "    third_day = \"Two days from now it will be \" + weather[2]\n",
    "    return first_day, second_day, third_day\n",
    "\n",
    "# Fonksiyondan dönen değerler 3 ayrı değişkene atanır\n",
    "monday, tuesday, wednesday = threeday_weather_report(weather_data)\n",
    "\n",
    "print(monday)\n",
    "print(tuesday)\n",
    "print(wednesday)"
   ]
  },
  {
   "cell_type": "markdown",
   "id": "9ba5971b-2947-4aa9-854d-8bc2f891df0c",
   "metadata": {},
   "source": [
    "## Proje ## \n",
    "\n",
    "Görev: İtalya'da Turistik Yerler\n",
    "\n",
    "Bir fonksiyon yazıp, İtalya'nın en popüler üç turistik yerini döndürmek ve bu değerleri ayrı değişkenlere atayıp yazdırmak."
   ]
  },
  {
   "cell_type": "markdown",
   "id": "6d49d965-9169-44be-8c45-8d64ccd22f91",
   "metadata": {},
   "source": [
    "**Adım 1:** Mevcut Kodu İnceleyin\n",
    "Fonksiyon zaten yazılmış ancak henüz herhangi bir değer döndürmüyor. Fonksiyonun yapısını anlamak için mevcut kodu gözden geçirin."
   ]
  },
  {
   "cell_type": "code",
   "execution_count": 56,
   "id": "0302f7a5-576e-4393-a3ca-ba6e123655e3",
   "metadata": {},
   "outputs": [],
   "source": [
    "def top_tourist_locations_italy():\n",
    "    first = \"Colosseum\"\n",
    "    second = \"Venice Canals\"\n",
    "    third = \"Leaning Tower of Pisa\"\n",
    "    # Değerleri henüz döndürmüyor"
   ]
  },
  {
   "cell_type": "markdown",
   "id": "84a84cdc-e147-400e-9687-4e779fc8b6c4",
   "metadata": {},
   "source": [
    "**Adım 2:** return İfadesini Ekleyin\n",
    "\n",
    "Fonksiyonun sonunda first, second, ve third değerlerini sırasıyla döndüren bir return ifadesi ekleyin."
   ]
  },
  {
   "cell_type": "code",
   "execution_count": 59,
   "id": "399e9657-a976-4699-bebc-4c1dc8fd453d",
   "metadata": {},
   "outputs": [],
   "source": [
    "def top_tourist_locations_italy():\n",
    "    first = \"Colosseum\"\n",
    "    second = \"Venice Canals\"\n",
    "    third = \"Leaning Tower of Pisa\"\n",
    "    return first, second, third"
   ]
  },
  {
   "cell_type": "markdown",
   "id": "12c61d43-6d9b-466e-82fb-947510a95c7f",
   "metadata": {},
   "source": [
    "**Adım 3:** Dönen Değerleri Değişkenlere Atama\n",
    "\n",
    "Fonksiyondan dönen değerleri most_popular1, most_popular2, ve most_popular3 adlı üç değişkene atayın."
   ]
  },
  {
   "cell_type": "code",
   "execution_count": 62,
   "id": "c6d9dcaa-125f-489d-9aec-18cfcc60916f",
   "metadata": {},
   "outputs": [],
   "source": [
    "most_popular1, most_popular2, most_popular3 = top_tourist_locations_italy()"
   ]
  },
  {
   "cell_type": "markdown",
   "id": "6298e5cc-f879-4938-8600-2e7df073b3d2",
   "metadata": {},
   "source": [
    "**Adım 4:** Değişkenleri Yazdırma\n",
    "\n",
    "Değişkenlerin içeriğini ayrı ayrı yazdırmak için üç print() ifadesi ekleyin."
   ]
  },
  {
   "cell_type": "code",
   "execution_count": 69,
   "id": "5bbcf675-f687-4f04-9242-759d3f452bce",
   "metadata": {},
   "outputs": [
    {
     "name": "stdout",
     "output_type": "stream",
     "text": [
      "Colosseum\n",
      "Venice Canals\n",
      "Leaning Tower of Pisa\n"
     ]
    }
   ],
   "source": [
    "print(most_popular1)\n",
    "print(most_popular2)\n",
    "print(most_popular3)"
   ]
  },
  {
   "cell_type": "markdown",
   "id": "feeb13a9-d460-4370-818d-cc79d4a042ea",
   "metadata": {},
   "source": [
    "# Proje #\n",
    "\n",
    "TripPlanner Uygulaması V1.0\n",
    "\n",
    "Bu derste öğrendiğimiz tüm fonksiyonel programlama kavramlarını kullanarak TripPlanner V1.0 adlı bir seyahat planlama uygulaması oluşturacağız. Aşağıda adım adım açıklamalar yer alıyor:"
   ]
  },
  {
   "cell_type": "markdown",
   "id": "0269fc96-0f5f-42c3-8f63-0c824ebd9f37",
   "metadata": {},
   "source": [
    "**Adım 1:** Kullanıcı Karşılama Fonksiyonu\n",
    "\n",
    "Kullanıcıları uygulamaya davet eden bir fonksiyon oluşturun:\n",
    "\n",
    "Fonksiyon Adı: trip_planner_welcome()\n",
    "\n",
    "Parametre: name (Kullanıcının adı)\n",
    "\n",
    "Görev: Kullanıcının adını içeren bir hoş geldiniz mesajı yazdırmak."
   ]
  },
  {
   "cell_type": "code",
   "execution_count": 89,
   "id": "2610a14c-dcdf-4004-ac25-b8173f5fdfbe",
   "metadata": {},
   "outputs": [
    {
     "name": "stdout",
     "output_type": "stream",
     "text": [
      "Welcome to tripplanner v1.0 John\n"
     ]
    }
   ],
   "source": [
    "def trip_planner_welcome(name):\n",
    "    print(\"Welcome to tripplanner v1.0 \" + name)\n",
    "\n",
    "trip_planner_welcome(\"John\")"
   ]
  },
  {
   "cell_type": "markdown",
   "id": "3f15f032-d840-4995-b6ed-1b9beb187aa3",
   "metadata": {},
   "source": [
    "**Adım 2:** Yuvarlanmış Zaman Hesaplama Fonksiyonu\n",
    "\n",
    "Bir seyahat süresini tam sayı değerine yuvarlayan bir fonksiyon oluşturun:\n",
    "\n",
    "Fonksiyon Adı: estimated_time_rounded()\n",
    "\n",
    "Parametre: estimated_time (Ondalıklı saat)\n",
    "\n",
    "Görev: Verilen süreyi round() fonksiyonunu kullanarak yuvarlayın ve sonucu döndürün."
   ]
  },
  {
   "cell_type": "code",
   "execution_count": 99,
   "id": "8391affd-bdf6-423a-838f-b43166e5aabb",
   "metadata": {},
   "outputs": [
    {
     "name": "stdout",
     "output_type": "stream",
     "text": [
      "2\n"
     ]
    }
   ],
   "source": [
    "def estimated_time_rounded(estimated_time):\n",
    "    return round(estimated_time)\n",
    "\n",
    "result = estimated_time_rounded(2.5)\n",
    "print(result)"
   ]
  },
  {
   "cell_type": "markdown",
   "id": "bd156779-2193-49ad-8b91-e9ec1ebbb7c2",
   "metadata": {},
   "source": [
    "**Adım 3:** Seyahat Bilgisi Ayar Fonksiyonu\n",
    "\n",
    "Kullanıcıya planlanan seyahat bilgilerini gösteren bir fonksiyon oluşturun:\n",
    "\n",
    "Fonksiyon Adı: destination_setup()\n",
    "\n",
    "Parametreler:\n",
    "\n",
    "origin (Başlangıç noktası, metin)\n",
    "\n",
    "destination (Varış noktası, metin)\n",
    "\n",
    "estimated_time (Tahmini süre, sayı)\n",
    "\n",
    "mode_of_transport (Taşıma modu, varsayılan \"Car\")\n",
    "\n",
    "Görev: Seyahat detaylarını yazdırmak."
   ]
  },
  {
   "cell_type": "code",
   "execution_count": 104,
   "id": "e9e0a7c5-ffaf-4585-9b95-d02da937e147",
   "metadata": {},
   "outputs": [
    {
     "name": "stdout",
     "output_type": "stream",
     "text": [
      "Your trip starts off in New York\n",
      "And you are traveling to Los Angeles\n",
      "You will be traveling by Plane\n",
      "It will take approximately 5 hours\n"
     ]
    }
   ],
   "source": [
    "def destination_setup(origin, destination, estimated_time, mode_of_transport=\"Car\"):\n",
    "    print(\"Your trip starts off in \" + origin)\n",
    "    print(\"And you are traveling to \" + destination)\n",
    "    print(\"You will be traveling by \" + mode_of_transport)\n",
    "    print(\"It will take approximately \" + str(estimated_time) + \" hours\")\n",
    "\n",
    "destination_setup(\"New York\", \"Los Angeles\", 5, \"Plane\")"
   ]
  },
  {
   "cell_type": "code",
   "execution_count": 106,
   "id": "c6ca4d67-fbe6-4988-8820-e0154a5974b7",
   "metadata": {},
   "outputs": [
    {
     "name": "stdout",
     "output_type": "stream",
     "text": [
      "Welcome to tripplanner v1.0 Alice\n",
      "Your trip starts off in Boston\n",
      "And you are traveling to Miami\n",
      "You will be traveling by Train\n",
      "It will take approximately 8 hours\n"
     ]
    }
   ],
   "source": [
    "trip_planner_welcome(\"Alice\")\n",
    "estimate = estimated_time_rounded(7.8)\n",
    "destination_setup(\"Boston\", \"Miami\", estimate, \"Train\")"
   ]
  },
  {
   "cell_type": "markdown",
   "id": "6e772315-1ca5-4103-9a9a-b49fd70dd0a5",
   "metadata": {},
   "source": [
    "**Kontrol Akışına Giriş**\n",
    "\n",
    "Sabah uyandığınızı düşünün. İlk sorunuz şu olabilir: \"Bugün hafta içi mi?\" Eğer öyleyse, kalkıp hazırlanmalı ve işe ya da okula gitmelisiniz. Değilse, biraz daha uyuyabilirsiniz.\n",
    "\n",
    "Ancak, hafta içi olduğunu fark ediyorsunuz ve hazırlanıyorsunuz. Sonra dışarı bakıyorsunuz: \"Hava nasıl? Şemsiye almam gerekiyor mu?\"\n",
    "\n",
    "\n",
    "Bu tür sorular ve kararlar, sabah rutininizi kontrol eder. Bilgisayarlar da bir program çalıştırırken benzer bir akış izler. Program, çalıştırılacak kodun koşullarını kontrol eder:\n",
    "\n",
    "Bu koşul sağlandı mı? O zaman şu işlemi yap. Sağlanmadı mı? O zaman başka bir şey yap.\n",
    "\n",
    "\n",
    "Bu akışa \"kontrol akışı\" denir. Python’da kodlar yukarıdan aşağıya doğru sırayla çalıştırılır. Ancak, programınızda belirli koşullara bağlı olarak farklı kod bloklarının çalışmasını \n",
    "\n",
    "isteyebilirsiniz. Bunun için \"koşullu ifadeler\" kullanılır. Bu ifadeler, bilgisayara hangi durumda hangi kod bloğunu çalıştırması gerektiğini söyler.\n",
    "\n",
    "\n",
    "Bu derste, kontrol akışını yönetmek için boolean ifadeleri kullanmayı ve koşullu ifadeler yazmayı öğreneceksiniz."
   ]
  },
  {
   "cell_type": "markdown",
   "id": "55522f62-8092-4146-a4f3-97824459d6f6",
   "metadata": {},
   "source": [
    "**Boolean İfadeler**\n",
    "\n",
    "Kontrol akışı oluşturmak için bir koşulun doğru ya da yanlış olup olmadığını kontrol etmemiz gerekir. Bunun için Boolean ifadeler kullanılır. Boolean ifadeleri, sadece doğru (True)\n",
    "\n",
    "veya yanlış (False) olarak yanıtlanabilen ve kanıtlanabilir ifadelerdir. Bu ifadeler yoruma ya da kişisel görüşe dayanmaz. True ve False Python’da bool türüne ait özel değerlerdir.\n",
    "\n",
    "Bool değişkenleri, sadece True veya False değerlerini alabilir.\n",
    "\n",
    "**Önemli Noktalar:**\n",
    "\n",
    "Boolean değerleri büyük harfle başlar (True, False).\n",
    "\n",
    "String \"true\" veya \"false\", boolean değildir.\n",
    "\n",
    "**Örnekler:**\n",
    "\n",
    "\"Bugün hafta içi.\"\n",
    "\n",
    "Bu ifade bir Boolean ifadesidir çünkü yanıt doğru veya yanlış olabilir ve bu, kanıtlanabilir bir durumdur.\n",
    "\n",
    "\n",
    "\"Cuma, haftanın en iyi günüdür.\"\n",
    "\n",
    "Bu bir Boolean ifadesi değildir çünkü bu ifade kişisel bir görüştür ve nesnel bir şekilde doğrulanamaz.\n",
    "\n",
    "\n",
    "\"Pazar 'C' harfiyle başlar.\"\n",
    "\n",
    "Bu bir Boolean ifadesidir. Yanıt yanlış olsa da, ifade nesnel olarak doğrulanabilir.\n",
    "\n",
    "\n",
    "İfade: Dünya Güneş etrafında döner.\n",
    "\n",
    "Bu ifade bir Boolean ifadesidir çünkü yanıt doğru ve kanıtlanabilir. first_statement = \"Yes\"\n",
    "\n",
    "\n",
    "İfade: Ay peynirdendir.\n",
    "\n",
    "Bu da bir Boolean ifadesidir çünkü yanıt yanlış olsa bile, bu durum kanıtlanabilir. second_statement = \"Yes\"\n",
    "\n",
    "\n",
    "İfade: Çikolatalı dondurma, vanilyalı dondurmadan daha lezzetlidir.\n",
    "\n",
    "Bu ifade kişisel bir görüş olduğu için bir Boolean ifadesi değildir. third_statement = \"No\""
   ]
  },
  {
   "cell_type": "markdown",
   "id": "3e105ed7-ecca-47d8-90a5-062bf52c1909",
   "metadata": {},
   "source": [
    "**Relational Operators**\n",
    "\n",
    "Özet:\n",
    "  \n",
    "Relational (ilişkisel) operatörler, iki değeri karşılaştırarak True veya False döndüren operatörlerdir. İki temel relational operatör şunlardır:\n",
    "\n",
    "1. Eşitlik Operatörü (==): İki operand eşitse True, değilse False döner.\n",
    "\n",
    "2. Eşit Değil Operatörü (!=): İki operand farklıysa True, aynıysa False döner.\n",
    "\n",
    "3. : Büyüktür\n",
    "   \n",
    "4. , >=: Büyük eşittir\n",
    "   \n",
    "5. <: Küçüktür\n",
    "\n",
    "6. <=: Küçük eşittir"
   ]
  },
  {
   "cell_type": "markdown",
   "id": "32aae053-f0c7-4b6b-9818-3b9aac035212",
   "metadata": {},
   "source": [
    "**Boolean Operators:** and\n",
    "\n",
    "and Operatörü:\n",
    "    \n",
    "and ile birleştirilen iki boolean ifade, her iki ifade de doğruysa (True) genel ifade True olur. Eğer bir tanesi bile yanlışsa (False), sonuç False olur."
   ]
  },
  {
   "cell_type": "code",
   "execution_count": 117,
   "id": "e7f4cdb0-a43a-4842-9973-7c4cce6ad141",
   "metadata": {},
   "outputs": [
    {
     "data": {
      "text/plain": [
       "False"
      ]
     },
     "execution_count": 117,
     "metadata": {},
     "output_type": "execute_result"
    }
   ],
   "source": [
    "(1 + 1 == 2) and (2 + 2 == 4)  "
   ]
  },
  {
   "cell_type": "code",
   "execution_count": 119,
   "id": "b55800db-ec0f-4aa9-8908-a2073d42c5dc",
   "metadata": {},
   "outputs": [
    {
     "data": {
      "text/plain": [
       "False"
      ]
     },
     "execution_count": 119,
     "metadata": {},
     "output_type": "execute_result"
    }
   ],
   "source": [
    "(1 > 9) and (5 != 6)           "
   ]
  },
  {
   "cell_type": "code",
   "execution_count": 121,
   "id": "c142f65e-2668-4ad8-b8c3-ec6f5c58e56c",
   "metadata": {},
   "outputs": [
    {
     "data": {
      "text/plain": [
       "False"
      ]
     },
     "execution_count": 121,
     "metadata": {},
     "output_type": "execute_result"
    }
   ],
   "source": [
    "(1 + 1 == 2) and (2 < 1)   "
   ]
  },
  {
   "cell_type": "markdown",
   "id": "8b308cd7-0dd7-461c-a7e9-1f896d7943b5",
   "metadata": {},
   "source": [
    "Boolean Operators: or\n",
    "    \n",
    "or ile birleştirilen iki boolean ifadeden en az biri True ise genel ifade True olur.\n",
    "    \n",
    "İki ifade de False ise, sonuç False olur."
   ]
  },
  {
   "cell_type": "code",
   "execution_count": 123,
   "id": "6f60be99-085e-4cca-8182-d9bda50c34ac",
   "metadata": {},
   "outputs": [
    {
     "data": {
      "text/plain": [
       "True"
      ]
     },
     "execution_count": 123,
     "metadata": {},
     "output_type": "execute_result"
    }
   ],
   "source": [
    "True or (3 + 4 == 7)    "
   ]
  },
  {
   "cell_type": "code",
   "execution_count": 125,
   "id": "afb4e681-62f9-49a9-bd7f-b2705f734571",
   "metadata": {},
   "outputs": [
    {
     "data": {
      "text/plain": [
       "False"
      ]
     },
     "execution_count": 125,
     "metadata": {},
     "output_type": "execute_result"
    }
   ],
   "source": [
    "(3 == 8) or (3 > 4)     # False"
   ]
  },
  {
   "cell_type": "code",
   "execution_count": null,
   "id": "c3970092-42c8-4254-996a-1a684be20f2d",
   "metadata": {},
   "outputs": [],
   "source": [
    "**Boolean Operators:** not\n",
    "\n",
    "Bir boolean ifadenin sonucunu tersine çevirir."
   ]
  },
  {
   "cell_type": "code",
   "execution_count": 127,
   "id": "156563a7-55f4-4487-8a08-0c5c057faa3d",
   "metadata": {},
   "outputs": [
    {
     "data": {
      "text/plain": [
       "False"
      ]
     },
     "execution_count": 127,
     "metadata": {},
     "output_type": "execute_result"
    }
   ],
   "source": [
    "not True"
   ]
  },
  {
   "cell_type": "code",
   "execution_count": 129,
   "id": "3e69810f-e577-4511-9ef3-94a1858547ad",
   "metadata": {},
   "outputs": [
    {
     "data": {
      "text/plain": [
       "False"
      ]
     },
     "execution_count": 129,
     "metadata": {},
     "output_type": "execute_result"
    }
   ],
   "source": [
    "not (4 > 3)"
   ]
  },
  {
   "cell_type": "markdown",
   "id": "7b9f275d-e6cb-40fe-973f-7366fc9f81a1",
   "metadata": {},
   "source": [
    "# İf & Elif & Else #\n",
    "\n",
    "If Statement Nedir?\n",
    "\n",
    "If statement, bir koşulun doğru olup olmadığını kontrol eder ve doğruysa belirli bir kod bloğunu çalıştırır."
   ]
  },
  {
   "cell_type": "markdown",
   "id": "8726a985-4ea7-4bdc-93df-f70343b62598",
   "metadata": {},
   "source": [
    "**Görev 1:**\n",
    "\n",
    "credits = 130\n",
    "\n",
    "gpa = 2.5\n",
    "\n",
    "Calvin Coolidge's Cool College'da mezuniyet için hem 120 kredi hem de 2.0 veya daha yüksek bir GPA gerekiyor. Eğer koşullar sağlanırsa \"You meet the requirements to graduate!\" yazdırılmalı. Eğer koşul sağlanmazsa \"You do not meet the requirements to graduate.\" yazdırılmalıdır."
   ]
  },
  {
   "cell_type": "code",
   "execution_count": 138,
   "id": "097369d1-0101-48c8-990e-97ba6760730f",
   "metadata": {},
   "outputs": [
    {
     "name": "stdout",
     "output_type": "stream",
     "text": [
      "You meet the requirements to graduate!\n"
     ]
    }
   ],
   "source": [
    "credits = 130\n",
    "gpa = 2.5\n",
    "\n",
    "if (credits >= 120) and (gpa >= 2.0):\n",
    "    print(\"You meet the requirements to graduate!\")\n",
    "else:\n",
    "    print(\"You do not meet the requirements to graduate.\")"
   ]
  },
  {
   "cell_type": "markdown",
   "id": "9c1d963f-265c-4fd9-8321-c5fead38e9a5",
   "metadata": {},
   "source": [
    "**Görev 2:**\n",
    "\n",
    "credits = 100\n",
    "\n",
    "gpa = 1.8\n",
    "\n",
    "Calvin Coolidge's Cool College'de mezuniyet gereksinimlerini kontrol eden bir if yapısı yazılacak:\n",
    "\n",
    "Eğer krediler 120 veya daha fazla değilse, yazdır: \"You do not have enough credits to graduate.\"\n",
    "\n",
    "Eğer GPA 2.0 veya daha fazla değilse, yazdır: \"Your GPA is not high enough to graduate.\"\n",
    "\n",
    "Eğer her iki koşul da sağlanmıyorsa, yazdır: \"You do not meet either requirement to graduate!\""
   ]
  },
  {
   "cell_type": "code",
   "execution_count": 145,
   "id": "ec9a66f8-c5e3-4aef-9d62-6b5b2349d967",
   "metadata": {},
   "outputs": [
    {
     "name": "stdout",
     "output_type": "stream",
     "text": [
      "You do not have enough credits to graduate.\n"
     ]
    }
   ],
   "source": [
    "credits = 100\n",
    "gpa = 1.8\n",
    "\n",
    "if not (credits >= 120):\n",
    "    print(\"You do not have enough credits to graduate.\")\n",
    "elif not (gpa >= 2.0):\n",
    "    print(\"Your GPA is not high enough to graduate.\")\n",
    "else:\n",
    "    print(\"You do not meet either requirement to graduate!\")"
   ]
  },
  {
   "cell_type": "markdown",
   "id": "83fe8ba9-c36c-416a-84c4-4e455ddd75c5",
   "metadata": {},
   "source": [
    "# Öğrenilen Konular #\n",
    "\n",
    "**Boolean İfadeler:**\n",
    "True veya False olarak değerlendirilebilen ifadeler.\n",
    "\n",
    "Örnek: 5 > 3 True’dur, 2 == 3 False’dur.\n",
    "    \n",
    "**Boolean Değişkenler:**\n",
    "Boolean ifadelerle oluşturulmuş, True veya False değerlerini tutan değişkenler.\n",
    "    \n",
    "**Karşılaştırma Operatörleri:**\n",
    "\n",
    "==: Eşit mi?\n",
    "    \n",
    "!=: Eşit değil mi?\n",
    "    \n",
    ", >:  Büyük mü?\n",
    "    \n",
    ", >=: Büyük veya eşit mi?\n",
    "    \n",
    "<: Küçük mü?\n",
    "    \n",
    "<=: Küçük veya eşit mi?\n",
    "    \n",
    "**Kontrol Akışı:**\n",
    "\n",
    "if: Belirli bir koşulu kontrol eder ve doğruysa bir kod bloğu çalıştırır.\n",
    "    \n",
    "else: if koşulu yanlış olduğunda bir kod bloğu çalıştırır.\n",
    "    \n",
    "elif: Ek koşullar kontrol etmek için kullanılır."
   ]
  },
  {
   "cell_type": "markdown",
   "id": "8f83d6c7-b029-47f0-8908-9718cc290d55",
   "metadata": {},
   "source": [
    "# Proje #\n",
    "Bu projede, yaş, cinsiyet, çocuk sayısı ve sigara içme durumu gibi faktörlerin tıbbi sigorta maliyetlerine nasıl katkıda bulunduğunu inceleyecek ve Python kontrol akışını (if, elif, else) kullanarak, insanların sigorta maliyetlerini düşürmek için nasıl tavsiyeler alabileceklerini göstereceksiniz.\n",
    "\n",
    "**Adım 1:** Giriş:\n",
    "\n",
    "estimate_insurance_cost() adlı bir fonksiyon oluştur. Bireylerin yaş, cinsiyet, çocuk sayısı ve sigara içme durumuna bağlı olarak sigorta maliyetlerini hesapla ve analiz et."
   ]
  },
  {
   "cell_type": "code",
   "execution_count": 229,
   "id": "92e2ca27-05de-4cc1-a772-141091f22312",
   "metadata": {},
   "outputs": [],
   "source": [
    "name = \"Mert\"\n",
    "age = 29  # Yaşınızı girin\n",
    "sex = 1   # Erkek: 1, Kadın: 0\n",
    "num_of_children = 3  # Çocuk sayısını girin\n",
    "smoker = 1  # Sigara içiyor: 1, İçmiyor: 0\n",
    "\n",
    "def estimate_insurance_cost(name, age, sex, num_of_children, smoker):\n",
    "    # Sigorta maliyeti hesaplama formülü\n",
    "    insurance_cost = 400 * age - 128 * sex + 425 * num_of_children + 10000 * smoker - 2500  \n",
    "    \n",
    "    # Sigara durumu analizi\n",
    "    analyze_smoker(smoker)\n",
    "    \n",
    "    # Çocuk sayısı analizi\n",
    "    analyze_children(num_of_children)\n",
    "    \n",
    "    # Yaş analizi\n",
    "    analyze_age(age)"
   ]
  },
  {
   "cell_type": "markdown",
   "id": "962fd100-0797-4760-8065-61fd8c659d81",
   "metadata": {},
   "source": [
    "**Adım 2:** Sigara İçme Durumunu Analiz Edin ve Fonksiyonu Çağırın.\n",
    "\n",
    "analyze_smoker() adında bir fonksiyon oluşturun:\n",
    "\n",
    "Eğer kişi sigara içiyorsa, şu mesajı yazdırın:\n",
    "\n",
    "\"To lower your cost, you should consider quitting smoking.\"\n",
    "\n",
    "Eğer içmiyorsa:\n",
    "\n",
    "\"Smoking is not an issue for you.\""
   ]
  },
  {
   "cell_type": "code",
   "execution_count": 244,
   "id": "c0b7a761-9efc-40a6-a1d8-c21ba7611e4e",
   "metadata": {},
   "outputs": [
    {
     "name": "stdout",
     "output_type": "stream",
     "text": [
      "To lower your cost, you should consider quitting smoking.\n"
     ]
    }
   ],
   "source": [
    "def analyze_smoker(smoker):\n",
    "    if smoker == 1:\n",
    "        print(\"To lower your cost, you should consider quitting smoking.\")\n",
    "    else:\n",
    "        print(\"Smoking is not an issue for you.\")\n",
    "        \n",
    "analyze_smoker(smoker)"
   ]
  },
  {
   "cell_type": "code",
   "execution_count": 246,
   "id": "6d0129c7-03ec-4aec-875c-7a1aa42f8eb0",
   "metadata": {},
   "outputs": [
    {
     "name": "stdout",
     "output_type": "stream",
     "text": [
      "To lower your cost, you should consider quitting smoking.\n"
     ]
    }
   ],
   "source": [
    "analyze_smoker(smoker)"
   ]
  },
  {
   "cell_type": "markdown",
   "id": "7f90de75-7c25-45b9-b08c-1f711710c7d6",
   "metadata": {},
   "source": [
    "**Adım 3:** \n",
    "\n",
    "Çocuk sayısına veya yaşa bağlı olarak ek analizler ekleyin."
   ]
  },
  {
   "cell_type": "code",
   "execution_count": 249,
   "id": "edc1a50b-b7c3-4624-ab14-0c611162a103",
   "metadata": {},
   "outputs": [],
   "source": [
    "# Çocuk sayısı analiz fonksiyonu\n",
    "def analyze_children(num_of_children):\n",
    "    if num_of_children > 0:\n",
    "        print(f\"Having {num_of_children} children adds to your insurance cost. Consider budgeting accordingly.\")\n",
    "    else:\n",
    "        print(\"Children do not affect your insurance cost.\")\n",
    "\n",
    "# Yaş analiz fonksiyonu\n",
    "def analyze_age(age):\n",
    "    if age < 25:\n",
    "        print(\"Being young helps reduce your insurance cost.\")\n",
    "    elif age < 40:\n",
    "        print(\"Your age is moderate, and it has a balanced effect on your insurance cost.\")\n",
    "    else:\n",
    "        print(\"Being older may increase your insurance cost. Consider healthy lifestyle choices.\")"
   ]
  },
  {
   "cell_type": "markdown",
   "id": "e0ab49a9-fdab-4fe7-b45a-afe3e467027c",
   "metadata": {},
   "source": [
    "**Adım 4:** Kendi Sigorta Maliyetini Analiz Etme:\n",
    "\n",
    "Kendi yaş, cinsiyet, çocuk sayısı ve sigara içme durumunuzu kullanarak sigorta maliyetinizi hesaplatın ve tavsiye alın."
   ]
  },
  {
   "cell_type": "code",
   "execution_count": 252,
   "id": "f657dd4b-6df0-45b6-afb3-86f9ec786370",
   "metadata": {},
   "outputs": [
    {
     "name": "stdout",
     "output_type": "stream",
     "text": [
      "To lower your cost, you should consider quitting smoking.\n",
      "Having 3 children adds to your insurance cost. Consider budgeting accordingly.\n",
      "Your age is moderate, and it has a balanced effect on your insurance cost.\n"
     ]
    }
   ],
   "source": [
    "# Kendi bilgilerinizi girin\n",
    "name = \"Mert\"\n",
    "age = 29  # Yaşınızı girin\n",
    "sex = 1   # Erkek: 1, Kadın: 0\n",
    "num_of_children = 3  # Çocuk sayısını girin\n",
    "smoker = 1  # Sigara içiyor: 1, İçmiyor: 0\n",
    "\n",
    "# Sigorta maliyetini hesaplayan fonksiyon\n",
    "def estimate_insurance_cost(name, age, sex, num_of_children, smoker):\n",
    "    insurance_cost = 400 * age - 128 * sex + 425 * num_of_children + 10000 * smoker - 2500\n",
    "    analyze_smoker(smoker)\n",
    "    analyze_children(num_of_children)\n",
    "    analyze_age(age)\n",
    "\n",
    "def analyze_smoker(smoker):\n",
    "    if smoker == 1:\n",
    "        print(\"To lower your cost, you should consider quitting smoking.\")\n",
    "    else:\n",
    "        print(\"Smoking is not an issue for you.\")\n",
    "\n",
    "def analyze_children(num_of_children):\n",
    "    if num_of_children > 0:\n",
    "        print(f\"Having {num_of_children} children adds to your insurance cost. Consider budgeting accordingly.\")\n",
    "    else:\n",
    "        print(\"Children do not affect your insurance cost.\")\n",
    "\n",
    "def analyze_age(age):\n",
    "    if age < 25:\n",
    "        print(\"Being young helps reduce your insurance cost.\")\n",
    "    elif age < 40:\n",
    "        print(\"Your age is moderate, and it has a balanced effect on your insurance cost.\")\n",
    "    else:\n",
    "        print(\"Being older may increase your insurance cost. Consider healthy lifestyle choices.\")\n",
    "\n",
    "# Kendi sigorta maliyetinizi hesaplayın ve analiz alın\n",
    "estimate_insurance_cost(name, age, sex, num_of_children, smoker)"
   ]
  },
  {
   "cell_type": "markdown",
   "id": "327ad894-ccdd-4cb8-a1c1-4744f6bc9c8b",
   "metadata": {},
   "source": [
    "**Liste Nedir?**\n",
    "\n",
    "Listeler, Python’da birden fazla veriyi bir arada tutmamıza yarayan veri yapılarıdır. Özellikle verileri sıralı bir şekilde saklamak ve bu verilere kolayca erişmek için kullanılır. Köşeli parantez kullanılır ve elemanlar arasında virgül kullanılır.\n",
    "\n",
    "Not: \n",
    "\n",
    "Listeler, Python’da birden fazla veri tipini bir arada saklayabilen esnek veri yapılarıdır. Sadece sayılar değil, metinler, boolean değerler, ondalık sayılar ve daha fazlasını içerebilirler."
   ]
  },
  {
   "cell_type": "markdown",
   "id": "eb13a02f-d2b6-40af-9480-e6cd62fbd61b",
   "metadata": {},
   "source": [
    "### Listeye Eleman Ekleme : Append ###"
   ]
  },
  {
   "cell_type": "code",
   "execution_count": 291,
   "id": "326c3b43-2fc1-4e19-9460-f3f95efaaca5",
   "metadata": {},
   "outputs": [
    {
     "name": "stdout",
     "output_type": "stream",
     "text": [
      "['daisies', 'periwinkle']\n",
      "['daisies', 'periwinkle', 'tulips', 'roses']\n"
     ]
    }
   ],
   "source": [
    "orders = ['daisies', 'periwinkle']\n",
    "print(orders)\n",
    "\n",
    "orders.append(\"tulips\")\n",
    "orders.append(\"roses\")\n",
    "\n",
    "print(orders)"
   ]
  },
  {
   "cell_type": "code",
   "execution_count": 293,
   "id": "9c2dc88a-bdc5-46d4-9de8-98f129a53fcd",
   "metadata": {},
   "outputs": [
    {
     "name": "stdout",
     "output_type": "stream",
     "text": [
      "['cake', 'cookie', 'bread', 'biscuit', 'tart']\n"
     ]
    }
   ],
   "source": [
    "#Listeleri Birleştirme(concatenation):\n",
    "\n",
    "items_sold = [\"cake\", \"cookie\", \"bread\"]\n",
    "\n",
    "items_sold_new = items_sold + [\"biscuit\", \"tart\"]\n",
    "\n",
    "print(items_sold_new)  "
   ]
  },
  {
   "cell_type": "code",
   "execution_count": 295,
   "id": "bfeeffbc-6c64-4d56-a549-41d2db5f5a19",
   "metadata": {},
   "outputs": [
    {
     "name": "stdout",
     "output_type": "stream",
     "text": [
      "[1, 2, 3, 4]\n"
     ]
    }
   ],
   "source": [
    "my_list = [1, 2, 3]\n",
    "\n",
    "my_new_list = my_list + [4] #parantezsiz hata verir.\n",
    "\n",
    "print(my_new_list)  "
   ]
  },
  {
   "cell_type": "code",
   "execution_count": 297,
   "id": "7c310232-4190-42de-8b34-754fc423039d",
   "metadata": {},
   "outputs": [
    {
     "name": "stdout",
     "output_type": "stream",
     "text": [
      "['daisies', 'periwinkle', 'lilac', 'iris']\n"
     ]
    }
   ],
   "source": [
    "new_orders = [\"lilac\", \"iris\"]\n",
    "orders = [\"daisies\", \"periwinkle\"]\n",
    "\n",
    "orders_combined = orders + new_orders\n",
    "\n",
    "print(orders_combined)  \n"
   ]
  },
  {
   "cell_type": "code",
   "execution_count": 299,
   "id": "9e050e1d-4d2d-4916-915f-7c61a3b57d43",
   "metadata": {},
   "outputs": [
    {
     "name": "stdout",
     "output_type": "stream",
     "text": [
      "Ezio\n",
      "Zofia\n"
     ]
    }
   ],
   "source": [
    "#Elemanlara Erişim\n",
    "\n",
    "employees = [\"Juan\", \"Zofia\", \"Amare\", \"Ezio\", \"Ananya\"]\n",
    "\n",
    "# 4. çalışanı seç\n",
    "employee_four = employees[3]\n",
    "print(employee_four)  \n",
    "\n",
    "# print(employees[8])  # Hata: IndexError Çünkü 8.eleman yok.\n",
    "\n",
    "# Doğru indeks ile düzeltme\n",
    "print(employees[1])  \n"
   ]
  },
  {
   "cell_type": "code",
   "execution_count": 301,
   "id": "13a31fdd-4d46-4cb7-88a3-c105e4d72d20",
   "metadata": {},
   "outputs": [
    {
     "name": "stdout",
     "output_type": "stream",
     "text": [
      "love\n",
      "milk\n"
     ]
    }
   ],
   "source": [
    "#Negatif İndeks ile Elemanlara Erişim\n",
    "\n",
    "pancake_recipe = [\"eggs\", \"flour\", \"butter\", \"milk\", \"sugar\", \"love\"]\n",
    "\n",
    "print(pancake_recipe[-1])  \n",
    "\n",
    "print(pancake_recipe[-3])  "
   ]
  },
  {
   "cell_type": "code",
   "execution_count": 303,
   "id": "6bfaab9a-a30f-483d-b8d2-ad5b90f58663",
   "metadata": {},
   "outputs": [
    {
     "name": "stdout",
     "output_type": "stream",
     "text": [
      "['Tomatoes', 'Green Beans', 'Strawberries', 'Grapes']\n"
     ]
    }
   ],
   "source": [
    "#İndex İle Değişken Güncelleme\n",
    "garden = [\"Tomatoes\", \"Green Beans\", \"Cauliflower\", \"Grapes\"]\n",
    "\n",
    "garden[2] = \"Strawberries\"\n",
    "\n",
    "print(garden)"
   ]
  },
  {
   "cell_type": "code",
   "execution_count": 305,
   "id": "43e9020b-717e-44cd-adf2-58e4be2638cf",
   "metadata": {},
   "outputs": [
    {
     "name": "stdout",
     "output_type": "stream",
     "text": [
      "['Tomatoes', 'Green Beans', 'Strawberries', 'Raspberries']\n"
     ]
    }
   ],
   "source": [
    "garden[-1] = \"Raspberries\"\n",
    "\n",
    "print(garden)"
   ]
  },
  {
   "cell_type": "markdown",
   "id": "1c40f6bd-9f4a-478a-ab0e-7270129ca399",
   "metadata": {},
   "source": [
    "### Liste İçindeki Öğeyi Kaldırma: .remove() Yöntemi ###\n",
    "Liste içinde birden fazla aynı değer varsa, sadece ilk eşleşen öğe kaldırılır."
   ]
  },
  {
   "cell_type": "code",
   "execution_count": 314,
   "id": "cf1f8f39-f486-4387-8dd3-c00d03ae16c7",
   "metadata": {},
   "outputs": [
    {
     "name": "stdout",
     "output_type": "stream",
     "text": [
      "['Cole', 'Kip', 'Sylvana', 'Chris']\n"
     ]
    }
   ],
   "source": [
    "shopping_line = [\"Cole\", \"Kip\", \"Chris\", \"Sylvana\", \"Chris\"]\n",
    "\n",
    "shopping_line.remove(\"Chris\")\n",
    "\n",
    "print(shopping_line)"
   ]
  },
  {
   "cell_type": "markdown",
   "id": "fdd55560-335c-4340-b218-51d72c116ca1",
   "metadata": {},
   "source": [
    "**Not:** Olmayan Bir Elemanı Kaldırmaya Çalışma\n",
    "\n",
    "Bir liste içinde olmayan bir öğeyi kaldırmaya çalışırsanız, bir ValueError alırsınız:"
   ]
  },
  {
   "cell_type": "markdown",
   "id": "bca4badb-13c5-4bed-a0f8-7371527d67c2",
   "metadata": {},
   "source": [
    "**Çift Boyutlu (2D) :**\n",
    "Python’da listeler, diğer listeleri de içerebilir. Bu tür listelere 2D listeler denir. Her bir iç liste, belirli bir veriyi veya kategoriyi temsil eder.\n",
    "\n",
    "**Çift Boyutlu Listelere Erişim:**\n",
    "İki boyutlu (2D) listelerde bir veriye erişmek için birden fazla köşeli parantez ([][]) kullanırız. İlk parantez alt listenin indeksini, ikinci parantez ise alt listedeki elemanın indeksini belirtir."
   ]
  },
  {
   "cell_type": "code",
   "execution_count": 324,
   "id": "de07da26-b296-4e20-b8cc-95bda3751f0a",
   "metadata": {},
   "outputs": [
    {
     "name": "stdout",
     "output_type": "stream",
     "text": [
      "[['Noelle', 61], ['Ava', 70], ['Sam', 67], ['Mia', 64], ['Vik', 68]]\n"
     ]
    }
   ],
   "source": [
    "# Çift Boyutlu (2D) Listeler\n",
    "\n",
    "heights = [[\"Noelle\", 61], [\"Ava\", 70], [\"Sam\", 67], [\"Mia\", 64]]\n",
    "\n",
    "heights.append([\"Vik\", 68])\n",
    "\n",
    "print(heights)"
   ]
  },
  {
   "cell_type": "code",
   "execution_count": 326,
   "id": "f097921c-b2ee-4327-8555-575cdc80c116",
   "metadata": {},
   "outputs": [
    {
     "name": "stdout",
     "output_type": "stream",
     "text": [
      "Sam'in Test Skoru: 83\n"
     ]
    }
   ],
   "source": [
    "# Sınıf test sonuçlarını temsil eden liste\n",
    "\n",
    "class_name_test = [[\"Jenny\", 90], [\"Alexus\", 85.5], [\"Sam\", 83], [\"Ellie\", 101.5]]\n",
    "\n",
    "sams_score = class_name_test[2][1]\n",
    "\n",
    "print(\"Sam'in Test Skoru:\", sams_score)"
   ]
  },
  {
   "cell_type": "code",
   "execution_count": 328,
   "id": "43a7877d-375f-4f8f-9c98-ca5d957be2c6",
   "metadata": {},
   "outputs": [
    {
     "name": "stdout",
     "output_type": "stream",
     "text": [
      "Ellie'nin Test Skoru: 101.5\n"
     ]
    }
   ],
   "source": [
    "ellies_score = class_name_test[-1][1]\n",
    "\n",
    "print(\"Ellie'nin Test Skoru:\", ellies_score)"
   ]
  },
  {
   "cell_type": "code",
   "execution_count": 332,
   "id": "f1e7e706-530c-4632-9bff-672e50582ec9",
   "metadata": {},
   "outputs": [
    {
     "name": "stdout",
     "output_type": "stream",
     "text": [
      "John'un Test Skoru: 83\n"
     ]
    }
   ],
   "source": [
    "johns_score = class_name_test[-2][1]\n",
    "\n",
    "print(\"John'un Test Skoru:\", johns_score)"
   ]
  },
  {
   "cell_type": "markdown",
   "id": "78e5a577-946f-4f20-bec9-78da13612c3e",
   "metadata": {},
   "source": [
    "**Çift Boyutlu Listeleri Düzenleme**\n",
    "\n",
    "Bu projede bir sınıf listesi oluşturarak, öğrenci bilgilerini güncelleyeceğiz. Çift boyutlu listelerde elemanları değiştirmek için iki çift köşeli parantez ([][]) kullanılır."
   ]
  },
  {
   "cell_type": "code",
   "execution_count": 335,
   "id": "7b06e57e-448b-41d0-9a3b-3f20bcc0a338",
   "metadata": {},
   "outputs": [
    {
     "name": "stdout",
     "output_type": "stream",
     "text": [
      "Güncellenmiş Liste: [['Kenny', 'American', 9], ['Tanya', 'Ukrainian', 9], ['Madison', 'Indian', 8]]\n"
     ]
    }
   ],
   "source": [
    "incoming_class = [\n",
    "    [\"Kenny\", \"American\", 9],\n",
    "    [\"Tanya\", \"Ukrainian\", 9],\n",
    "    [\"Madison\", \"Indian\", 7]\n",
    "]\n",
    "\n",
    "incoming_class[2][2] = 8\n",
    "\n",
    "print(\"Güncellenmiş Liste:\", incoming_class)"
   ]
  },
  {
   "cell_type": "code",
   "execution_count": 339,
   "id": "1052d22e-24d1-49c0-9d91-089a12dc930a",
   "metadata": {},
   "outputs": [
    {
     "name": "stdout",
     "output_type": "stream",
     "text": [
      "[['Kenn', 'American', 9], ['Tanya', 'Ukrainian', 9], ['Madison', 'Indian', 8]]\n"
     ]
    }
   ],
   "source": [
    "#Kenny'nin adını Kenn olarak değiştirelim.\n",
    "incoming_class[0][0] = \"Kenn\"\n",
    "\n",
    "print(incoming_class)"
   ]
  },
  {
   "cell_type": "markdown",
   "id": "bb0586c5-44c1-430e-adb3-fead4fcf880a",
   "metadata": {},
   "source": [
    "## Proje ## \n",
    "\n",
    "Müşteri Verilerini Düzenleme Projesi\n",
    "\n",
    "Bu projede Maria'nın müşteri verilerini liste yapıları kullanarak organize edeceğiz. Tek boyutlu listeler oluşturmayı, eleman eklemeyi, değiştirmeyi, iki boyutlu liste yapılarıyla çalışmayı ve listeleri birleştirmeyi öğreneceğiz."
   ]
  },
  {
   "cell_type": "code",
   "execution_count": 387,
   "id": "aaaf9e30-20ff-4a5f-a5f4-60437c8223a5",
   "metadata": {},
   "outputs": [],
   "source": [
    "first_names = [\"Ainsley\", \"Ben\", \"Chani\", \"Depak\"]\n",
    "preferred_size = [\"Small\", \"Large\", \"Medium\"]"
   ]
  },
  {
   "cell_type": "markdown",
   "id": "6d93479c-6af9-40c1-a59f-b20512891453",
   "metadata": {},
   "source": [
    "**Adım 1:** Depak'ın Bedenini XSmall Olarak Ekleyin."
   ]
  },
  {
   "cell_type": "code",
   "execution_count": 390,
   "id": "d4e993e7-e981-4fa1-a9de-a8278c0b20f1",
   "metadata": {},
   "outputs": [
    {
     "name": "stdout",
     "output_type": "stream",
     "text": [
      "['Small', 'Large', 'Medium', 'XSmall']\n"
     ]
    }
   ],
   "source": [
    "preferred_size.append(\"XSmall\")\n",
    "print(preferred_size)"
   ]
  },
  {
   "cell_type": "markdown",
   "id": "93a8ea85-c669-440c-bb3c-a32805c636ae",
   "metadata": {},
   "source": [
    "**Adım 2:** İki Boyutlu Liste Yapısı Oluşturma\n",
    "\n",
    "Her müşteriyi isim, beden ve kargo tercihi (True: hızlı kargo, False: normal kargo) ile birlikte temsil eden bir iki boyutlu liste oluşturalım."
   ]
  },
  {
   "cell_type": "code",
   "execution_count": 393,
   "id": "d4460dd7-5c57-460c-a921-8014072e3999",
   "metadata": {},
   "outputs": [
    {
     "name": "stdout",
     "output_type": "stream",
     "text": [
      "[['Ainsley', 'Small', True], ['Ben', 'Large', False], ['Chani', 'Medium', True], ['Depak', 'Medium', False]]\n"
     ]
    }
   ],
   "source": [
    "customer_data = [\n",
    "    [\"Ainsley\", \"Small\", True],\n",
    "    [\"Ben\", \"Large\", False],\n",
    "    [\"Chani\", \"Medium\", True],\n",
    "    [\"Depak\", \"Medium\", False]\n",
    "]\n",
    "\n",
    "print(customer_data)"
   ]
  },
  {
   "cell_type": "markdown",
   "id": "66d741b7-1e89-4dcb-bc4e-f6ff0d55d0b1",
   "metadata": {},
   "source": [
    "**Adım 3:** Chani’nin Kargo Tercihini Güncelleme\n",
    "\n",
    "Chani’nin hızlı kargo tercihini normal kargo olarak değiştirelim."
   ]
  },
  {
   "cell_type": "code",
   "execution_count": 396,
   "id": "da94aeed-1789-4627-b959-8e89ae3dcb55",
   "metadata": {},
   "outputs": [
    {
     "name": "stdout",
     "output_type": "stream",
     "text": [
      "[['Ainsley', 'Small', True], ['Ben', 'Large', False], ['Chani', 'Medium', False], ['Depak', 'Medium', False]]\n"
     ]
    }
   ],
   "source": [
    "customer_data[2][2] = False\n",
    "print(customer_data)"
   ]
  },
  {
   "cell_type": "markdown",
   "id": "5cfbf303-ea92-45ce-8c32-145853b1ffed",
   "metadata": {},
   "source": [
    "**Adım 4:** Ben’in Kargo Tercihini Silme\n",
    "\n",
    "Ben’in kargo tercihini listeden çıkaralım."
   ]
  },
  {
   "cell_type": "code",
   "execution_count": 405,
   "id": "f905d676-3d5a-459d-b616-41527ebd9439",
   "metadata": {},
   "outputs": [
    {
     "name": "stdout",
     "output_type": "stream",
     "text": [
      "[['Ainsley', 'Small', True], ['Ben', 'Large'], ['Chani', 'Medium', True], ['Depak', 'Medium', False]]\n"
     ]
    }
   ],
   "source": [
    "customer_data = [\n",
    "    [\"Ainsley\", \"Small\", True],\n",
    "    [\"Ben\", \"Large\", False],\n",
    "    [\"Chani\", \"Medium\", True],\n",
    "    [\"Depak\", \"Medium\", False]\n",
    "]\n",
    "\n",
    "customer_data[1].remove(False)\n",
    "\n",
    "print(customer_data)"
   ]
  },
  {
   "cell_type": "markdown",
   "id": "b88c4d9d-75bb-4ef2-872b-792762299cb1",
   "metadata": {},
   "source": [
    "**Adım 4:** Yeni Müşterileri Eklemek\n",
    "\n",
    "Amit ve Karim’in verilerini içeren listeyi mevcut customer_data listesine ekleyelim"
   ]
  },
  {
   "cell_type": "code",
   "execution_count": 407,
   "id": "3baf1966-007c-4afc-a5f7-2cc844dc478a",
   "metadata": {},
   "outputs": [
    {
     "name": "stdout",
     "output_type": "stream",
     "text": [
      "[['Ainsley', 'Small', True], ['Ben', 'Large'], ['Chani', 'Medium', True], ['Depak', 'Medium', False], ['Amit', 'Large', True], ['Karim', 'X-Large', False]]\n"
     ]
    }
   ],
   "source": [
    "new_customers = [[\"Amit\", \"Large\", True], [\"Karim\", \"X-Large\", False]]\n",
    "\n",
    "customer_data_final = customer_data + new_customers \n",
    "\n",
    "print(customer_data_final)"
   ]
  },
  {
   "cell_type": "markdown",
   "id": "0706fcb9-9308-46cc-a01c-1699d1bc0d88",
   "metadata": {},
   "source": [
    "**Döngüler Nedir?**\n",
    "\n",
    "Günlük hayatımızda farkında olmadan birçok işlemi tekrar ederiz. Örneğin, bir tarif yaparken malzemeleri doğru boyuta gelene kadar doğrarız. Bu süreç üç aşamaya ayrılabilir:\n",
    "\n",
    "Başlangıç: Pişirme işlemine hazırız ve doğrayacağımız malzemeler elimizde. İlk malzemeden başlarız.\n",
    "\n",
    "Tekrar: Malzemeleri doğrama işlemini birer birer tekrarlarız.\n",
    "\n",
    "Bitiş Şartı: Doğrayacak malzeme kalmadığında dururuz.\n",
    "\n",
    "--\n",
    "\n",
    "Programlamada bu tekrar eden süreç döngü olarak adlandırılır. Döngüler, belirli bir görevi tekrar ederek işlem yapmamızı sağlar ve buna iterasyon (tekrar) denir.\n",
    "\n",
    "Python gibi programlama dilleri iki tür iterasyon sunar:\n",
    "\n",
    "*Belirsiz Iterasyon (Indefinite Iteration):* Döngü, belirli bir koşul sağlandığı sürece çalışır. Kaç kez çalışacağını önceden bilmeyiz.\n",
    "\n",
    "*Belirli Iterasyon (Definite Iteration):* Döngü, belirli bir koleksiyonun uzunluğuna bağlı olarak belirli sayıda çalışır. Kaç kez çalışacağını önceden biliriz.\n",
    "\n",
    "--\n",
    "\n",
    "Döngüler genellikle bir koleksiyondaki öğeleri yinelemek için kullanılır. Örneğin:\n",
    "\n",
    "Küçük koleksiyonlar: Kısa bir string (yazı dizisi).\n",
    "\n",
    "Büyük koleksiyonlar: 1'den 10.000.000'a kadar sayılar.\n",
    "\n",
    "--\n",
    "\n",
    "Döngüler, bu tür verileri yönetmeyi kolaylaştırır ve bize zaman kazandırır.\n",
    "\n",
    "Bu ders kapsamında, Python kullanarak hem belirli hem de belirsiz iterasyonların nasıl uygulanacağını öğreneceksiniz."
   ]
  },
  {
   "cell_type": "markdown",
   "id": "16a7f929-d395-4a96-991d-ab33f43c9220",
   "metadata": {},
   "source": [
    "**Döngüler Neden Gereklidir?**\n",
    "\n",
    "Döngülerin önemini anlamak için bir döngü kullanmadan program yazmanın ne kadar zahmetli olabileceğini inceleyelim.\n",
    "\n",
    "Bir malzeme listemiz olduğunu ve listedeki her öğeyi yazdırmak istediğimizi düşünelim:"
   ]
  },
  {
   "cell_type": "code",
   "execution_count": 418,
   "id": "7db9a753-79fa-43e3-bfad-932c6bb0ffbc",
   "metadata": {},
   "outputs": [
    {
     "name": "stdout",
     "output_type": "stream",
     "text": [
      "milk\n",
      "sugar\n",
      "vanilla extract\n",
      "dough\n",
      "chocolate\n"
     ]
    }
   ],
   "source": [
    "ingredients = [\"milk\", \"sugar\", \"vanilla extract\", \"dough\", \"chocolate\"]\n",
    "\n",
    "print(ingredients[0])\n",
    "print(ingredients[1])\n",
    "print(ingredients[2])\n",
    "print(ingredients[3])\n",
    "print(ingredients[4])"
   ]
  },
  {
   "cell_type": "markdown",
   "id": "7c37f91b-0c1a-4801-89a6-3f70c4c97f46",
   "metadata": {},
   "source": [
    "**Küçük Listelerde Bu Yöntem Çalışabilir**\n",
    "    \n",
    "Bu kod, sadece 5 öğeden oluşan bir liste için yönetilebilir gibi görünebilir. Ancak, eğer liste büyürse ne olur?\n",
    "\n",
    "10 öğe: 10 kez print() yazmamız gerekir.\n",
    "\n",
    "24,601 öğe: Çok daha fazla zaman alır.\n",
    "\n",
    "100 milyon öğe: Hata yapma ihtimali artar ve inanılmaz derecede zahmetli hale gelir."
   ]
  },
  {
   "cell_type": "markdown",
   "id": "97ae958a-d217-45be-98b0-ca68c9fb7c76",
   "metadata": {},
   "source": [
    "## For Döngüleri: ## \n",
    "\n",
    "For döngüsü bir koleksiyonun her elemanını tek tek işlememizi sağlayan bir döngü türüdür.\n",
    "    \n",
    "Bir definite iteration döngüsüdür, yani kaç kez tekrarlanacağını önceden biliriz (koleksiyonun uzunluğuna bağlı olarak).\n"
   ]
  },
  {
   "cell_type": "code",
   "execution_count": 423,
   "id": "264d115d-f483-4bf0-aa40-f74471279c66",
   "metadata": {},
   "outputs": [
    {
     "ename": "SyntaxError",
     "evalue": "invalid syntax (2866261485.py, line 1)",
     "output_type": "error",
     "traceback": [
      "\u001b[1;36m  Cell \u001b[1;32mIn[423], line 1\u001b[1;36m\u001b[0m\n\u001b[1;33m    for <geçici_değişken> in <koleksiyon>:\u001b[0m\n\u001b[1;37m        ^\u001b[0m\n\u001b[1;31mSyntaxError\u001b[0m\u001b[1;31m:\u001b[0m invalid syntax\n"
     ]
    }
   ],
   "source": [
    "for <geçici_değişken> in <koleksiyon>:\n",
    "    <eylem>"
   ]
  },
  {
   "cell_type": "code",
   "execution_count": 425,
   "id": "0dd90e2f-be72-4203-b731-383646d403b7",
   "metadata": {},
   "outputs": [
    {
     "name": "stdout",
     "output_type": "stream",
     "text": [
      "milk\n",
      "sugar\n",
      "vanilla extract\n",
      "dough\n",
      "chocolate\n"
     ]
    }
   ],
   "source": [
    "ingredients = [\"milk\", \"sugar\", \"vanilla extract\", \"dough\", \"chocolate\"]\n",
    "\n",
    "for i in ingredients:\n",
    "    print(i)"
   ]
  },
  {
   "cell_type": "markdown",
   "id": "7682daf5-26bd-47b1-bd01-bb89a7e1b9ad",
   "metadata": {},
   "source": [
    "**Range Kullanımı:**\n",
    "\n",
    "Bazen belirli bir listeyi değil, yalnızca bir işlemi belirli bir sayıda tekrar etmek isteriz.\n",
    "Python’un range() fonksiyonu, bir for döngüsü ile belirli bir sayıda iterasyon gerçekleştirmek için kullanılır."
   ]
  },
  {
   "cell_type": "code",
   "execution_count": 428,
   "id": "67ceed63-391a-40f7-96ae-0050dad94c13",
   "metadata": {},
   "outputs": [
    {
     "name": "stdout",
     "output_type": "stream",
     "text": [
      "Learning Loops!\n",
      "Learning Loops!\n",
      "Learning Loops!\n",
      "Learning Loops!\n",
      "Learning Loops!\n",
      "Learning Loops!\n"
     ]
    }
   ],
   "source": [
    "for i in range(6):\n",
    "    print(\"Learning Loops!\")"
   ]
  },
  {
   "cell_type": "code",
   "execution_count": 431,
   "id": "d9098973-479f-4145-9d9e-b9db4e7d1fc6",
   "metadata": {},
   "outputs": [
    {
     "name": "stdout",
     "output_type": "stream",
     "text": [
      "Döngü şu an 1. adımda.\n",
      "Döngü şu an 2. adımda.\n",
      "Döngü şu an 3. adımda.\n",
      "Döngü şu an 4. adımda.\n",
      "Döngü şu an 5. adımda.\n",
      "Döngü şu an 6. adımda.\n"
     ]
    }
   ],
   "source": [
    "#Döngüdeki temp gibi geçici değişkeni kullanarak her adımı izleyebiliriz:\n",
    "\n",
    "for temp in range(6):\n",
    "    print(\"Döngü şu an \" + str(temp + 1) + \". adımda.\")"
   ]
  },
  {
   "cell_type": "code",
   "execution_count": 4,
   "id": "d9596e0d-b932-436a-aa3a-c6b3ae5d65f1",
   "metadata": {},
   "outputs": [
    {
     "name": "stdout",
     "output_type": "stream",
     "text": [
      "I will practice coding every day!\n",
      "I will practice coding every day!\n",
      "I will practice coding every day!\n",
      "I will practice coding every day!\n",
      "I will practice coding every day!\n"
     ]
    }
   ],
   "source": [
    "promise = \"I will practice coding every day!\"\n",
    "\n",
    "for i in range(5):\n",
    "    print(promise)"
   ]
  },
  {
   "cell_type": "markdown",
   "id": "3211e278-552b-4137-9888-1d49bb523441",
   "metadata": {},
   "source": [
    "## While Döngüleri ##\n",
    "\n",
    "Python'da while döngüleri, belirli bir koşul True olduğu sürece tekrar eden bir işlem yapmak için kullanılır. Döngü her tekrarda yukarıdan aşağıya doğru çalışır ve koşul tekrar kontrol edilir. Eğer koşul hiçbir zaman False olmazsa, sonsuz döngü (infinite loop) oluşur."
   ]
  },
  {
   "cell_type": "code",
   "execution_count": 10,
   "id": "f7203fb9-5e8a-4099-9232-1754f112638b",
   "metadata": {},
   "outputs": [
    {
     "name": "stdout",
     "output_type": "stream",
     "text": [
      "0\n",
      "1\n",
      "2\n",
      "3\n",
      "We have liftoff!\n"
     ]
    }
   ],
   "source": [
    "count = 0\n",
    "\n",
    "while count <= 3:\n",
    "    print(count)\n",
    "    count += 1\n",
    "\n",
    "print(\"We have liftoff!\")"
   ]
  },
  {
   "cell_type": "code",
   "execution_count": 12,
   "id": "a872a3b7-632e-43db-ae34-afac287e4896",
   "metadata": {},
   "outputs": [
    {
     "name": "stdout",
     "output_type": "stream",
     "text": [
      "milk\n",
      "sugar\n",
      "vanilla extract\n",
      "dough\n",
      "chocolate\n"
     ]
    }
   ],
   "source": [
    "ingredients = [\"milk\", \"sugar\", \"vanilla extract\", \"dough\", \"chocolate\"]\n",
    "\n",
    "length = len(ingredients)  # Listenin uzunluğunu alır\n",
    "\n",
    "index = 0  \n",
    "\n",
    "while index < length:  \n",
    "    print(ingredients[index])  \n",
    "    index += 1  "
   ]
  },
  {
   "cell_type": "code",
   "execution_count": 24,
   "id": "5516c60b-773f-4624-bf6c-0bd3dc17a80d",
   "metadata": {},
   "outputs": [],
   "source": [
    "python_topics = [\"variables\", \"control flow\", \"loops\", \"modules\", \"classes\"]"
   ]
  },
  {
   "cell_type": "markdown",
   "id": "69ad9428-f408-4d90-8b38-325ede9542c4",
   "metadata": {},
   "source": [
    "**Adım 1:** Listenin Uzunluğunu Al\n",
    "\n",
    "python_topics adlı listenin uzunluğunu hesaplayın ve length değişkenine atayın."
   ]
  },
  {
   "cell_type": "code",
   "execution_count": 28,
   "id": "3b61eb6c-1f2a-4a24-9f92-dfae2bad1009",
   "metadata": {},
   "outputs": [],
   "source": [
    "length = len(python_topics)"
   ]
  },
  {
   "cell_type": "markdown",
   "id": "476a36e3-8da2-40d0-9935-d77534bf2bdd",
   "metadata": {},
   "source": [
    "**Adım 2:** Başlangıç İndex Değeri\n",
    "\n",
    "Döngüde hangi öğe üzerinde işlem yaptığınızı takip etmek için bir index değişkeni oluşturun ve başlangıç değerini 0 yapın."
   ]
  },
  {
   "cell_type": "code",
   "execution_count": 31,
   "id": "e9d840a4-d9f5-4f8b-9e6c-476d2bb9eff2",
   "metadata": {},
   "outputs": [],
   "source": [
    "index = 0"
   ]
  },
  {
   "cell_type": "markdown",
   "id": "0b494aa3-d4f4-42b9-b521-900d92528150",
   "metadata": {},
   "source": [
    "**Adım 3:** While Döngüsü ile Gezin\n",
    "\n",
    "While Döngüsü Kur: Koşul: index < length.\n",
    "\n",
    "Döngü gövdesinde şu işlemleri yapın:\n",
    "\n",
    "Mevcut öğeyi yazdırın: \"I am learning about <element>\".\n",
    "\n",
    "index değişkenini bir artırın."
   ]
  },
  {
   "cell_type": "code",
   "execution_count": 34,
   "id": "528b716d-f83e-450b-8ace-e21be3512a99",
   "metadata": {},
   "outputs": [
    {
     "name": "stdout",
     "output_type": "stream",
     "text": [
      "I am learning about variables\n",
      "I am learning about control flow\n",
      "I am learning about loops\n",
      "I am learning about modules\n",
      "I am learning about classes\n"
     ]
    }
   ],
   "source": [
    "while index < length:\n",
    "    print(\"I am learning about \" + python_topics[index])\n",
    "    index += 1 "
   ]
  },
  {
   "cell_type": "markdown",
   "id": "1f6f8d57-9ac6-409c-a0cb-f95e3ad09c57",
   "metadata": {},
   "source": [
    "**Infinite Loops Nedir?**\n",
    "\n",
    "Infinite Loop (Sonsuz Döngü): Koşul hiçbir zaman yanlış olmadığında veya döngüde liste gibi sürekli büyüyen bir yapı işlendiğinde oluşur.\n",
    "    \n",
    "Bu durum kodun sonsuza kadar çalışmasına ve bilgisayar kaynaklarının tükenmesine neden olur."
   ]
  },
  {
   "cell_type": "code",
   "execution_count": null,
   "id": "315ad3e6-719d-4372-a11b-956ba113e24f",
   "metadata": {},
   "outputs": [],
   "source": [
    "students_period_A = [\"John\", \"Jane\", \"Jack\"]\n",
    "students_period_B = [\"Alice\", \"Bob\"]"
   ]
  },
  {
   "cell_type": "code",
   "execution_count": 1,
   "id": "8bf82f1a-f251-40b3-bd35-b40fa7a2445e",
   "metadata": {},
   "outputs": [
    {
     "ename": "NameError",
     "evalue": "name 'students_period_A' is not defined",
     "output_type": "error",
     "traceback": [
      "\u001b[1;31m---------------------------------------------------------------------------\u001b[0m",
      "\u001b[1;31mNameError\u001b[0m                                 Traceback (most recent call last)",
      "Cell \u001b[1;32mIn[1], line 2\u001b[0m\n\u001b[0;32m      1\u001b[0m \u001b[38;5;66;03m#Çalıştırma !!!1!!!!!!!!\u001b[39;00m\n\u001b[1;32m----> 2\u001b[0m \u001b[38;5;28;01mfor\u001b[39;00m student \u001b[38;5;129;01min\u001b[39;00m students_period_A:\n\u001b[0;32m      3\u001b[0m     students_period_A\u001b[38;5;241m.\u001b[39mappend(student)\n",
      "\u001b[1;31mNameError\u001b[0m: name 'students_period_A' is not defined"
     ]
    }
   ],
   "source": [
    "#Çalıştırma !!!1!!!!!!!!\n",
    "for student in students_period_A:\n",
    "    students_period_A.append(student)"
   ]
  },
  {
   "cell_type": "markdown",
   "id": "7cf98b1b-de2f-480b-9509-c03822faf0ed",
   "metadata": {},
   "source": [
    "Verilen döngüde, for student in students_period_A ifadesi, liste büyüdükçe yeni eklenen öğeleri de döngüye dahil eder., bu da listenin sonsuza kadar büyümesine neden oluyor."
   ]
  },
  {
   "cell_type": "code",
   "execution_count": null,
   "id": "40e5da74-e2e2-4d80-9614-7feafa626f9e",
   "metadata": {},
   "outputs": [],
   "source": [
    "#Doğru Kod \n",
    "students_period_A = [\"John\", \"Jane\", \"Jack\"]\n",
    "students_period_B = [\"Alice\", \"Bob\"]\n",
    "\n",
    "# Öğrencileri birleştir\n",
    "students_period_B.extend(students_period_A)\n",
    "\n",
    "print(students_period_B)"
   ]
  },
  {
   "cell_type": "markdown",
   "id": "56c64836-ec27-4539-bb0a-355034de8ea8",
   "metadata": {},
   "source": [
    "## Break Komutu ##\n",
    "\n",
    "break komutu bir döngü içinde kullanıldığında, döngüyü anında sonlandırır."
   ]
  },
  {
   "cell_type": "code",
   "execution_count": 3,
   "id": "b4d35f2e-9239-4d8b-80cd-f6a85380cbe1",
   "metadata": {},
   "outputs": [],
   "source": [
    "dog_breeds_available_for_adoption = [\"Golden Retriever\", \"Poodle\", \"Bulldog\", \"Beagle\", \"Chihuahua\"]"
   ]
  },
  {
   "cell_type": "code",
   "execution_count": 9,
   "id": "689ebe4c-f847-4cdf-9912-874f9517238d",
   "metadata": {},
   "outputs": [
    {
     "name": "stdout",
     "output_type": "stream",
     "text": [
      "Golden Retriever\n",
      "Poodle\n",
      "Bulldog\n",
      "Aradığım köpeği buldum!\n"
     ]
    }
   ],
   "source": [
    "for i in dog_breeds_available_for_adoption:\n",
    "    print(i)\n",
    "    if i == \"Bulldog\":\n",
    "        print(\"Aradığım köpeği buldum!\")\n",
    "        break"
   ]
  },
  {
   "cell_type": "markdown",
   "id": "1c81abfd-d32a-43e5-903b-9d9fb0eeadf7",
   "metadata": {},
   "source": [
    "## Continue Komutu ##\n",
    "\n",
    "continue kontrol ifadesi, bir döngünün mevcut iterasyonunu atlayarak bir sonraki iterasyona geçmesini sağlar.\n",
    "Döngüyü tamamen sonlandıran break ifadesinin aksine, continue, sadece belirli bir durumu atlayarak döngünün çalışmaya devam etmesini sağlar."
   ]
  },
  {
   "cell_type": "code",
   "execution_count": 14,
   "id": "b6d1db0a-b12b-4087-bfd3-e47d7cf8fe58",
   "metadata": {},
   "outputs": [
    {
     "name": "stdout",
     "output_type": "stream",
     "text": [
      "1\n",
      "2\n",
      "4\n",
      "5\n",
      "2\n"
     ]
    }
   ],
   "source": [
    "big_number_list = [1, 2, -1, 4, -5, 5, 2, -9]\n",
    "\n",
    "for i in big_number_list:\n",
    "    if i <= 0:\n",
    "        continue  # Negatif veya sıfır olan sayıları atla\n",
    "    print(i)"
   ]
  },
  {
   "cell_type": "markdown",
   "id": "137ff3b3-ff78-4c78-b0c5-cd356ece4490",
   "metadata": {},
   "source": [
    "**Görev:** Bir barın kapı görevlisi olarak, 21 yaşından küçükleri içeri almıyoruz. Aşağıdaki adımları takip ederek yaşları kontrol edelim:"
   ]
  },
  {
   "cell_type": "code",
   "execution_count": 28,
   "id": "4719a0ce-5913-431b-be9b-7891f5f36cbc",
   "metadata": {},
   "outputs": [],
   "source": [
    "ages = [18, 22, 20, 19, 25, 21]"
   ]
  },
  {
   "cell_type": "code",
   "execution_count": 30,
   "id": "cd3dff52-5758-4ffb-ba5f-98e37f09d6dc",
   "metadata": {},
   "outputs": [
    {
     "name": "stdout",
     "output_type": "stream",
     "text": [
      "giremezsiniz\n",
      "22\n",
      "giremezsiniz\n",
      "giremezsiniz\n",
      "25\n",
      "21\n"
     ]
    }
   ],
   "source": [
    "for i in ages:\n",
    "    if i < 21:\n",
    "        print(\"giremezsiniz\")\n",
    "        continue\n",
    "    print(i)"
   ]
  },
  {
   "cell_type": "markdown",
   "id": "caee12c1-d61c-4ae2-9426-7b093aad20fa",
   "metadata": {},
   "source": [
    "## İç İçe Döngüler (Nested Loops) ##\n",
    "\n",
    "Python'da döngüler iç içe yazılabilir. Bazı durumlarda, özellikle liste içinde liste gibi çok boyutlu veri yapılarıyla çalışırken iç içe döngülere ihtiyaç duyarız."
   ]
  },
  {
   "cell_type": "code",
   "execution_count": 33,
   "id": "51d658c6-9309-444e-83a0-1114a106553e",
   "metadata": {},
   "outputs": [
    {
     "name": "stdout",
     "output_type": "stream",
     "text": [
      "Ava\n",
      "Samantha\n",
      "James\n",
      "Lucille\n",
      "Zed\n",
      "Edgar\n",
      "Gabriel\n"
     ]
    }
   ],
   "source": [
    "project_teams = [[\"Ava\", \"Samantha\", \"James\"], [\"Lucille\", \"Zed\"], [\"Edgar\", \"Gabriel\"]]\n",
    "\n",
    "for team in project_teams:\n",
    "    for student in team:\n",
    "        print(student)"
   ]
  },
  {
   "cell_type": "markdown",
   "id": "75819c1d-5f60-4b79-98d4-4ba5df348ca2",
   "metadata": {},
   "source": [
    "**Görev:** Dondurma Satışlarını Toplama\n",
    "\n",
    "Amaç: Tüm lokasyonlarda toplam satılan dondurma miktarını hesaplamak."
   ]
  },
  {
   "cell_type": "code",
   "execution_count": 39,
   "id": "8b6d993d-d8d0-451e-8e71-0023d75993a0",
   "metadata": {},
   "outputs": [],
   "source": [
    "sales_data = [[5, 8, 9], [3, 7, 4], [6, 2, 9]]"
   ]
  },
  {
   "cell_type": "code",
   "execution_count": 43,
   "id": "40f0dc44-02b0-4520-90a4-af261c0ce345",
   "metadata": {},
   "outputs": [
    {
     "name": "stdout",
     "output_type": "stream",
     "text": [
      "53\n"
     ]
    }
   ],
   "source": [
    "scoops_sold = 0\n",
    "\n",
    "for location in sales_data:\n",
    "    for scoops in location:\n",
    "        scoops_sold += scoops\n",
    "        \n",
    "print(scoops_sold)"
   ]
  },
  {
   "cell_type": "markdown",
   "id": "1b485ee7-c591-47a6-a334-10a506d6015a",
   "metadata": {},
   "source": [
    "## Liste Kavrayışları (List Comprehensions) ##\n",
    "\n",
    "Python, döngülerin daha kısa ve temiz bir şekilde yazılmasını sağlayan Liste Kavrayışları (List Comprehensions) ile kodu daha anlaşılır hale getirir.\n",
    "\n",
    "Genel yapı şu şekildedir:\n",
    "\n",
    "new_list = [*ifade* for *eleman* in *koleksiyon*]\n",
    "\n",
    "Liste Kavrayışları ile Koşullu İşlemler:\n",
    "\n",
    "Liste kavrayışları, sadece belirli koşulları karşılayan öğeleri içerecek şekilde özelleştirilebilir. Ayrıca, bir if veya if-else ile işlemlerimizi daha da esnek hale getirebiliriz."
   ]
  },
  {
   "cell_type": "code",
   "execution_count": 49,
   "id": "f275da4e-1f0d-490c-a52b-5623f210c5e3",
   "metadata": {},
   "outputs": [
    {
     "name": "stdout",
     "output_type": "stream",
     "text": [
      "[4, -2, 158, 66, -90]\n"
     ]
    }
   ],
   "source": [
    "#Bir sayı listesini iki katına çıkarmak istediğimizi düşünelim.\n",
    "\n",
    "numbers = [2, -1, 79, 33, -45]\n",
    "doubled = []\n",
    "\n",
    "for number in numbers:\n",
    "    doubled.append(number * 2)\n",
    "\n",
    "print(doubled)"
   ]
  },
  {
   "cell_type": "code",
   "execution_count": 51,
   "id": "14d9507a-2b1e-4e63-8ca9-dec5fa1f2aef",
   "metadata": {},
   "outputs": [
    {
     "name": "stdout",
     "output_type": "stream",
     "text": [
      "[4, -2, 158, 66, -90]\n"
     ]
    }
   ],
   "source": [
    "#Liste Kavrayışı ile çözüm\n",
    "\n",
    "numbers = [2, -1, 79, 33, -45]\n",
    "doubled = [num * 2 for num in numbers]\n",
    "\n",
    "print(doubled)"
   ]
  },
  {
   "cell_type": "markdown",
   "id": "e94e716f-e67d-47ae-87cd-af3750487a87",
   "metadata": {},
   "source": [
    "** Görev:** \n",
    "\n",
    "Bir fizik sınıfının notlarını içeren grades adlı liste veriliyor.\n",
    "    \n",
    "Bu listedeki her notu, maksimum not olan 90’a göre 10 puan artırarak ölçeklendirilmiş bir liste oluşturmanız gerekiyor."
   ]
  },
  {
   "cell_type": "code",
   "execution_count": 54,
   "id": "559858d8-884c-4688-acd5-d0af79948a7b",
   "metadata": {},
   "outputs": [
    {
     "name": "stdout",
     "output_type": "stream",
     "text": [
      "[80, 95, 88, 98]\n"
     ]
    }
   ],
   "source": [
    "grades = [70, 85, 78, 88]\n",
    "scaled_grades = [grade + 10 for grade in grades]\n",
    "\n",
    "print(scaled_grades)"
   ]
  },
  {
   "cell_type": "code",
   "execution_count": 57,
   "id": "17bccbaa-4a38-43bf-ae12-3df6af4ec0d4",
   "metadata": {},
   "outputs": [
    {
     "name": "stdout",
     "output_type": "stream",
     "text": [
      "[-2, -90]\n"
     ]
    }
   ],
   "source": [
    "#For döngüsü ile if:\n",
    "\n",
    "numbers = [2, -1, 79, 33, -45]\n",
    "only_negative_doubled = []\n",
    "\n",
    "for num in numbers:\n",
    "    if num < 0:\n",
    "        only_negative_doubled.append(num * 2)\n",
    "\n",
    "print(only_negative_doubled)"
   ]
  },
  {
   "cell_type": "code",
   "execution_count": 61,
   "id": "33ff708c-640e-4eb2-af18-2e80afce3e61",
   "metadata": {},
   "outputs": [
    {
     "name": "stdout",
     "output_type": "stream",
     "text": [
      "[-2, -90]\n"
     ]
    }
   ],
   "source": [
    "#Liste Kavrayışı ile if:\n",
    "\n",
    "negative_doubled = [num * 2 for num in numbers if num < 0]\n",
    "\n",
    "print(negative_doubled)"
   ]
  },
  {
   "cell_type": "code",
   "execution_count": 63,
   "id": "72f5992a-b8ac-4f4b-82a2-c9a7021c47d9",
   "metadata": {},
   "outputs": [
    {
     "name": "stdout",
     "output_type": "stream",
     "text": [
      "[6, -2, 237, 99, -90]\n"
     ]
    }
   ],
   "source": [
    "#If-Else Koşulları ile Liste Kavrayışı:\n",
    "\n",
    "numbers = [2, -1, 79, 33, -45]\n",
    "doubled = [num * 2 if num < 0 else num * 3 for num in numbers]\n",
    "\n",
    "print(doubled)"
   ]
  },
  {
   "cell_type": "markdown",
   "id": "078d3952-efba-44af-b71c-f05552d80013",
   "metadata": {},
   "source": [
    "## Proje ##\n",
    "\n",
    "single_digits adında, 0'dan 9'a kadar olan sayıları içeren bir liste oluşturun."
   ]
  },
  {
   "cell_type": "code",
   "execution_count": 95,
   "id": "91d258f7-6cb4-434a-a8d8-ce9790dcaf52",
   "metadata": {},
   "outputs": [],
   "source": [
    "single_digits = [0, 1, 2, 3, 4, 5, 6, 7, 8, 9]"
   ]
  },
  {
   "cell_type": "markdown",
   "id": "966d5f28-20cd-4f3f-b19f-daadc232ed3b",
   "metadata": {},
   "source": [
    "**Adım 2:** single_digits listesindeki her bir elemanı yazdıran bir for döngüsü yazın."
   ]
  },
  {
   "cell_type": "code",
   "execution_count": 98,
   "id": "0ccc67c2-c9e8-428a-bac2-496ee74da0aa",
   "metadata": {},
   "outputs": [
    {
     "name": "stdout",
     "output_type": "stream",
     "text": [
      "0\n",
      "1\n",
      "2\n",
      "3\n",
      "4\n",
      "5\n",
      "6\n",
      "7\n",
      "8\n",
      "9\n"
     ]
    }
   ],
   "source": [
    "for i in single_digits:\n",
    "    print(i)"
   ]
  },
  {
   "cell_type": "markdown",
   "id": "16a2be21-9c24-4123-9203-fbfcfbc13d47",
   "metadata": {},
   "source": [
    "**Adım 3:** squares adında bir liste oluşturun ve başlangıçta bunu boş bir liste olarak atayın."
   ]
  },
  {
   "cell_type": "code",
   "execution_count": 101,
   "id": "210d5492-16c4-4b9c-b17e-1eb66a2d7551",
   "metadata": {},
   "outputs": [],
   "source": [
    "squares = []"
   ]
  },
  {
   "cell_type": "markdown",
   "id": "353f20f7-5140-42af-8c83-59ee3e795042",
   "metadata": {},
   "source": [
    "**Adım 4:** Döngü içinde, her bir elemanın karesini hesaplayarak squares listesine ekleyin."
   ]
  },
  {
   "cell_type": "code",
   "execution_count": 104,
   "id": "89b7ca18-9e65-4637-b3ed-77f2ba2985fc",
   "metadata": {},
   "outputs": [
    {
     "name": "stdout",
     "output_type": "stream",
     "text": [
      "[0, 1, 4, 9, 16, 25, 36, 49, 64, 81]\n"
     ]
    }
   ],
   "source": [
    "for i in single_digits:\n",
    "    squares.append(i ** 2)\n",
    "\n",
    "print(squares)"
   ]
  },
  {
   "cell_type": "markdown",
   "id": "67d6ffb2-6b2e-473e-a61b-21a7a95ec3de",
   "metadata": {},
   "source": [
    "**Adım 5:** single_digits listesindeki her bir elemanın küpünü hesaplayan bir liste kavrayışı ile cubes adlı yeni bir liste oluşturun."
   ]
  },
  {
   "cell_type": "code",
   "execution_count": 107,
   "id": "b65d1f38-afd9-42fd-9b53-2bee2949c98a",
   "metadata": {},
   "outputs": [
    {
     "name": "stdout",
     "output_type": "stream",
     "text": [
      "[0, 1, 8, 27, 64, 125, 216, 343, 512, 729]\n"
     ]
    }
   ],
   "source": [
    "cubes = [i ** 3 for i in single_digits]\n",
    "\n",
    "print(cubes)"
   ]
  },
  {
   "cell_type": "markdown",
   "id": "077c2c28-01c2-4187-8546-3ed3ae3d74ab",
   "metadata": {},
   "source": [
    "## Stringler ve Koşullar (Part One) ##\n",
    "\n",
    "Stringlerle çalışırken, döngüler ve koşullu ifadelerle çok çeşitli işlemler gerçekleştirebiliriz. Bu, bir dize içinde belirli bir harfi aramak, harfleri saymak vb. için kullanışlıdır."
   ]
  },
  {
   "cell_type": "markdown",
   "id": "282e835e-02e4-454a-aa8b-5f45139b57a2",
   "metadata": {},
   "source": [
    "**Görev:**\n",
    "\n",
    "Girdi:\n",
    "\n",
    "Bir word (string).\n",
    "\n",
    "Bir letter (string, kontrol edilecek harf).\n",
    "            \n",
    "Çıktı:\n",
    "\n",
    "Eğer letter, word içinde varsa True döndür.\n",
    "\n",
    "Yoksa False döndür."
   ]
  },
  {
   "cell_type": "code",
   "execution_count": 16,
   "id": "799f3cdc-e9ff-44c2-acf6-daa2c582d916",
   "metadata": {},
   "outputs": [
    {
     "name": "stdout",
     "output_type": "stream",
     "text": [
      "True\n",
      "False\n"
     ]
    }
   ],
   "source": [
    "def letter_check(word, letter):\n",
    "    for i in word:\n",
    "        if i == letter:\n",
    "            return True  # Harf bulundu\n",
    "    return False  # Harf bulunamadı\n",
    "\n",
    "print(letter_check(\"blueberry\", \"b\"))  \n",
    "\n",
    "print(letter_check(\"blueberry\", \"z\"))  "
   ]
  },
  {
   "cell_type": "markdown",
   "id": "f3bcbc4f-a02e-4970-8832-d2334ad2e043",
   "metadata": {},
   "source": [
    "## Stringler ve Koşullar (Part Two) ##\n",
    "\n",
    "Python'da bir string'in başka bir string içinde bulunup bulunmadığını kontrol etmek için döngü kullanmak yerine daha kısa ve etkili bir yöntem olan in operatörünü kullanabiliriz. Ayrıca, iki string arasında ortak harfleri bulmak için de bu yöntemi kullanabiliriz."
   ]
  },
  {
   "cell_type": "code",
   "execution_count": 19,
   "id": "eef69c47-a650-4d34-baca-7c727a553ef8",
   "metadata": {},
   "outputs": [
    {
     "name": "stdout",
     "output_type": "stream",
     "text": [
      "True\n",
      "False\n"
     ]
    }
   ],
   "source": [
    "def contains(big_string, little_string):\n",
    "    return little_string in big_string\n",
    "\n",
    "print(contains(\"watermelon\", \"melon\"))  \n",
    "\n",
    "print(contains(\"watermelon\", \"berry\"))  "
   ]
  },
  {
   "cell_type": "markdown",
   "id": "65f84a5a-e92c-4893-bb81-22b8c87ca706",
   "metadata": {},
   "source": [
    "## Python'da Setler ##\n",
    "\n",
    "Set, Python'da sırasız ve değiştirilemez (immutable elemanlar içerebilen) bir veri yapısıdır. Setler, her elemanın benzersiz olduğu ve birden fazla kez bulunamadığı bir koleksiyon oluşturmak için kullanılır. Matematikteki kümelere benzer şekilde çalışır.\n",
    "\n",
    "**Setlerde Kullanılan Temel İşlemler :**"
   ]
  },
  {
   "cell_type": "code",
   "execution_count": 27,
   "id": "2500302f-2eaa-422e-aa1c-0c543ddf9373",
   "metadata": {},
   "outputs": [],
   "source": [
    "# Boş bir set\n",
    "my_set = set()\n",
    "\n",
    "# Elemanlarla bir set\n",
    "my_set = {1, 2, 3, 4}"
   ]
  },
  {
   "cell_type": "code",
   "execution_count": 29,
   "id": "44df1f4d-82eb-42c0-8880-312e3638fc9c",
   "metadata": {},
   "outputs": [],
   "source": [
    "#Eleman Ekleme\n",
    "my_set = {1, 2, 3}\n",
    "my_set.add(4) "
   ]
  },
  {
   "cell_type": "code",
   "execution_count": 31,
   "id": "8e6336b9-9e7f-4255-ad8f-77eb94c4c5e9",
   "metadata": {},
   "outputs": [],
   "source": [
    "#Eleman Silme\n",
    "my_set = {1, 2, 3}\n",
    "my_set.remove(2)  # {1, 3}\n",
    "my_set.discard(4)  # Eleman yoksa hata vermez"
   ]
  },
  {
   "cell_type": "code",
   "execution_count": 33,
   "id": "1586f358-c8be-435c-a1b3-fc14e83e94a3",
   "metadata": {},
   "outputs": [],
   "source": [
    "#Birleştirme(union)\n",
    "set1 = {1, 2, 3}\n",
    "set2 = {3, 4, 5}\n",
    "union_set = set1.union(set2)  # {1, 2, 3, 4, 5}"
   ]
  },
  {
   "cell_type": "code",
   "execution_count": 35,
   "id": "278e4604-4b4a-498f-a5dd-c6b4ac88023a",
   "metadata": {},
   "outputs": [],
   "source": [
    "#Kesişim (Intersection)\n",
    "set1 = {1, 2, 3}\n",
    "set2 = {3, 4, 5}\n",
    "intersection_set = set1.intersection(set2)  # {3}"
   ]
  },
  {
   "cell_type": "code",
   "execution_count": 37,
   "id": "08639848-51be-4220-b8db-6e3b32c22e8b",
   "metadata": {},
   "outputs": [],
   "source": [
    "#Fark (Difference)\n",
    "set1 = {1, 2, 3}\n",
    "set2 = {3, 4, 5}\n",
    "difference_set = set1.difference(set2)  # {1, 2}"
   ]
  },
  {
   "cell_type": "code",
   "execution_count": 39,
   "id": "b6e350ee-7137-459c-89fa-9efaae0daf3f",
   "metadata": {},
   "outputs": [],
   "source": [
    "#Simetrik Fark (Symmetric Difference)\n",
    "set1 = {1, 2, 3}\n",
    "set2 = {3, 4, 5}\n",
    "symmetric_diff = set1.symmetric_difference(set2)  # {1, 2, 4, 5}"
   ]
  },
  {
   "cell_type": "markdown",
   "id": "8317a251-0274-422b-b8ac-84c68fd885cc",
   "metadata": {},
   "source": [
    "**Hızlı Üyelik Kontrolü:** in operatörü ile bir elemanın sette olup olmadığını hızlıca kontrol etmek."
   ]
  },
  {
   "cell_type": "code",
   "execution_count": 44,
   "id": "ab2a0f03-4445-4392-b17d-e2f0358bde3b",
   "metadata": {},
   "outputs": [
    {
     "name": "stdout",
     "output_type": "stream",
     "text": [
      "True\n",
      "False\n"
     ]
    }
   ],
   "source": [
    "my_set = {1, 2, 3, 4}\n",
    "print(2 in my_set)  \n",
    "print(5 in my_set)  "
   ]
  },
  {
   "cell_type": "markdown",
   "id": "0dd99614-17d3-4c77-978b-65f7e7551968",
   "metadata": {},
   "source": [
    "## Proje ##\n",
    "\n",
    "**Adım 1:** Kullanıcı Adı Oluşturma (username_generator)\n",
    "\n",
    "Girdi: Çalışanın first_name ve last_name değerleri.\n",
    "\n",
    "Çıktı: Kullanıcı adı user_name.\n",
    "\n",
    "Kurallar:\n",
    "İlk isimden ilk 3 harf.\n",
    "Soy isimden ilk 4 harf.\n",
    "\n",
    "Eğer ilk isim 3 harften az veya soy isim 4 harften az ise, isimlerin tamamı kullanılır."
   ]
  },
  {
   "cell_type": "code",
   "execution_count": 78,
   "id": "a24b876f-be60-4fad-885f-36c900ed42d0",
   "metadata": {},
   "outputs": [
    {
     "data": {
      "text/plain": [
       "'AbeSimp'"
      ]
     },
     "execution_count": 78,
     "metadata": {},
     "output_type": "execute_result"
    }
   ],
   "source": [
    "first_name = \"Abe\"\n",
    "last_name = \"Simpson\"\n",
    "\n",
    "def username_generator(first_name, last_name):\n",
    "    if (len(first_name) < 3) or (len(last_name) < 4):\n",
    "        user_name = first_name + last_name\n",
    "        return user_name\n",
    "    else:\n",
    "        user_name = first_name[:3] + last_name[:4]\n",
    "        return user_name\n",
    "\n",
    "username_generator(first_name, last_name)"
   ]
  },
  {
   "cell_type": "markdown",
   "id": "29fe7e21-bcf9-4614-a5b9-d52a3ce7f245",
   "metadata": {},
   "source": [
    "**Adım 2:** Geçici Şifre Oluşturma (password_generator)\n",
    "\n",
    "Fonksiyon Gereksinimleri:\n",
    "\n",
    "Girdi: Kullanıcı adı user_name.\n",
    "\n",
    "Çıktı: Geçici şifre password.\n",
    "\n",
    "Kurallar: Kullanıcı adındaki tüm harfler bir indeks sağa kaydırılır. Yani:\n",
    "\n",
    "Son harf, şifrenin ilk harfi olur.\n",
    "\n",
    "Örnek: \"AbeSimp\" → \"pAbeSim\""
   ]
  },
  {
   "cell_type": "code",
   "execution_count": 87,
   "id": "ad6e8713-ffeb-4c38-bf8a-f571b1cd99f8",
   "metadata": {},
   "outputs": [
    {
     "name": "stdout",
     "output_type": "stream",
     "text": [
      "User Name: AbeSimp\n",
      "Temporary Password: pAbeSim\n"
     ]
    }
   ],
   "source": [
    "first_name = \"Abe\"\n",
    "last_name = \"Simpson\"\n",
    "\n",
    "def username_generator(first_name, last_name):\n",
    "    if (len(first_name) < 3) or (len(last_name) < 4):\n",
    "        user_name = first_name + last_name\n",
    "        return user_name\n",
    "    else:\n",
    "        user_name = first_name[:3] + last_name[:4]\n",
    "        return user_name\n",
    "\n",
    "username_generator(first_name, last_name)\n",
    "\n",
    "# Şifre oluşturma fonksiyonu\n",
    "def password_generator(user_name):\n",
    "    password = \"\"\n",
    "    for i in range(len(user_name)):\n",
    "        password += user_name[i - 1]\n",
    "    return password\n",
    "\n",
    "\n",
    "user_name = username_generator(first_name, last_name)\n",
    "print(\"User Name:\", user_name)  \n",
    "\n",
    "temp_password = password_generator(user_name)\n",
    "print(\"Temporary Password:\", temp_password)  \n"
   ]
  },
  {
   "cell_type": "markdown",
   "id": "e77d7053-e830-45e6-94f5-0dbca76a3cf9",
   "metadata": {},
   "source": [
    "## String Formatlama Yöntemleri ##\n",
    "\n",
    "String'lerde formatlama işlemleri, metinlerin görünümünü değiştirmek ve standart hale getirmek için kullanılan önemli yöntemlerdir. Bu derste üç temel string formatlama metodunu öğrendik:"
   ]
  },
  {
   "cell_type": "code",
   "execution_count": 94,
   "id": "0ea9f237-2d06-4729-b6b7-008f88eab6db",
   "metadata": {},
   "outputs": [
    {
     "name": "stdout",
     "output_type": "stream",
     "text": [
      "hello world\n"
     ]
    }
   ],
   "source": [
    "#lower() Metodu: String'in tüm harflerini küçük harfe çevirir.\n",
    "text = \"HeLLo WoRLd\"\n",
    "print(text.lower()) "
   ]
  },
  {
   "cell_type": "code",
   "execution_count": 96,
   "id": "4be7ee87-db3f-4941-a8ef-dc1427868ed6",
   "metadata": {},
   "outputs": [
    {
     "name": "stdout",
     "output_type": "stream",
     "text": [
      "HELLO WORLD\n"
     ]
    }
   ],
   "source": [
    "#upper() Metodu: String'in tüm harflerini büyük harfe çevirir.\n",
    "text = \"HeLLo WoRLd\"\n",
    "print(text.upper())  "
   ]
  },
  {
   "cell_type": "code",
   "execution_count": 98,
   "id": "1a3c7854-16c7-4c1c-b79b-7eb995ddcd8d",
   "metadata": {},
   "outputs": [
    {
     "name": "stdout",
     "output_type": "stream",
     "text": [
      "Hello World\n"
     ]
    }
   ],
   "source": [
    "#title() Metodu: String'in her kelimesinin ilk harfini büyük yapar, diğer harfleri küçük yapar (title case formatı).\n",
    "text = \"HeLLo WoRLd\"\n",
    "print(text.title())  "
   ]
  },
  {
   "cell_type": "markdown",
   "id": "6c9e4909-6016-4d8d-a74a-b17b8d29d7bc",
   "metadata": {},
   "source": [
    "# String'leri Bölmek: .split() #\n",
    "\n",
    ".split() metodu, bir string’i belirli bir ayırıcıya (delimiter) göre bölerek bir liste döndürür. Eğer bir delimiter belirtilmezse, varsayılan olarak string’i boşluklardan ayırır."
   ]
  },
  {
   "cell_type": "code",
   "execution_count": 102,
   "id": "fceac754-3222-4109-bbbd-8ea5d36de6fe",
   "metadata": {},
   "outputs": [
    {
     "name": "stdout",
     "output_type": "stream",
     "text": [
      "['This', 'is', 'a', 'test']\n"
     ]
    }
   ],
   "source": [
    "sentence = \"This is a test\"\n",
    "words = sentence.split() \n",
    "print(words)  "
   ]
  },
  {
   "cell_type": "code",
   "execution_count": 105,
   "id": "5d1e409a-00ea-4f4d-a846-f859bbcf8753",
   "metadata": {},
   "outputs": [
    {
     "name": "stdout",
     "output_type": "stream",
     "text": [
      "['apple', 'banana', 'orange']\n"
     ]
    }
   ],
   "source": [
    "csv_line = \"apple,banana,orange\"\n",
    "fruits = csv_line.split(\",\")  \n",
    "print(fruits)  "
   ]
  },
  {
   "cell_type": "code",
   "execution_count": 107,
   "id": "92604455-fe34-43ee-bff0-f02e422cf89e",
   "metadata": {},
   "outputs": [
    {
     "name": "stdout",
     "output_type": "stream",
     "text": [
      "['sa', 'ta', 'a']\n"
     ]
    }
   ],
   "source": [
    "#Belirli Bir Karakter ile Bölme\n",
    "greatest_guitarist = \"santana\"\n",
    "result = greatest_guitarist.split('n')  \n",
    "print(result)  "
   ]
  },
  {
   "cell_type": "code",
   "execution_count": 109,
   "id": "9569a2b7-9e12-4ea6-80f1-d84ebf2f0474",
   "metadata": {},
   "outputs": [
    {
     "name": "stdout",
     "output_type": "stream",
     "text": [
      "['s', 'nt', 'n', '']\n"
     ]
    }
   ],
   "source": [
    "greatest_guitarist = \"santana\"\n",
    "result = greatest_guitarist.split('a')  \n",
    "print(result)  "
   ]
  },
  {
   "cell_type": "markdown",
   "id": "e53c58ac-5171-4fcc-af89-07b3444b8846",
   "metadata": {},
   "source": [
    "**Görev:**  Yazar Adlarını Listeye Bölme\n",
    "\n",
    "**Adım1:** \n",
    "Yazar adları, virgülle ayrılmış bir string olarak verilmiş.\n",
    ".split() metodu ile bu string’i ayrı ayrı isimlere böleceğiz."
   ]
  },
  {
   "cell_type": "code",
   "execution_count": 111,
   "id": "47022457-c78b-45a4-a7f1-e05921b11e52",
   "metadata": {},
   "outputs": [],
   "source": [
    "authors = \"Pablo Neruda, Sylvia Plath, Maya Angelou, Langston Hughes\""
   ]
  },
  {
   "cell_type": "code",
   "execution_count": 113,
   "id": "7d5eb4c5-0990-4793-b0b3-275324fb84f0",
   "metadata": {},
   "outputs": [
    {
     "name": "stdout",
     "output_type": "stream",
     "text": [
      "['Pablo Neruda', ' Sylvia Plath', ' Maya Angelou', ' Langston Hughes']\n"
     ]
    }
   ],
   "source": [
    "author_names = authors.split(',')\n",
    "print(author_names)"
   ]
  },
  {
   "cell_type": "markdown",
   "id": "67ab6a48-b488-41fd-a4bc-b0037deb4333",
   "metadata": {},
   "source": [
    "**Adım 2:** Sadece Soyadları Almak\n",
    "\n",
    "Yazar adlarının yalnızca soyadlarını almak istiyoruz.\n",
    "\n",
    "Bunun için:\n",
    "author_names listesindeki her bir ismi boşluğa göre böleceğiz.\n",
    "İlk isim hariç diğer kısmı alacağız (soyad)."
   ]
  },
  {
   "cell_type": "code",
   "execution_count": 118,
   "id": "0e845928-876d-40a6-a838-60ec237ad9bb",
   "metadata": {},
   "outputs": [
    {
     "name": "stdout",
     "output_type": "stream",
     "text": [
      "['Neruda', 'Plath', 'Angelou', 'Hughes']\n"
     ]
    }
   ],
   "source": [
    "author_last_names = [name.split(\" \")[-1] for name in author_names]\n",
    "print(author_last_names)"
   ]
  },
  {
   "cell_type": "markdown",
   "id": "eaece117-724e-439d-8fbd-d2061fdc61a4",
   "metadata": {},
   "source": [
    "## String'leri Birleştirme: .join() ##\n",
    "\n",
    ".join() metodu, bir listeyi birleştirerek tek bir string oluşturur. Bu, özellikle bir listeyi cümleye veya formatlı bir string'e dönüştürmek için kullanışlıdır."
   ]
  },
  {
   "cell_type": "code",
   "execution_count": 223,
   "id": "7eade3b8-eb73-47e0-8fd6-ac32f3077256",
   "metadata": {},
   "outputs": [
    {
     "name": "stdout",
     "output_type": "stream",
     "text": [
      "My Spanish Harlem Mona Lisa\n"
     ]
    }
   ],
   "source": [
    "words = ['My', 'Spanish', 'Harlem', 'Mona', 'Lisa']\n",
    "sentence = ' '.join(words)\n",
    "print(sentence) "
   ]
  },
  {
   "cell_type": "code",
   "execution_count": 122,
   "id": "bfe83be0-6560-4314-9b75-e5537b05d999",
   "metadata": {},
   "outputs": [
    {
     "name": "stdout",
     "output_type": "stream",
     "text": [
      "MySpanishHarlemMonaLisa\n"
     ]
    }
   ],
   "source": [
    "sentence_no_space = ''.join(words) #boşluk olmadan\n",
    "print(sentence_no_space)  "
   ]
  },
  {
   "cell_type": "code",
   "execution_count": 124,
   "id": "738791c6-d65c-47d0-bd68-159ea5002395",
   "metadata": {},
   "outputs": [
    {
     "name": "stdout",
     "output_type": "stream",
     "text": [
      "My-Spanish-Harlem-Mona-Lisa\n"
     ]
    }
   ],
   "source": [
    "hyphenated = '-'.join(words)\n",
    "print(hyphenated)  "
   ]
  },
  {
   "cell_type": "markdown",
   "id": "9308dfa7-a213-4a86-a8e0-b6cded8d4422",
   "metadata": {},
   "source": [
    "**String'leri Birleştirme: Gelişmiş Kullanımlar**\n",
    "\n",
    ".join() metodu, bir listeyi birleştirirken herhangi bir string'i delimiter (ayırıcı) olarak kullanmamıza olanak tanır. Bu delimite, virgül (,), yeni satır (\\n), tab (\\t) veya herhangi bir özel karakter olabilir."
   ]
  },
  {
   "cell_type": "code",
   "execution_count": 127,
   "id": "e3c135f5-fc32-4fd9-8724-203d4a4835d6",
   "metadata": {},
   "outputs": [
    {
     "name": "stdout",
     "output_type": "stream",
     "text": [
      "Oye Como Va,Smooth,Black Magic Woman,Samba Pa Ti,Maria Maria\n"
     ]
    }
   ],
   "source": [
    "santana_songs = ['Oye Como Va', 'Smooth', 'Black Magic Woman', 'Samba Pa Ti', 'Maria Maria']\n",
    "santana_songs_csv = ','.join(santana_songs)\n",
    "print(santana_songs_csv)"
   ]
  },
  {
   "cell_type": "code",
   "execution_count": 129,
   "id": "f9956e43-9471-4975-9e23-fe74f299922c",
   "metadata": {
    "scrolled": true
   },
   "outputs": [
    {
     "name": "stdout",
     "output_type": "stream",
     "text": [
      "Well I'm from the barrio\n",
      "You hear my rhythm on your radio\n",
      "You feel the turning of the world so soft and slow\n",
      "Turning you 'round and 'round\n"
     ]
    }
   ],
   "source": [
    "smooth_fifth_verse_lines = [\n",
    "    \"Well I'm from the barrio\",\n",
    "    \"You hear my rhythm on your radio\",\n",
    "    \"You feel the turning of the world so soft and slow\",\n",
    "    \"Turning you 'round and 'round\"\n",
    "]\n",
    "\n",
    "smooth_fifth_verse = '\\n'.join(smooth_fifth_verse_lines)\n",
    "print(smooth_fifth_verse)"
   ]
  },
  {
   "cell_type": "markdown",
   "id": "2b3e725b-c9ad-4871-9a54-da93d8124fb0",
   "metadata": {},
   "source": [
    "## String Temizleme: .strip() ##\n",
    "\n",
    ".strip() metodu, bir string'in başındaki ve sonundaki gereksiz boşlukları veya belirtilen karakterleri temizler. Bu, veri temizliği için oldukça kullanışlıdır.\n",
    "\n",
    "lstrip(): Sadece string'in solundaki (başındaki) karakterleri temizler.\n",
    "\n",
    "rstrip(): Sadece string'in sağındaki (sonundaki) karakterleri temizler."
   ]
  },
  {
   "cell_type": "code",
   "execution_count": 131,
   "id": "4c3252ba-d39d-4c79-bb6f-a334147cf0c1",
   "metadata": {},
   "outputs": [
    {
     "name": "stdout",
     "output_type": "stream",
     "text": [
      "rob thomas\n"
     ]
    }
   ],
   "source": [
    "featuring = \"           rob thomas                 \"\n",
    "cleaned = featuring.strip()\n",
    "print(cleaned)  "
   ]
  },
  {
   "cell_type": "code",
   "execution_count": 133,
   "id": "64a39373-0357-435c-82ae-fadb02435553",
   "metadata": {},
   "outputs": [
    {
     "name": "stdout",
     "output_type": "stream",
     "text": [
      "rob thomas       \n"
     ]
    }
   ],
   "source": [
    "featuring = \"!!!rob thomas       !!!!!\"\n",
    "cleaned = featuring.strip('!')\n",
    "print(cleaned)  # Çıktı: 'rob thomas       '"
   ]
  },
  {
   "cell_type": "markdown",
   "id": "7d4f909e-c851-4eb4-a8b0-105d094ad38e",
   "metadata": {},
   "source": [
    "**Görev:** Love, Maybe Şiirini Temizleme ve Birleştirme\n",
    "\n",
    "Problem:\n",
    "\n",
    "Audre Lorde’un \"Love, Maybe\" şiirinin satırlarını içeren bir liste var.\n",
    "Bu listede her satırın başında ve sonunda gereksiz boşluklar bulunuyor.\n",
    "\n",
    "Görev:\n",
    "\n",
    "1. Satırları temizleyerek yeni bir liste oluşturmak.\n",
    "\n",
    "2. Temizlenen satırları birleştirerek çok satırlı bir string oluşturmak.\n",
    "\n",
    "3. Şiiri düzgün bir şekilde yazdırmak."
   ]
  },
  {
   "cell_type": "code",
   "execution_count": 139,
   "id": "b0257d4d-5ccc-4574-a8ff-7c1cc2e741a9",
   "metadata": {},
   "outputs": [],
   "source": [
    "love_maybe_lines = [\n",
    "    \"     If I love you      \",\n",
    "    \"      is that a fact or a weapon   \",\n",
    "    \"    or is it both      \",\n",
    "    \"       as I fend for my life     \"\n",
    "]"
   ]
  },
  {
   "cell_type": "code",
   "execution_count": 146,
   "id": "c267318a-4212-4ed1-86aa-18a87fcf4f3e",
   "metadata": {},
   "outputs": [
    {
     "name": "stdout",
     "output_type": "stream",
     "text": [
      "['If I love you', 'is that a fact or a weapon', 'or is it both', 'as I fend for my life']\n"
     ]
    }
   ],
   "source": [
    "# Boşlukları Temzile\n",
    "love_maybe_lines_stripped = [i.strip() for i in love_maybe_lines]\n",
    "print(love_maybe_lines_stripped)"
   ]
  },
  {
   "cell_type": "code",
   "execution_count": 154,
   "id": "07e0b90e-993d-41e0-aa67-7fbbfc3d5cdf",
   "metadata": {},
   "outputs": [],
   "source": [
    "# 2. Satırları birleştir\n",
    "love_maybe_full = '\\n'.join(love_maybe_lines_stripped)"
   ]
  },
  {
   "cell_type": "code",
   "execution_count": 156,
   "id": "3e7ee45c-ee12-4cdd-b368-6d37e6811988",
   "metadata": {},
   "outputs": [
    {
     "name": "stdout",
     "output_type": "stream",
     "text": [
      "If I love you\n",
      "is that a fact or a weapon\n",
      "or is it both\n",
      "as I fend for my life\n"
     ]
    }
   ],
   "source": [
    "print(love_maybe_full)"
   ]
  },
  {
   "cell_type": "markdown",
   "id": "6fc92bdc-a153-49d8-a93d-92061d4d77ad",
   "metadata": {},
   "source": [
    "## String'de Değiştirme: .replace() ##\n",
    "\n",
    ".replace() metodu, bir string'de belirli bir alt string’i başka bir alt string ile değiştirmek için kullanılır. Bu metot, string'deki tüm eşleşen alt string'leri değiştirir."
   ]
  },
  {
   "cell_type": "code",
   "execution_count": 158,
   "id": "72cc2a1d-23c6-4bbd-aaa4-ef08591bc0fd",
   "metadata": {},
   "outputs": [
    {
     "name": "stdout",
     "output_type": "stream",
     "text": [
      "hella warld\n"
     ]
    }
   ],
   "source": [
    "text = \"hello world\"\n",
    "updated_text = text.replace(\"o\", \"a\")\n",
    "print(updated_text)  "
   ]
  },
  {
   "cell_type": "code",
   "execution_count": 160,
   "id": "97ae1d48-7474-4612-b0eb-99c0bf041e73",
   "metadata": {},
   "outputs": [
    {
     "name": "stdout",
     "output_type": "stream",
     "text": [
      "great morning\n"
     ]
    }
   ],
   "source": [
    "text = \"good morning\"\n",
    "updated_text = text.replace(\"good\", \"great\")\n",
    "print(updated_text)  "
   ]
  },
  {
   "cell_type": "markdown",
   "id": "9a69179f-118a-4580-a5ed-2bea58e7bb82",
   "metadata": {},
   "source": [
    "## String'de Belirli Bir Alt String Arama: .find() ##\n",
    "\n",
    ".find() metodu, bir string içerisinde belirtilen alt string’i arar ve bu alt string’in ilk geçtiği yerin indeksini döndürür.Boşlukları da sayar. Eğer aranan string bulunamazsa, -1 döner."
   ]
  },
  {
   "cell_type": "code",
   "execution_count": 167,
   "id": "0c4b5f06-a388-4f56-bae5-51538831084e",
   "metadata": {},
   "outputs": [
    {
     "name": "stdout",
     "output_type": "stream",
     "text": [
      "4\n"
     ]
    }
   ],
   "source": [
    "text = \"smooth\"\n",
    "index = text.find('t')\n",
    "print(index)  "
   ]
  },
  {
   "cell_type": "code",
   "execution_count": 169,
   "id": "9039f791-d6da-444a-a7c0-78284a7c0cbc",
   "metadata": {},
   "outputs": [
    {
     "name": "stdout",
     "output_type": "stream",
     "text": [
      "2\n"
     ]
    }
   ],
   "source": [
    "text = \"smooth\"\n",
    "index = text.find('oo')\n",
    "print(index)  "
   ]
  },
  {
   "cell_type": "markdown",
   "id": "9619e8e4-125b-4d42-802f-d6a9507a3da9",
   "metadata": {},
   "source": [
    "## String Formatlama: .format() ##\n",
    "\n",
    ".format() metodu, bir string'in içine değişkenleri kolayca yerleştirmek için kullanılır. Bu yöntem, daha okunabilir ve yeniden kullanılabilir kod yazmayı sağlar."
   ]
  },
  {
   "cell_type": "code",
   "execution_count": 171,
   "id": "c42ef196-665e-4226-8a8f-87b5e719c159",
   "metadata": {},
   "outputs": [
    {
     "name": "stdout",
     "output_type": "stream",
     "text": [
      "Hello, Alice!\n"
     ]
    }
   ],
   "source": [
    "name = \"Alice\"\n",
    "greeting = \"Hello, {}!\".format(name)\n",
    "print(greeting)  "
   ]
  },
  {
   "cell_type": "code",
   "execution_count": 173,
   "id": "314051a0-66ea-4208-9acb-797cdcf29648",
   "metadata": {},
   "outputs": [
    {
     "name": "stdout",
     "output_type": "stream",
     "text": [
      "My favorite song is Smooth by Santana.\n"
     ]
    }
   ],
   "source": [
    "song = \"Smooth\"\n",
    "artist = \"Santana\"\n",
    "statement = \"My favorite song is {} by {}.\".format(song, artist)\n",
    "print(statement)  "
   ]
  },
  {
   "cell_type": "code",
   "execution_count": null,
   "id": "d15758f7-835c-4f45-ba1b-1d584b33ba4b",
   "metadata": {},
   "outputs": [],
   "source": [
    "# Anahtar kelimeler kullanarak formatlama\n",
    "\"My favorite song is {song} by {artist}.\".format(song=\"Smooth\", artist=\"Santana\")"
   ]
  },
  {
   "cell_type": "code",
   "execution_count": 175,
   "id": "87742621-d5b4-4a65-b036-07dbe575dcc9",
   "metadata": {},
   "outputs": [
    {
     "name": "stdout",
     "output_type": "stream",
     "text": [
      "My favorite song is Smooth by Santana.\n"
     ]
    }
   ],
   "source": [
    "# Değişken sırasını önemsememek\n",
    "def favorite_song_statement(song, artist):\n",
    "    return \"My favorite song is {song} by {artist}.\".format(artist=artist, song=song)\n",
    "\n",
    "print(favorite_song_statement(\"Smooth\", \"Santana\"))"
   ]
  },
  {
   "cell_type": "markdown",
   "id": "5b82881e-6a47-41e6-aa6f-d0c3a9a5cfa0",
   "metadata": {},
   "source": [
    "## Proje: String Metodları ile Veri İşleme ##\n",
    "\n",
    "Bu görevde bir dizeyi (string) parçalayıp, temizleyip düzenleyerek her bir şiirin başlığını, yazarını ve yayınlanma tarihini ayrı bir şekilde işleriz. Sonuç olarak formatlanmış cümlelerle bilgiyi düzgün bir şekilde sunarız."
   ]
  },
  {
   "cell_type": "code",
   "execution_count": 184,
   "id": "03761c8b-af5b-44b7-ac87-cff41af0aa39",
   "metadata": {},
   "outputs": [
    {
     "name": "stdout",
     "output_type": "stream",
     "text": [
      "After Apple-Picking:Robert Frost:1914, The Love Song of J. Alfred Prufrock:T. S. Eliot:1915, The Red Wheelbarrow:William Carlos Williams:1923\n"
     ]
    }
   ],
   "source": [
    "highlighted_poems = \"After Apple-Picking:Robert Frost:1914, The Love Song of J. Alfred Prufrock:T. S. Eliot:1915, The Red Wheelbarrow:William Carlos Williams:1923\"\n",
    "print(highlighted_poems)"
   ]
  },
  {
   "cell_type": "markdown",
   "id": "e439a78c-5d96-4269-972f-eda1adc4651e",
   "metadata": {},
   "source": [
    "**Adım 1:** highlighted_poems dizesini virgüllere göre bölün ve highlighted_poems_list adlı bir listeye kaydedin."
   ]
  },
  {
   "cell_type": "code",
   "execution_count": 207,
   "id": "7d4c0a26-bb6f-4380-bb9a-e8398f28d5ec",
   "metadata": {},
   "outputs": [
    {
     "name": "stdout",
     "output_type": "stream",
     "text": [
      "['After Apple-Picking:Robert Frost:1914', ' The Love Song of J. Alfred Prufrock:T. S. Eliot:1915', ' The Red Wheelbarrow:William Carlos Williams:1923']\n"
     ]
    }
   ],
   "source": [
    "highlighted_poems_list = highlighted_poems.split(\",\")\n",
    "print(highlighted_poems_list)"
   ]
  },
  {
   "cell_type": "markdown",
   "id": "cd5399fd-e75e-46fb-96bf-c261dfb8b254",
   "metadata": {},
   "source": [
    "**Adım 2:** Her şiirdeki gereksiz boşlukları temizleyin ve sonuçları highlighted_poems_stripped adlı bir listeye kaydedin."
   ]
  },
  {
   "cell_type": "code",
   "execution_count": 210,
   "id": "b72833d5-3904-4419-b34c-14555256f6df",
   "metadata": {},
   "outputs": [
    {
     "name": "stdout",
     "output_type": "stream",
     "text": [
      "['After Apple-Picking:Robert Frost:1914', 'The Love Song of J. Alfred Prufrock:T. S. Eliot:1915', 'The Red Wheelbarrow:William Carlos Williams:1923']\n"
     ]
    }
   ],
   "source": [
    "highlighted_poems_stripped = [i.strip() for i in highlighted_poems_list]\n",
    "print(highlighted_poems_stripped)"
   ]
  },
  {
   "cell_type": "markdown",
   "id": "76e15069-7183-4f56-8ba4-f0d7b8d778b5",
   "metadata": {},
   "source": [
    "**Adım 3:** Her şiirin bilgilerini : karakterine göre bölün ve highlighted_poems_details adlı bir listeye ekleyin."
   ]
  },
  {
   "cell_type": "code",
   "execution_count": 215,
   "id": "0bb1d697-1107-4517-80b0-a983f522778c",
   "metadata": {},
   "outputs": [
    {
     "name": "stdout",
     "output_type": "stream",
     "text": [
      "[['After Apple-Picking', 'Robert Frost', '1914'], ['The Love Song of J. Alfred Prufrock', 'T. S. Eliot', '1915'], ['The Red Wheelbarrow', 'William Carlos Williams', '1923']]\n"
     ]
    }
   ],
   "source": [
    "highlighted_poems_details = [i.split(\":\") for i in highlighted_poems_stripped]\n",
    "print(highlighted_poems_details)"
   ]
  },
  {
   "cell_type": "markdown",
   "id": "22cc3b2d-901c-4358-84c9-78ac418ec3a3",
   "metadata": {},
   "source": [
    "**Adım 4:** Her şiir için başlıkları, yazarları ve tarihleri titles, poets, ve dates adlı listelere ayırın."
   ]
  },
  {
   "cell_type": "code",
   "execution_count": 218,
   "id": "d37297a0-a7a4-48a8-a02b-3aac944dd9d9",
   "metadata": {},
   "outputs": [
    {
     "name": "stdout",
     "output_type": "stream",
     "text": [
      "Titles: ['After Apple-Picking', 'The Love Song of J. Alfred Prufrock', 'The Red Wheelbarrow']\n",
      "Poets: ['Robert Frost', 'T. S. Eliot', 'William Carlos Williams']\n",
      "Dates: ['1914', '1915', '1923']\n"
     ]
    }
   ],
   "source": [
    "titles = []\n",
    "poets = []\n",
    "dates = []\n",
    "\n",
    "for i in highlighted_poems_details:\n",
    "    titles.append(i[0])\n",
    "    poets.append(i[1])\n",
    "    dates.append(i[2])\n",
    "\n",
    "print(\"Titles:\", titles)\n",
    "print(\"Poets:\", poets)\n",
    "print(\"Dates:\", dates)"
   ]
  },
  {
   "cell_type": "markdown",
   "id": "20088c8b-1273-4644-b614-4bf0b9ea0159",
   "metadata": {},
   "source": [
    "**Adım 5:** Her şiiri formatlanmış bir cümle olarak yazdırın."
   ]
  },
  {
   "cell_type": "code",
   "execution_count": 220,
   "id": "1c880431-39b3-47f5-aa25-f00f130cc6df",
   "metadata": {},
   "outputs": [
    {
     "name": "stdout",
     "output_type": "stream",
     "text": [
      "The poem 'After Apple-Picking' was published by Robert Frost in 1914.\n",
      "The poem 'The Love Song of J. Alfred Prufrock' was published by T. S. Eliot in 1915.\n",
      "The poem 'The Red Wheelbarrow' was published by William Carlos Williams in 1923.\n"
     ]
    }
   ],
   "source": [
    "for i in range(len(titles)):\n",
    "    print(\"The poem '{}' was published by {} in {}.\".format(titles[i], poets[i], dates[i]))"
   ]
  },
  {
   "cell_type": "markdown",
   "id": "48e684e8-7daa-4f10-9646-08cbbd1b41ed",
   "metadata": {},
   "source": [
    "## Proje ##\n",
    "Tıbbi Verileri İşleme ve Analiz Etme\n",
    "\n",
    "Bu projede, verilen tıbbi verileri temizleyip analiz etmek için Python string metodlarını ve liste işlemlerini kullanacağız."
   ]
  },
  {
   "cell_type": "code",
   "execution_count": 228,
   "id": "d484d2d6-fb68-4207-a34a-553288f5f057",
   "metadata": {},
   "outputs": [
    {
     "name": "stdout",
     "output_type": "stream",
     "text": [
      "Marina Allison   ,27   ,   31.1 , #7010.0   ;Markus Valdez   ,   30, 22.4,   #4050.0 ;Connie Ballard ,43 ,   25.3 , #12060.0 ;Darnell Weber   ,   35   , 20.6   , #7500.0; Sylvie Charles   ,22, 22.1 ,#3022.0   ;   Vinay Padilla,24,   26.9 ,#4620.0 ;Meredith Santiago, 51   , 29.3 ,#16330.0;   Andre Mccarty, 19,22.7 , #2900.0 ; Lorena Hodson ,65, 33.1 , #19370.0; Isaac Vu ,34, 24.8,   #7045.0\n"
     ]
    }
   ],
   "source": [
    "medical_data = \"\"\"Marina Allison   ,27   ,   31.1 , #7010.0   ;Markus Valdez   ,   30, 22.4,   #4050.0 ;Connie Ballard ,43 ,   25.3 , #12060.0 ;Darnell Weber   ,   35   , 20.6   , #7500.0; Sylvie Charles   ,22, 22.1 ,#3022.0   ;   Vinay Padilla,24,   26.9 ,#4620.0 ;Meredith Santiago, 51   , 29.3 ,#16330.0;   Andre Mccarty, 19,22.7 , #2900.0 ; Lorena Hodson ,65, 33.1 , #19370.0; Isaac Vu ,34, 24.8,   #7045.0\"\"\"\n",
    "print(medical_data)"
   ]
  },
  {
   "cell_type": "markdown",
   "id": "dc32cc58-e042-4f76-b772-c8771e19145a",
   "metadata": {},
   "source": [
    "**Adım 2:** # Karakterini $ ile Değiştirme"
   ]
  },
  {
   "cell_type": "code",
   "execution_count": 243,
   "id": "46dad580-03b5-4b37-97e0-5d8bd679b264",
   "metadata": {},
   "outputs": [
    {
     "name": "stdout",
     "output_type": "stream",
     "text": [
      "Marina Allison   ,27   ,   31.1 , $7010.0   ;Markus Valdez   ,   30, 22.4,   $4050.0 ;Connie Ballard ,43 ,   25.3 , $12060.0 ;Darnell Weber   ,   35   , 20.6   , $7500.0; Sylvie Charles   ,22, 22.1 ,$3022.0   ;   Vinay Padilla,24,   26.9 ,$4620.0 ;Meredith Santiago, 51   , 29.3 ,$16330.0;   Andre Mccarty, 19,22.7 , $2900.0 ; Lorena Hodson ,65, 33.1 , $19370.0; Isaac Vu ,34, 24.8,   $7045.0\n"
     ]
    }
   ],
   "source": [
    "updated_medical_data = medical_data.replace('#', '$')\n",
    "print(updated_medical_data)"
   ]
  },
  {
   "cell_type": "markdown",
   "id": "2b859b9f-5fd8-407c-bfc1-5d0551faeb6f",
   "metadata": {},
   "source": [
    "**Adım 3:** Kayıt sayısını hesaplama"
   ]
  },
  {
   "cell_type": "code",
   "execution_count": 246,
   "id": "440e582d-e051-4cc7-8b14-97e43b9ebf84",
   "metadata": {},
   "outputs": [
    {
     "name": "stdout",
     "output_type": "stream",
     "text": [
      "There are 10 medical records in the data.\n"
     ]
    }
   ],
   "source": [
    "num_records = 0\n",
    "for i in updated_medical_data:\n",
    "    if i == '$':\n",
    "        num_records += 1\n",
    "\n",
    "print(f\"There are {num_records} medical records in the data.\")"
   ]
  },
  {
   "cell_type": "markdown",
   "id": "2ee79760-77cf-4a63-b7f4-d5e7df302986",
   "metadata": {},
   "source": [
    "**Adım 4:** Veriyi liste haline getirme"
   ]
  },
  {
   "cell_type": "code",
   "execution_count": 249,
   "id": "4c910811-2fcf-4dee-813a-a8553048acaf",
   "metadata": {},
   "outputs": [
    {
     "name": "stdout",
     "output_type": "stream",
     "text": [
      "['Marina Allison   ,27   ,   31.1 , $7010.0   ', 'Markus Valdez   ,   30, 22.4,   $4050.0 ', 'Connie Ballard ,43 ,   25.3 , $12060.0 ', 'Darnell Weber   ,   35   , 20.6   , $7500.0', ' Sylvie Charles   ,22, 22.1 ,$3022.0   ', '   Vinay Padilla,24,   26.9 ,$4620.0 ', 'Meredith Santiago, 51   , 29.3 ,$16330.0', '   Andre Mccarty, 19,22.7 , $2900.0 ', ' Lorena Hodson ,65, 33.1 , $19370.0', ' Isaac Vu ,34, 24.8,   $7045.0']\n"
     ]
    }
   ],
   "source": [
    "medical_data_split = updated_medical_data.split(';')\n",
    "print(medical_data_split)"
   ]
  },
  {
   "cell_type": "markdown",
   "id": "46e88b4f-7d10-4aa2-a321-9a34c6f30132",
   "metadata": {},
   "source": [
    "**Adım 5:** 5. Her Kaydı Alt Liste Haline Getirme"
   ]
  },
  {
   "cell_type": "code",
   "execution_count": 252,
   "id": "86bb20df-7381-4740-94f4-b661ca00c600",
   "metadata": {},
   "outputs": [
    {
     "name": "stdout",
     "output_type": "stream",
     "text": [
      "[['Marina Allison   ', '27   ', '   31.1 ', ' $7010.0   '], ['Markus Valdez   ', '   30', ' 22.4', '   $4050.0 '], ['Connie Ballard ', '43 ', '   25.3 ', ' $12060.0 '], ['Darnell Weber   ', '   35   ', ' 20.6   ', ' $7500.0'], [' Sylvie Charles   ', '22', ' 22.1 ', '$3022.0   '], ['   Vinay Padilla', '24', '   26.9 ', '$4620.0 '], ['Meredith Santiago', ' 51   ', ' 29.3 ', '$16330.0'], ['   Andre Mccarty', ' 19', '22.7 ', ' $2900.0 '], [' Lorena Hodson ', '65', ' 33.1 ', ' $19370.0'], [' Isaac Vu ', '34', ' 24.8', '   $7045.0']]\n"
     ]
    }
   ],
   "source": [
    "medical_records = []\n",
    "for i in medical_data_split:\n",
    "    medical_records.append(i.split(','))\n",
    "\n",
    "print(medical_records)"
   ]
  },
  {
   "cell_type": "markdown",
   "id": "d00f696c-20b1-4df3-b71f-7d19867003f4",
   "metadata": {},
   "source": [
    "**Adım 6:** Veriyi Temizleme"
   ]
  },
  {
   "cell_type": "code",
   "execution_count": 255,
   "id": "8ef96c90-8356-4bc9-8b06-fc4321c9deae",
   "metadata": {},
   "outputs": [
    {
     "name": "stdout",
     "output_type": "stream",
     "text": [
      "[['Marina Allison', '27', '31.1', '$7010.0'], ['Markus Valdez', '30', '22.4', '$4050.0'], ['Connie Ballard', '43', '25.3', '$12060.0'], ['Darnell Weber', '35', '20.6', '$7500.0'], ['Sylvie Charles', '22', '22.1', '$3022.0'], ['Vinay Padilla', '24', '26.9', '$4620.0'], ['Meredith Santiago', '51', '29.3', '$16330.0'], ['Andre Mccarty', '19', '22.7', '$2900.0'], ['Lorena Hodson', '65', '33.1', '$19370.0'], ['Isaac Vu', '34', '24.8', '$7045.0']]\n"
     ]
    }
   ],
   "source": [
    "medical_records_clean = []\n",
    "for record in medical_records:\n",
    "    record_clean = []\n",
    "    for item in record:\n",
    "        record_clean.append(item.strip())\n",
    "    medical_records_clean.append(record_clean)\n",
    "\n",
    "print(medical_records_clean)"
   ]
  },
  {
   "cell_type": "markdown",
   "id": "f4746efd-6b92-4c80-8fcd-4122ebebeec8",
   "metadata": {},
   "source": [
    "**Adım 7:**  İsimleri Yazdırma ve Büyük Harfe Çevirme"
   ]
  },
  {
   "cell_type": "code",
   "execution_count": 259,
   "id": "1fe5d54b-20d5-496b-9b54-7c59b8ba2806",
   "metadata": {},
   "outputs": [
    {
     "name": "stdout",
     "output_type": "stream",
     "text": [
      "MARINA ALLISON\n",
      "MARKUS VALDEZ\n",
      "CONNIE BALLARD\n",
      "DARNELL WEBER\n",
      "SYLVIE CHARLES\n",
      "VINAY PADILLA\n",
      "MEREDITH SANTIAGO\n",
      "ANDRE MCCARTY\n",
      "LORENA HODSON\n",
      "ISAAC VU\n"
     ]
    }
   ],
   "source": [
    "for record in medical_records_clean:\n",
    "    record[0] = record[0].upper()\n",
    "    print(record[0])"
   ]
  },
  {
   "cell_type": "markdown",
   "id": "27780008-1bfa-423c-af08-a83390cb3f7f",
   "metadata": {},
   "source": [
    "**Adım 8:** Verileri Ayrı Listelere Ayırma"
   ]
  },
  {
   "cell_type": "code",
   "execution_count": 270,
   "id": "cf84aa6c-6863-4176-ad63-4d213870dd38",
   "metadata": {},
   "outputs": [
    {
     "name": "stdout",
     "output_type": "stream",
     "text": [
      "['MARINA ALLISON', 'MARKUS VALDEZ', 'CONNIE BALLARD', 'DARNELL WEBER', 'SYLVIE CHARLES', 'VINAY PADILLA', 'MEREDITH SANTIAGO', 'ANDRE MCCARTY', 'LORENA HODSON', 'ISAAC VU']\n",
      "['27', '30', '43', '35', '22', '24', '51', '19', '65', '34']\n",
      "['31.1', '22.4', '25.3', '20.6', '22.1', '26.9', '29.3', '22.7', '33.1', '24.8']\n",
      "['$7010.0', '$4050.0', '$12060.0', '$7500.0', '$3022.0', '$4620.0', '$16330.0', '$2900.0', '$19370.0', '$7045.0']\n"
     ]
    }
   ],
   "source": [
    "names = []\n",
    "ages = []\n",
    "bmis = []\n",
    "insurance_costs = []\n",
    "\n",
    "for record in medical_records_clean:\n",
    "    names.append(record[0])\n",
    "    ages.append(record[1])\n",
    "    bmis.append(record[2])\n",
    "    insurance_costs.append(record[3])\n",
    "\n",
    "print(names)\n",
    "print(ages)\n",
    "print(bmis)\n",
    "print(insurance_costs)"
   ]
  },
  {
   "cell_type": "markdown",
   "id": "c10c5e8f-215b-4fa8-afed-575c7db29b6a",
   "metadata": {},
   "source": [
    "**Adım 9:** Ortalama BMI Hesaplama"
   ]
  },
  {
   "cell_type": "code",
   "execution_count": 273,
   "id": "42444b91-8ac4-4dcd-9388-ac30b05b815c",
   "metadata": {},
   "outputs": [
    {
     "name": "stdout",
     "output_type": "stream",
     "text": [
      "Average BMI: 25.830000000000002\n"
     ]
    }
   ],
   "source": [
    "total_bmi = 0\n",
    "for bmi in bmis:\n",
    "    total_bmi += float(bmi)\n",
    "\n",
    "average_bmi = total_bmi / len(bmis)\n",
    "print(f\"Average BMI: {average_bmi}\")"
   ]
  },
  {
   "cell_type": "markdown",
   "id": "4b311eb8-bbdd-4473-a3ec-32e7228b6430",
   "metadata": {},
   "source": [
    "**Adım 10:** Ortalama Sigorta Maliyetini Hesaplama"
   ]
  },
  {
   "cell_type": "code",
   "execution_count": 276,
   "id": "53dae75e-e174-4882-acbb-c21076d6a066",
   "metadata": {},
   "outputs": [
    {
     "name": "stdout",
     "output_type": "stream",
     "text": [
      "Average Insurance Cost: $8390.7\n"
     ]
    }
   ],
   "source": [
    "total_cost = 0\n",
    "for cost in insurance_costs:\n",
    "    total_cost += float(cost.strip('$'))\n",
    "\n",
    "average_cost = total_cost / len(insurance_costs)\n",
    "print(f\"Average Insurance Cost: ${average_cost}\")"
   ]
  },
  {
   "cell_type": "markdown",
   "id": "49631a67-599b-4c8b-acf2-acbbd5b3bdd5",
   "metadata": {},
   "source": [
    "**Adım 11:** Formatlanmış Çıktılar"
   ]
  },
  {
   "cell_type": "code",
   "execution_count": 279,
   "id": "8d9f1df7-f4c5-44f7-ad5c-10f8903222a7",
   "metadata": {},
   "outputs": [
    {
     "name": "stdout",
     "output_type": "stream",
     "text": [
      "MARINA ALLISON is 27 years old with a BMI of 31.1 and an insurance cost of $7010.0.\n",
      "MARKUS VALDEZ is 30 years old with a BMI of 22.4 and an insurance cost of $4050.0.\n",
      "CONNIE BALLARD is 43 years old with a BMI of 25.3 and an insurance cost of $12060.0.\n",
      "DARNELL WEBER is 35 years old with a BMI of 20.6 and an insurance cost of $7500.0.\n",
      "SYLVIE CHARLES is 22 years old with a BMI of 22.1 and an insurance cost of $3022.0.\n",
      "VINAY PADILLA is 24 years old with a BMI of 26.9 and an insurance cost of $4620.0.\n",
      "MEREDITH SANTIAGO is 51 years old with a BMI of 29.3 and an insurance cost of $16330.0.\n",
      "ANDRE MCCARTY is 19 years old with a BMI of 22.7 and an insurance cost of $2900.0.\n",
      "LORENA HODSON is 65 years old with a BMI of 33.1 and an insurance cost of $19370.0.\n",
      "ISAAC VU is 34 years old with a BMI of 24.8 and an insurance cost of $7045.0.\n"
     ]
    }
   ],
   "source": [
    "for i in range(len(names)):\n",
    "    print(f\"{names[i]} is {ages[i]} years old with a BMI of {bmis[i]} and an insurance cost of {insurance_costs[i]}.\")"
   ]
  },
  {
   "cell_type": "markdown",
   "id": "a96433c0-41c7-4752-822b-8699788a5776",
   "metadata": {},
   "source": [
    "## Python Sözlüklerine Giriş (Dictionaries) ##\n",
    "\n",
    "**Sözlük (Dictionary) Nedir?**\n",
    "    \n",
    "Python'da sözlük (dictionary), anahtar-değer çiftlerinden oluşan bir veri yapısıdır.\n",
    "Sözlükler, bir veriyi başka bir veriyle eşleştirip hızlı bir şekilde bu verilere erişmemizi sağlar.\n",
    "\n",
    "Python sözlüklerinde anahtarlar (keys) değiştirilemez (immutable) olmalıdır.\n",
    "Listeler (list) gibi değiştirilebilir (mutable) veri tipleri anahtar olarak kullanılamaz.Örn:\n",
    "\n",
    "powers = {[1, 2, 4, 8, 16]: 2, [1, 3, 9, 27, 81]: 3}\n",
    "\n",
    "Bu kod hata verir çünkü listeler [1, 2, 4, 8, 16] ve [1, 3, 9, 27, 81] değiştirilebilir veri tipleridir ve anahtar olarak kullanılamaz.\n",
    "\n",
    "**Anahtarları string yaparak hatayı düzeltin**\n",
    "\n",
    "powers = {\"powers_of_two\": [1, 2, 4, 8, 16], \"powers_of_three\": [1, 3, 9, 27, 81]}"
   ]
  },
  {
   "cell_type": "code",
   "execution_count": 1,
   "id": "76cbce91-6dc8-4c26-9838-acdad203c274",
   "metadata": {},
   "outputs": [
    {
     "name": "stdout",
     "output_type": "stream",
     "text": [
      "{'living room': 21, 'kitchen': 23, 'bedroom': 20}\n"
     ]
    }
   ],
   "source": [
    "sensors = {\"living room\": 21, \"kitchen\": 23, \"bedroom\": 20}\n",
    "print(sensors)"
   ]
  },
  {
   "cell_type": "code",
   "execution_count": 3,
   "id": "2bbc336e-5ba6-4cde-b7e1-15f9b8fecbfa",
   "metadata": {},
   "outputs": [
    {
     "name": "stdout",
     "output_type": "stream",
     "text": [
      "{'mountain': 'orod', 'bread': 'bass', 'friend': 'mellon', 'horse': 'roch'}\n"
     ]
    }
   ],
   "source": [
    "translations = {\n",
    "    \"mountain\": \"orod\",\n",
    "    \"bread\": \"bass\",\n",
    "    \"friend\": \"mellon\",\n",
    "    \"horse\": \"roch\"\n",
    "}\n",
    "\n",
    "print(translations)"
   ]
  },
  {
   "cell_type": "markdown",
   "id": "6e9206dd-c877-4904-b7dc-75ad32126578",
   "metadata": {},
   "source": [
    "Anahtarlar ve Değerler:\n",
    "\n",
    "\n",
    "Anahtarlar (keys): \"mountain\", \"bread\", \"friend\", \"horse\".\n",
    "Değerler (values): \"orod\", \"bass\", \"mellon\", \"roch\"."
   ]
  },
  {
   "cell_type": "code",
   "execution_count": 104,
   "id": "48b1e241-c632-489b-997b-e73178015fb8",
   "metadata": {},
   "outputs": [
    {
     "name": "stdout",
     "output_type": "stream",
     "text": [
      "mellon\n"
     ]
    }
   ],
   "source": [
    "#Bir anahtarın değerine erişmek için şu yazımı kullanabilirsiniz:\n",
    "\n",
    "print(translations[\"friend\"])"
   ]
  },
  {
   "cell_type": "code",
   "execution_count": 106,
   "id": "27f36bbf-a92e-448a-89a0-040b55739f27",
   "metadata": {},
   "outputs": [
    {
     "name": "stdout",
     "output_type": "stream",
     "text": [
      "{'mountain': 'orod', 'bread': 'bass', 'friend': 'mellon', 'horse': 'roch', 'river': 'sirion'}\n"
     ]
    }
   ],
   "source": [
    "#Yeni bir anahtar-değer çifti eklemek için:\n",
    "\n",
    "translations[\"river\"] = \"sirion\"\n",
    "print(translations)"
   ]
  },
  {
   "cell_type": "code",
   "execution_count": 14,
   "id": "0d115b4c-5347-4e7d-a797-b27905b454e2",
   "metadata": {},
   "outputs": [
    {
     "name": "stdout",
     "output_type": "stream",
     "text": [
      "{'name': 'Alice', 'age': 30}\n"
     ]
    }
   ],
   "source": [
    "#Boş Sözlük\n",
    "user_data = {}  \n",
    "\n",
    "user_data[\"name\"] = \"Alice\"\n",
    "user_data[\"age\"] = 30\n",
    "\n",
    "print(user_data)"
   ]
  },
  {
   "cell_type": "code",
   "execution_count": 16,
   "id": "f69cf2c7-35e0-413d-a70a-caaea524f58d",
   "metadata": {},
   "outputs": [
    {
     "name": "stdout",
     "output_type": "stream",
     "text": [
      "{1: 1, 2: 4, 3: 9, 4: 16, 5: 25}\n"
     ]
    }
   ],
   "source": [
    "squares = {}\n",
    "\n",
    "for i in range(1, 6):\n",
    "    squares[i] = i ** 2\n",
    "    \n",
    "print(squares)"
   ]
  },
  {
   "cell_type": "markdown",
   "id": "2bd5aaa0-67b7-44ef-89a2-6bc8282bdaa9",
   "metadata": {},
   "source": [
    "**Python Sözlüğüne Anahtar-Değer Eklemek**\n",
    "\n",
    "Bir sözlüğe anahtar-değer (key-value) çifti eklemek oldukça basittir. Kullanmanız gereken temel söz dizimi şu şekildedir:\n",
    "\n",
    "dictionary[ key ] = value"
   ]
  },
  {
   "cell_type": "markdown",
   "id": "92e85234-3d0c-44cb-9b51-022bfd37a77f",
   "metadata": {},
   "source": [
    "**Görev:** Hayvanat Bahçesi Sözlüğü\n",
    "\n",
    "**Adım1:** animals_in_zoo adında boş Sözlük Oluşturma"
   ]
  },
  {
   "cell_type": "code",
   "execution_count": 25,
   "id": "db652931-16df-4785-90ae-91ed4fc938b1",
   "metadata": {},
   "outputs": [],
   "source": [
    "animals_in_zoo = {}"
   ]
  },
  {
   "cell_type": "markdown",
   "id": "a3a7651c-46c4-4ff1-8d92-b1319a296e80",
   "metadata": {},
   "source": [
    "**Adım 2:** Hayvanat bahçesinde 8 zebra gördünüz. Bu veriyi sözlüğe ekleyin"
   ]
  },
  {
   "cell_type": "code",
   "execution_count": 28,
   "id": "ab9496f4-eb52-4b2e-8ebe-02e8fafd20ff",
   "metadata": {},
   "outputs": [],
   "source": [
    "animals_in_zoo[\"zebras\"] = 8"
   ]
  },
  {
   "cell_type": "markdown",
   "id": "17f8b025-3f8d-474c-bee5-3a82c897840d",
   "metadata": {},
   "source": [
    "**Adım 3:** Primat evinde 12 maymun gördünüz. Bu veriyi sözlüğe ekleyin."
   ]
  },
  {
   "cell_type": "code",
   "execution_count": 31,
   "id": "8e92ac21-75f2-44bb-8a65-45e2578a9992",
   "metadata": {},
   "outputs": [],
   "source": [
    "animals_in_zoo[\"monkeys\"] = 12"
   ]
  },
  {
   "cell_type": "markdown",
   "id": "d928d42e-4b17-46f9-ba31-24f519c9caad",
   "metadata": {},
   "source": [
    "**Adım 4:** Hiç dinozor görmediniz. Bu bilgiyi de sözlüğe ekleyin (değeri 0 yaparak)"
   ]
  },
  {
   "cell_type": "code",
   "execution_count": 34,
   "id": "29212a64-aed2-4c69-b9a1-379d543b81bc",
   "metadata": {},
   "outputs": [],
   "source": [
    "animals_in_zoo[\"dinosaurs\"] = 0"
   ]
  },
  {
   "cell_type": "markdown",
   "id": "171d9d38-0ac9-4209-af60-38874433f403",
   "metadata": {},
   "source": [
    "Son Olarak Sözlüğü Yazdırın."
   ]
  },
  {
   "cell_type": "code",
   "execution_count": 41,
   "id": "9c1e4500-bd16-4ed9-8a8b-59851a70d688",
   "metadata": {},
   "outputs": [
    {
     "name": "stdout",
     "output_type": "stream",
     "text": [
      "{'zebras': 8, 'monkeys': 12, 'dinosaurs': 0}\n"
     ]
    }
   ],
   "source": [
    "print(animals_in_zoo)"
   ]
  },
  {
   "cell_type": "markdown",
   "id": "034db047-fb3c-40d3-86bf-20fa7b15b80b",
   "metadata": {},
   "source": [
    "## Birden Fazla Anahtar-Değer Çifti Eklemek ##\n",
    "\n",
    "Bir sözlüğe birden fazla anahtar-değer çiftini tek seferde eklemek için .update() metodunu kullanabilirsiniz."
   ]
  },
  {
   "cell_type": "code",
   "execution_count": 45,
   "id": "d3bdd69c-97d2-4af5-929c-1b63c50fea93",
   "metadata": {},
   "outputs": [
    {
     "name": "stdout",
     "output_type": "stream",
     "text": [
      "{'coder123': 12345, 'debugger456': 67890, 'theLooper': 138475, 'stringQueen': 85739}\n"
     ]
    }
   ],
   "source": [
    "user_ids = {\"coder123\": 12345, \"debugger456\": 67890}\n",
    "\n",
    "user_ids.update({\"theLooper\": 138475, \"stringQueen\": 85739})\n",
    "\n",
    "print(user_ids)"
   ]
  },
  {
   "cell_type": "markdown",
   "id": "8ab69d3a-c1b3-4acb-8167-36f80e54edaf",
   "metadata": {},
   "source": [
    "## Dict Comprehensions: İki Listeyi Sözlüğe Dönüştürme: ##\n",
    "\n",
    "Elimizde iki liste var:\n",
    "\n",
    "İçecek isimleri (drinks)\n",
    "\n",
    "Her bir içeceğin kafein miktarları (caffeine)\n",
    "\n",
    "Bu iki listeyi, içecek isimlerini anahtar ve kafein miktarlarını değer olarak eşleyen bir sözlüğe dönüştürmek istiyoruz.\n",
    "\n",
    "1. Listeleri Birleştirmek için zip() Kullanımı\n",
    "   \n",
    "zip() fonksiyonu, iki listeyi birleştirerek bir iterator oluşturur.\n",
    "Bu iterator, listelerin elemanlarını çiftler (tuples) halinde döner.\n",
    "\n",
    "2. Dict Comprehension Kullanarak Sözlük Oluşturma\n",
    "   \n",
    "dict comprehension ile, zipped_drinks iterator'undaki her bir çifti key:value formatına dönüştürürüz."
   ]
  },
  {
   "cell_type": "code",
   "execution_count": 77,
   "id": "5ee155a9-415c-4ea4-96e9-c48e18373a5e",
   "metadata": {},
   "outputs": [
    {
     "name": "stdout",
     "output_type": "stream",
     "text": [
      "{'latte': 80, 'espresso': 120, 'cappuccino': 90, 'americano': 95}\n"
     ]
    }
   ],
   "source": [
    "drinks = ['latte', 'espresso', 'cappuccino', 'americano']\n",
    "caffeine = [80, 120, 90, 95]\n",
    "\n",
    "# 1. zip() ile listeleri birleştir\n",
    "zipped_drinks = zip(drinks, caffeine)\n",
    "\n",
    "# 2. Dict comprehension ile sözlük oluştur\n",
    "drinks_to_caffeine = {drink: mg for drink, mg in zipped_drinks}\n",
    "\n",
    "print(drinks_to_caffeine)"
   ]
  },
  {
   "cell_type": "markdown",
   "id": "a50c41f5-f92f-43a3-bf0e-51ed428c02b1",
   "metadata": {},
   "source": [
    "## Proje: Müzik Akış Hizmeti için Kullanıcı Verileri ##\n",
    "\n",
    "Elimizde şarkılar ve bu şarkıların çalma sayılarıyla ilgili iki liste var:\n",
    "\n",
    "songs: Şarkı isimlerini içerir.\n",
    "\n",
    "playcounts: Şarkıların ne kadar oynatıldığını içerir.\n",
    "\n",
    "Bu listelerle bir kullanıcı kütüphanesini yönetmek için bir sözlük oluşturacağız."
   ]
  },
  {
   "cell_type": "code",
   "execution_count": 84,
   "id": "f7262a26-2b37-48e0-be64-3342b9dfabef",
   "metadata": {},
   "outputs": [],
   "source": [
    "songs = [\"Imagine\", \"Respect\", \"Bohemian Rhapsody\", \"Let It Be\"]\n",
    "playcounts = [123, 89, 102, 56]"
   ]
  },
  {
   "cell_type": "markdown",
   "id": "33553b88-cb32-461a-83c3-35ddb568e1f4",
   "metadata": {},
   "source": [
    "**Adım 1:** zip() ve Dict Comprehension ile Sözlük Oluşturma\n",
    "\n",
    "songs ve playcounts listelerini birleştirerek bir sözlük oluşturuyoruz."
   ]
  },
  {
   "cell_type": "code",
   "execution_count": 87,
   "id": "f7ec302c-28e0-434f-86d2-0de853d1e51d",
   "metadata": {},
   "outputs": [],
   "source": [
    "plays = {song: count for song, count in zip(songs, playcounts)}"
   ]
  },
  {
   "cell_type": "markdown",
   "id": "642cf160-28a5-4478-9331-9bdb2d32ecd3",
   "metadata": {},
   "source": [
    "**Adım 2:** Sözlüğe Yeni Bir Girdi Ekleme\n",
    "\n",
    "Şarkı: \"Purple Haze\", Çalma Sayısı: 1"
   ]
  },
  {
   "cell_type": "code",
   "execution_count": 90,
   "id": "3d9d91d5-e86a-4c6a-ae9b-58329426f9e3",
   "metadata": {},
   "outputs": [],
   "source": [
    "plays[\"Purple Haze\"] = 1"
   ]
  },
  {
   "cell_type": "markdown",
   "id": "88f65b1d-f9e5-4313-b43a-3f92083d5a22",
   "metadata": {},
   "source": [
    "**Adım 3:** 3. Var Olan Bir Anahtarın Değerini Güncelleme\n",
    "\n",
    "Şarkı: \"Respect\", Yeni Çalma Sayısı: 94"
   ]
  },
  {
   "cell_type": "code",
   "execution_count": 93,
   "id": "d8981ad8-7b0d-45e2-83cf-3ec4c6a0be28",
   "metadata": {},
   "outputs": [],
   "source": [
    "plays[\"Respect\"] = 94"
   ]
  },
  {
   "cell_type": "markdown",
   "id": "5f5769a5-2db1-4e51-8f8e-21340603f7e5",
   "metadata": {},
   "source": [
    "**Adım 4:** Kütüphane Sözlüğü Oluşturma\n",
    "\n",
    "\"The Best Songs\" anahtarına plays sözlüğü atanır.\n",
    "    \n",
    "\"Sunday Feelings\" anahtarına boş bir sözlük atanır."
   ]
  },
  {
   "cell_type": "code",
   "execution_count": 96,
   "id": "00b4c76b-98bd-472e-a80f-6195462e1272",
   "metadata": {},
   "outputs": [],
   "source": [
    "library = {\"The Best Songs\": plays, \"Sunday Feelings\": {}}"
   ]
  },
  {
   "cell_type": "markdown",
   "id": "ba99475f-8680-41db-8daa-afc5db4a0d57",
   "metadata": {},
   "source": [
    "Son olarak kütüphaneyi yazdıralım."
   ]
  },
  {
   "cell_type": "code",
   "execution_count": 99,
   "id": "7ddf8cc2-647d-471b-8b52-27965aef1562",
   "metadata": {},
   "outputs": [
    {
     "name": "stdout",
     "output_type": "stream",
     "text": [
      "{'The Best Songs': {'Imagine': 123, 'Respect': 94, 'Bohemian Rhapsody': 102, 'Let It Be': 56, 'Purple Haze': 1}, 'Sunday Feelings': {}}\n"
     ]
    }
   ],
   "source": [
    "print(library)"
   ]
  },
  {
   "cell_type": "markdown",
   "id": "bcfeee68-df6d-4b70-bb32-a94f2b42100c",
   "metadata": {},
   "source": [
    "## Sözlükte Geçersiz Anahtara Erişim (Invalid Key) ##\n",
    "\n",
    "Problem:\n",
    "Bir sözlükte olmayan bir anahtara erişmeye çalıştığınızda, KeyError hatası alırsınız. Bu durumu kontrol etmek ve hatadan kaçınmak için doğru yöntemleri kullanmalıyız.\n",
    "\n",
    "Hata almamak için anahtarın var olup olmadığını kontrol edebilirsiniz. \n",
    "\n",
    "Anahtar kontrolü (if ile): Hatalardan kaçınmak için kullanışlıdır. KeyError hatası vermez."
   ]
  },
  {
   "cell_type": "markdown",
   "id": "fe49252b-542a-403a-ae89-63f75e57b176",
   "metadata": {},
   "source": [
    "**Uygulama:** Zodiac Elements Sözlüğü"
   ]
  },
  {
   "cell_type": "code",
   "execution_count": 153,
   "id": "cec79f41-8fad-4f24-9a51-63bd9787ae84",
   "metadata": {},
   "outputs": [],
   "source": [
    "zodiac_elements = {\n",
    "    \"earth\": [\"Taurus\", \"Virgo\", \"Capricorn\"],\n",
    "    \"fire\": [\"Aries\", \"Leo\", \"Sagittarius\"],\n",
    "    \"water\": [\"Cancer\", \"Scorpio\", \"Pisces\"],\n",
    "    \"air\": [\"Gemini\", \"Libra\", \"Aquarius\"]\n",
    "}"
   ]
  },
  {
   "cell_type": "markdown",
   "id": "ba1952bd-998a-430b-bfea-f6a78624640c",
   "metadata": {},
   "source": [
    "**Adım 1:** \"energy\" anahtarının varlığını kontrol edin."
   ]
  },
  {
   "cell_type": "code",
   "execution_count": 158,
   "id": "2f1aa4b2-5bcf-44fc-a46d-5d639039bd52",
   "metadata": {},
   "outputs": [
    {
     "ename": "KeyError",
     "evalue": "'energy'",
     "output_type": "error",
     "traceback": [
      "\u001b[1;31m---------------------------------------------------------------------------\u001b[0m",
      "\u001b[1;31mKeyError\u001b[0m                                  Traceback (most recent call last)",
      "Cell \u001b[1;32mIn[158], line 1\u001b[0m\n\u001b[1;32m----> 1\u001b[0m \u001b[38;5;28mprint\u001b[39m(zodiac_elements[\u001b[38;5;124m\"\u001b[39m\u001b[38;5;124menergy\u001b[39m\u001b[38;5;124m\"\u001b[39m])\n",
      "\u001b[1;31mKeyError\u001b[0m: 'energy'"
     ]
    }
   ],
   "source": [
    "print(zodiac_elements[\"energy\"])"
   ]
  },
  {
   "cell_type": "markdown",
   "id": "34b6a3be-6c57-4697-968d-7b98b9071f3f",
   "metadata": {},
   "source": [
    "KeyError hatası aldık. Çünkü anahtar mevcut değil.\n",
    "\n",
    "**Adım 2:** Anahtar Mevcut mu Kontrol Et:\n",
    "\n",
    "if yapısı kullanarak \"energy\" anahtarının varlığını kontrol edin."
   ]
  },
  {
   "cell_type": "code",
   "execution_count": 161,
   "id": "445f1400-1072-4b9a-90e8-7d2390756eb8",
   "metadata": {},
   "outputs": [],
   "source": [
    "if \"energy\" in zodiac_elements:\n",
    "    print(zodiac_elements[\"energy\"])"
   ]
  },
  {
   "cell_type": "markdown",
   "id": "35ee4fe9-e4a6-41cc-b8c4-97aadd8148bc",
   "metadata": {},
   "source": [
    "**Adım 3:** Yeni Anahtar Ekleyin:\n",
    "\n",
    "\"energy\" anahtarını ekleyip, \"Not a Zodiac element\" değerini atayın"
   ]
  },
  {
   "cell_type": "code",
   "execution_count": 164,
   "id": "30995318-5cc8-4de5-b8c4-c023785a9b49",
   "metadata": {},
   "outputs": [],
   "source": [
    "zodiac_elements[\"energy\"] = \"Not a Zodiac element\""
   ]
  },
  {
   "cell_type": "markdown",
   "id": "d18a2ca1-aa2a-42e2-a629-4c8b6999997a",
   "metadata": {},
   "source": [
    "**Adım 4:** Tekrar kontrol edin."
   ]
  },
  {
   "cell_type": "code",
   "execution_count": 167,
   "id": "2694d4b5-0866-40d3-99ec-e59d3dc12b9c",
   "metadata": {},
   "outputs": [
    {
     "name": "stdout",
     "output_type": "stream",
     "text": [
      "Not a Zodiac element\n"
     ]
    }
   ],
   "source": [
    "if \"energy\" in zodiac_elements:\n",
    "    print(zodiac_elements[\"energy\"])"
   ]
  },
  {
   "cell_type": "markdown",
   "id": "358c120f-bc2f-4274-8cee-76976d228905",
   "metadata": {},
   "source": [
    "## Sözlüklerde .get() Metodunu Güvenli Kullanma ##\n",
    "\n",
    "Sözlüklerde (dictionary) .get() metodu, bir anahtara (key) erişmek için kullanılan güvenli bir yoldur. Eğer aranan anahtar sözlükte yoksa, .get() varsayılan olarak None döndürür. Ancak, isterseniz bir varsayılan değer belirtebilirsiniz."
   ]
  },
  {
   "cell_type": "markdown",
   "id": "ea2b24ff-6a47-4d3b-9573-715053f94260",
   "metadata": {},
   "source": [
    "**Uygulama:** Kullanıcı Kimlikleri ile Çalışma"
   ]
  },
  {
   "cell_type": "code",
   "execution_count": 179,
   "id": "b0f66ec5-cb39-4776-9fb2-28d39eb83479",
   "metadata": {},
   "outputs": [],
   "source": [
    "user_ids = {\n",
    "    \"teraCoder\": 9018293,\n",
    "    \"proProgrammer\": 119238\n",
    "}"
   ]
  },
  {
   "cell_type": "markdown",
   "id": "079e6a3c-bfcc-414d-8fea-4b7d01f993c0",
   "metadata": {},
   "source": [
    "**Adım 1:** Mevcut Anahtarı Elde Etme:\n",
    "\n",
    "\"teraCoder\" anahtarına karşılık gelen kullanıcı kimliğini alın.\n",
    "\n",
    "Varsayılan değer olarak 100000 belirtin.(Anahtar yoksa dönecek olan değer)\n",
    "\n",
    "Değeri tc_id adlı bir değişkende saklayıp yazdırın"
   ]
  },
  {
   "cell_type": "code",
   "execution_count": 182,
   "id": "d38e7f20-bb35-4163-849c-355498c5fbd9",
   "metadata": {},
   "outputs": [
    {
     "name": "stdout",
     "output_type": "stream",
     "text": [
      "9018293\n"
     ]
    }
   ],
   "source": [
    "tc_id = user_ids.get(\"teraCoder\", 100000)\n",
    "print(tc_id)"
   ]
  },
  {
   "cell_type": "markdown",
   "id": "c927708e-6a53-4ef2-92e5-f081ff6a1859",
   "metadata": {},
   "source": [
    "**Adım 2:** Olmayan Anahtar için Varsayılan Değer Döndürme:\n",
    "\n",
    "\"superStackSmash\" anahtarını arayın.\n",
    "\n",
    "Eğer anahtar yoksa, 100000 döndürülsün.\n",
    "\n",
    "Değeri stack_id adlı bir değişkende saklayıp yazdırın:"
   ]
  },
  {
   "cell_type": "code",
   "execution_count": 185,
   "id": "804f0d63-f185-47de-a606-970454d1e0a1",
   "metadata": {},
   "outputs": [
    {
     "name": "stdout",
     "output_type": "stream",
     "text": [
      "100000\n"
     ]
    }
   ],
   "source": [
    "stack_id = user_ids.get(\"superStackSmash\", 100000)\n",
    "print(stack_id)"
   ]
  },
  {
   "cell_type": "markdown",
   "id": "f0952bea-eb05-4e80-8719-7d866f97fbc3",
   "metadata": {},
   "source": [
    "## Sözlükte Anahtar Silmek ve Değer Almak (.pop() Kullanımı) ##\n",
    "\n",
    "Bir sözlükten belirli bir anahtarı kaldırıp, aynı anda bu anahtara karşılık gelen değeri almak için .pop() metodu kullanılır."
   ]
  },
  {
   "cell_type": "code",
   "execution_count": 300,
   "id": "534ce8dc-88a6-4b3f-b909-da393d5ac871",
   "metadata": {},
   "outputs": [
    {
     "name": "stdout",
     "output_type": "stream",
     "text": [
      "Teddy Bear\n"
     ]
    }
   ],
   "source": [
    "raffle = {223842: \"Teddy Bear\", 872921: \"Concert Tickets\"}\n",
    "prize = raffle.pop(223842)\n",
    "\n",
    "print(prize)  "
   ]
  },
  {
   "cell_type": "code",
   "execution_count": 302,
   "id": "b6e20318-8b6c-4239-aae7-0fa6183d1c9d",
   "metadata": {},
   "outputs": [
    {
     "name": "stdout",
     "output_type": "stream",
     "text": [
      "No Prize\n"
     ]
    }
   ],
   "source": [
    "#Varsayılan Değer Kullanımı:\n",
    "prize = raffle.pop(999999, \"No Prize\")\n",
    "\n",
    "print(prize)  "
   ]
  },
  {
   "cell_type": "markdown",
   "id": "cd71a023-9fd4-46a3-9d31-2ff782b88650",
   "metadata": {},
   "source": [
    "**Görev:** Oyun Envanteri Yönetimi"
   ]
  },
  {
   "cell_type": "code",
   "execution_count": 305,
   "id": "4de52e84-3806-4901-b01d-5c78a4702364",
   "metadata": {},
   "outputs": [],
   "source": [
    "available_items = {\n",
    "    \"stamina grains\": 30,\n",
    "    \"power stew\": 50,\n",
    "    \"mystic bread\": 70\n",
    "}\n",
    "\n",
    "health_points = 20"
   ]
  },
  {
   "cell_type": "markdown",
   "id": "8eb22b52-ef76-4dbf-bf1b-ea296b7860e8",
   "metadata": {},
   "source": [
    "**Adım 1:** \n",
    "\n",
    "\"stamina grains\" değerini health_points değişkenine ekleyin ve bu anahtarı sözlükten kaldırın.\n",
    "Eğer anahtar bulunmazsa, 0 ekleyin"
   ]
  },
  {
   "cell_type": "code",
   "execution_count": 307,
   "id": "4635fdb8-7811-4a05-9fef-702a595a682f",
   "metadata": {},
   "outputs": [],
   "source": [
    "health_points += available_items.pop(\"stamina grains\", 0)"
   ]
  },
  {
   "cell_type": "markdown",
   "id": "e84d82fa-bec2-4b74-a93f-6cd208b19aae",
   "metadata": {},
   "source": [
    "**Adım 2:** \n",
    "\n",
    "\"power stew\" değerini health_points değişkenine ekleyin ve bu anahtarı sözlükten kaldırın."
   ]
  },
  {
   "cell_type": "code",
   "execution_count": 311,
   "id": "5d7c2770-fdc4-42f1-8755-be2ecddadd25",
   "metadata": {},
   "outputs": [],
   "source": [
    "health_points += available_items.pop(\"power stew\", 0)"
   ]
  },
  {
   "cell_type": "markdown",
   "id": "f6830b4a-4530-4fc2-8903-c22cd5bbc366",
   "metadata": {},
   "source": [
    "**Adım 3:** \n",
    "\n",
    "\"mystic bread\" değerini health_points değişkenine ekleyin ve bu anahtarı sözlükten kaldırın. Sonuçları yazdırın."
   ]
  },
  {
   "cell_type": "code",
   "execution_count": 314,
   "id": "2cbe8cfa-44b0-418a-8d10-fc8ff6982e75",
   "metadata": {},
   "outputs": [],
   "source": [
    "health_points += available_items.pop(\"mystic bread\", 0)"
   ]
  },
  {
   "cell_type": "code",
   "execution_count": 316,
   "id": "d48ab8c4-7eb7-45fe-b2f6-e0975239056f",
   "metadata": {},
   "outputs": [
    {
     "name": "stdout",
     "output_type": "stream",
     "text": [
      "{}\n",
      "170\n"
     ]
    }
   ],
   "source": [
    "print(available_items)  # Kalan öğeler\n",
    "print(health_points) "
   ]
  },
  {
   "cell_type": "markdown",
   "id": "70346b60-548b-4eb9-9c61-f381e2b82e09",
   "metadata": {},
   "source": [
    "## Sözlükte Tüm Anahtarları Almak (.keys() Kullanımı) ##\n",
    "\n",
    "Sözlüklerdeki tüm anahtarları alıp işlem yapmak için Python, iki temel yöntem sağlar:\n",
    "\n",
    "list() Fonksiyonu: Sözlükten sadece anahtarları listeye dönüştürür.\n",
    "    \n",
    ".keys() Metodu: Bir dict_keys nesnesi döndürerek anahtarların bir görünümünü sağlar. Bu nesne, sözlüğün anahtarlarına doğrudan erişim sağlar ancak değiştirilemez"
   ]
  },
  {
   "cell_type": "code",
   "execution_count": 211,
   "id": "fb8e17a3-26ca-42c9-aff2-ed8828ea76f7",
   "metadata": {},
   "outputs": [
    {
     "name": "stdout",
     "output_type": "stream",
     "text": [
      "['Grace', 'Jeffrey']\n"
     ]
    }
   ],
   "source": [
    "test_scores = {\"Grace\": [80, 72], \"Jeffrey\": [88, 68]}\n",
    "\n",
    "print(list(test_scores))"
   ]
  },
  {
   "cell_type": "code",
   "execution_count": 213,
   "id": "a935d192-cc03-4a69-bf9e-23d34f9dbe67",
   "metadata": {},
   "outputs": [
    {
     "name": "stdout",
     "output_type": "stream",
     "text": [
      "dict_keys(['Grace', 'Jeffrey'])\n"
     ]
    }
   ],
   "source": [
    "test_scores = {\"Grace\": [80, 72], \"Jeffrey\": [88, 68]}\n",
    "\n",
    "print(test_scores.keys())  "
   ]
  },
  {
   "cell_type": "code",
   "execution_count": 215,
   "id": "9ffbd83d-e99c-4f0a-a83d-85565e5a2ae3",
   "metadata": {},
   "outputs": [
    {
     "name": "stdout",
     "output_type": "stream",
     "text": [
      "Grace\n",
      "Jeffrey\n"
     ]
    }
   ],
   "source": [
    "for key in test_scores.keys():\n",
    "    print(key)"
   ]
  },
  {
   "cell_type": "markdown",
   "id": "d1da7ffd-1b3b-407f-b151-204545451bf6",
   "metadata": {},
   "source": [
    "## Sözlükte Tüm Değerleri Almak (.values() Kullanımı) ##\n",
    "\n",
    "Bir sözlüğün tüm değerlerini almak ve işlem yapmak için .values() metodu kullanılır. Bu metod, sözlükteki tüm değerleri bir dict_values nesnesi olarak döndürür."
   ]
  },
  {
   "cell_type": "code",
   "execution_count": 217,
   "id": "6ef6b3fb-ceca-4148-abcd-09e86ce4029a",
   "metadata": {},
   "outputs": [
    {
     "name": "stdout",
     "output_type": "stream",
     "text": [
      "dict_values([[80, 72], [88, 68]])\n"
     ]
    }
   ],
   "source": [
    "test_scores = {\"Grace\": [80, 72], \"Jeffrey\": [88, 68]}\n",
    "print(test_scores.values())"
   ]
  },
  {
   "cell_type": "code",
   "execution_count": 219,
   "id": "e640e997-6fdb-4974-9bb0-a041dc03cb20",
   "metadata": {},
   "outputs": [
    {
     "name": "stdout",
     "output_type": "stream",
     "text": [
      "[80, 72]\n",
      "[88, 68]\n"
     ]
    }
   ],
   "source": [
    "for value in test_scores.values():\n",
    "    print(value)"
   ]
  },
  {
   "cell_type": "code",
   "execution_count": 221,
   "id": "1d056962-3260-46ef-8e5f-e4ed3689fc05",
   "metadata": {},
   "outputs": [
    {
     "name": "stdout",
     "output_type": "stream",
     "text": [
      "[[80, 72], [88, 68]]\n"
     ]
    }
   ],
   "source": [
    "#Listeye Dönüştürme\n",
    "value_list = list(test_scores.values())\n",
    "print(value_list)"
   ]
  },
  {
   "cell_type": "markdown",
   "id": "0dd0435c-d114-4007-83e4-0a5d5ca930ad",
   "metadata": {},
   "source": [
    "**Görev:** Toplam Egzersiz Sayısını Bulma"
   ]
  },
  {
   "cell_type": "code",
   "execution_count": 228,
   "id": "000514ce-645b-470a-947f-388017047350",
   "metadata": {},
   "outputs": [],
   "source": [
    "num_exercises = {\n",
    "    \"functions\": 10,\n",
    "    \"syntax\": 8,\n",
    "    \"conditionals\": 5,\n",
    "    \"loops\": 7\n",
    "}"
   ]
  },
  {
   "cell_type": "markdown",
   "id": "91cc400a-c0a3-4e8f-887d-bd7687081d53",
   "metadata": {},
   "source": [
    "**Adım 1:** total_exercises adında bir değişken oluşturun ve 0 ile başlatın"
   ]
  },
  {
   "cell_type": "code",
   "execution_count": 236,
   "id": "b12d2e24-f097-4326-ab3d-b2426f31f541",
   "metadata": {},
   "outputs": [],
   "source": [
    "total_exercises = 0"
   ]
  },
  {
   "cell_type": "markdown",
   "id": "7595ed93-a771-4640-a7ac-fce307c6230c",
   "metadata": {},
   "source": [
    "**Adım 2:** .values() metodu ile sözlükteki tüm değerler üzerinde döngü kurun ve her bir değeri total_exercises değişkenine ekleyin:"
   ]
  },
  {
   "cell_type": "code",
   "execution_count": 243,
   "id": "85b21925-e9b2-45be-8bdf-f124eae223e4",
   "metadata": {},
   "outputs": [
    {
     "name": "stdout",
     "output_type": "stream",
     "text": [
      "90\n"
     ]
    }
   ],
   "source": [
    "for i in num_exercises.values():\n",
    "    total_exercises += i\n",
    "\n",
    "print(total_exercises)"
   ]
  },
  {
   "cell_type": "markdown",
   "id": "433d31d2-3992-46ec-9c45-e1977dbe0711",
   "metadata": {},
   "source": [
    "## Sözlükteki Tüm Elemanları Almak (.items() Kullanımı) ##\n",
    "\n",
    ".items() metodu, bir sözlükteki tüm anahtar-değer çiftlerini alır.\n",
    "Dönen sonuç bir dict_items nesnesidir ve her bir eleman bir tuple (anahtar, değer) çiftidir."
   ]
  },
  {
   "cell_type": "code",
   "execution_count": 278,
   "id": "d08eaf92-8d75-4078-bf2d-c1e296637216",
   "metadata": {},
   "outputs": [
    {
     "name": "stdout",
     "output_type": "stream",
     "text": [
      "dict_items([('Apple', 184), ('Google', 141.7), ('Microsoft', 80)])\n"
     ]
    }
   ],
   "source": [
    "biggest_brands = {\n",
    "    \"Apple\": 184,\n",
    "    \"Google\": 141.7,\n",
    "    \"Microsoft\": 80\n",
    "}\n",
    "\n",
    "print(biggest_brands.items())"
   ]
  },
  {
   "cell_type": "code",
   "execution_count": 280,
   "id": "1b02bced-fadc-4c15-9f46-ba2a6105d9c7",
   "metadata": {},
   "outputs": [
    {
     "name": "stdout",
     "output_type": "stream",
     "text": [
      "Apple has a value of 184 billion dollars.\n",
      "Google has a value of 141.7 billion dollars.\n",
      "Microsoft has a value of 80 billion dollars.\n"
     ]
    }
   ],
   "source": [
    "# Anahtar ve değerler üzerinde döngü kurabilirsiniz.\n",
    "\n",
    "for key, value in biggest_brands.items():\n",
    "    print(f\"{key} has a value of {value} billion dollars.\")"
   ]
  },
  {
   "cell_type": "markdown",
   "id": "86edd864-fc36-49b3-8965-ea5ffef6982c",
   "metadata": {},
   "source": [
    "**Uygulama:** Kadınların İş Oranını Yazdırma"
   ]
  },
  {
   "cell_type": "code",
   "execution_count": 283,
   "id": "fcc34f16-a918-41ef-8b5e-fd813a10af10",
   "metadata": {},
   "outputs": [
    {
     "name": "stdout",
     "output_type": "stream",
     "text": [
      "Women make up 28 percent of CEOs.\n",
      "Women make up 15 percent of Engineerings.\n",
      "Women make up 38 percent of Laws.\n",
      "Women make up 74 percent of Medicines.\n"
     ]
    }
   ],
   "source": [
    "pct_women_in_occupation = {\n",
    "    \"CEO\": 28,\n",
    "    \"Engineering\": 15,\n",
    "    \"Law\": 38,\n",
    "    \"Medicine\": 74\n",
    "}\n",
    "\n",
    "# Döngü ile yazdır\n",
    "for occupation, percent in pct_women_in_occupation.items():\n",
    "    print(f\"Women make up {percent} percent of {occupation}s.\")"
   ]
  },
  {
   "cell_type": "markdown",
   "id": "9483204c-941f-465b-b5fe-c6fbf8959380",
   "metadata": {},
   "source": [
    "## Proje ## \n",
    "Python Sözlüklerle Çalışmak: Tarot Örneği\n",
    "\n",
    "Tarot kartlarıyla bir geçmiş, şimdi ve gelecek analizi yapıyorsunuz. Görev, sözlük manipülasyonlarını kullanarak bir tarot yayılımı (spread) oluşturmaktır."
   ]
  },
  {
   "cell_type": "code",
   "execution_count": 286,
   "id": "dccd5ef1-2485-4dda-9904-f3779779372f",
   "metadata": {},
   "outputs": [],
   "source": [
    "tarot = {\n",
    "    1: \"The Magician\",\n",
    "    2: \"The High Priestess\",\n",
    "    3: \"The Empress\",\n",
    "    10: \"The Wheel of Fortune\",\n",
    "    13: \"Death\",\n",
    "    22: \"The Fool\"\n",
    "}"
   ]
  },
  {
   "cell_type": "markdown",
   "id": "51c84250-dde6-422a-a6c6-0fe3ab1f73c1",
   "metadata": {},
   "source": [
    "**Adım 1:** Tarot yayılımını tutmak için spread adında boş bir sözlük oluşturulur."
   ]
  },
  {
   "cell_type": "code",
   "execution_count": 289,
   "id": "4b662cd1-913d-4fec-b21c-800e2af4a67a",
   "metadata": {},
   "outputs": [],
   "source": [
    "spread = {}"
   ]
  },
  {
   "cell_type": "markdown",
   "id": "0e949973-b9e7-4307-ac2c-43b8d1a0736b",
   "metadata": {},
   "source": [
    "**Adım 2:** .pop() metodu kullanılarak tarot sözlüğündeki 13 numaralı anahtarın değerini alır ve siler.\n",
    "Bu değeri spread sözlüğünde \"past\" anahtarına atar. Daha sonra:\n",
    "\n",
    "22 numaralı anahtarın değerini alır ve \"present\" anahtarına atar.\n",
    "\n",
    "10 numaralı anahtarın değerini alır ve \"future\" anahtarına atar."
   ]
  },
  {
   "cell_type": "code",
   "execution_count": 292,
   "id": "be23a6b5-9bcf-485a-9edf-b5a411a4d038",
   "metadata": {},
   "outputs": [],
   "source": [
    "spread[\"past\"] = tarot.pop(13)\n",
    "spread[\"present\"] = tarot.pop(22)\n",
    "spread[\"future\"] = tarot.pop(10)"
   ]
  },
  {
   "cell_type": "markdown",
   "id": "12d22cbb-6c99-4a31-9d92-6e3003bdb2e5",
   "metadata": {},
   "source": [
    "**Adım 3:** Sözlükteki her anahtar-değer çifti üzerinde döngü kurarak \"Your {key} is the {value} card.\" mesajı yazdırılır."
   ]
  },
  {
   "cell_type": "code",
   "execution_count": 295,
   "id": "9dc7db60-9284-4015-8d2f-fcbd461b10c3",
   "metadata": {},
   "outputs": [
    {
     "name": "stdout",
     "output_type": "stream",
     "text": [
      "Your past is the Death card.\n",
      "Your present is the The Fool card.\n",
      "Your future is the The Wheel of Fortune card.\n"
     ]
    }
   ],
   "source": [
    "for key, value in spread.items():\n",
    "    print(f\"Your {key} is the {value} card.\")"
   ]
  },
  {
   "cell_type": "markdown",
   "id": "c71bdfdd-c770-4a9a-a177-659bb0d3160b",
   "metadata": {},
   "source": [
    "# Dosya Okuma ve Yazma #"
   ]
  },
  {
   "cell_type": "code",
   "execution_count": 10,
   "id": "a972a86f-ee2b-48b8-a963-84cda00f2c69",
   "metadata": {},
   "outputs": [
    {
     "ename": "FileNotFoundError",
     "evalue": "[Errno 2] No such file or directory: 'welcome.txt'",
     "output_type": "error",
     "traceback": [
      "\u001b[1;31m---------------------------------------------------------------------------\u001b[0m",
      "\u001b[1;31mFileNotFoundError\u001b[0m                         Traceback (most recent call last)",
      "Cell \u001b[1;32mIn[10], line 2\u001b[0m\n\u001b[0;32m      1\u001b[0m \u001b[38;5;66;03m# Dosyayı aç ve text_file olarak kaydet\u001b[39;00m\n\u001b[1;32m----> 2\u001b[0m \u001b[38;5;28;01mwith\u001b[39;00m \u001b[38;5;28mopen\u001b[39m(\u001b[38;5;124m'\u001b[39m\u001b[38;5;124mwelcome.txt\u001b[39m\u001b[38;5;124m'\u001b[39m) \u001b[38;5;28;01mas\u001b[39;00m text_file:\n\u001b[0;32m      3\u001b[0m     \u001b[38;5;66;03m# İçeriği oku ve text_data'ya kaydet\u001b[39;00m\n\u001b[0;32m      4\u001b[0m     text_data \u001b[38;5;241m=\u001b[39m text_file\u001b[38;5;241m.\u001b[39mread()\n\u001b[0;32m      6\u001b[0m \u001b[38;5;66;03m# Dosya içeriğini yazdır\u001b[39;00m\n",
      "File \u001b[1;32m~\\anaconda3\\Lib\\site-packages\\IPython\\core\\interactiveshell.py:324\u001b[0m, in \u001b[0;36m_modified_open\u001b[1;34m(file, *args, **kwargs)\u001b[0m\n\u001b[0;32m    317\u001b[0m \u001b[38;5;28;01mif\u001b[39;00m file \u001b[38;5;129;01min\u001b[39;00m {\u001b[38;5;241m0\u001b[39m, \u001b[38;5;241m1\u001b[39m, \u001b[38;5;241m2\u001b[39m}:\n\u001b[0;32m    318\u001b[0m     \u001b[38;5;28;01mraise\u001b[39;00m \u001b[38;5;167;01mValueError\u001b[39;00m(\n\u001b[0;32m    319\u001b[0m         \u001b[38;5;124mf\u001b[39m\u001b[38;5;124m\"\u001b[39m\u001b[38;5;124mIPython won\u001b[39m\u001b[38;5;124m'\u001b[39m\u001b[38;5;124mt let you open fd=\u001b[39m\u001b[38;5;132;01m{\u001b[39;00mfile\u001b[38;5;132;01m}\u001b[39;00m\u001b[38;5;124m by default \u001b[39m\u001b[38;5;124m\"\u001b[39m\n\u001b[0;32m    320\u001b[0m         \u001b[38;5;124m\"\u001b[39m\u001b[38;5;124mas it is likely to crash IPython. If you know what you are doing, \u001b[39m\u001b[38;5;124m\"\u001b[39m\n\u001b[0;32m    321\u001b[0m         \u001b[38;5;124m\"\u001b[39m\u001b[38;5;124myou can use builtins\u001b[39m\u001b[38;5;124m'\u001b[39m\u001b[38;5;124m open.\u001b[39m\u001b[38;5;124m\"\u001b[39m\n\u001b[0;32m    322\u001b[0m     )\n\u001b[1;32m--> 324\u001b[0m \u001b[38;5;28;01mreturn\u001b[39;00m io_open(file, \u001b[38;5;241m*\u001b[39margs, \u001b[38;5;241m*\u001b[39m\u001b[38;5;241m*\u001b[39mkwargs)\n",
      "\u001b[1;31mFileNotFoundError\u001b[0m: [Errno 2] No such file or directory: 'welcome.txt'"
     ]
    }
   ],
   "source": [
    "# Dosyayı aç ve text_file olarak kaydet\n",
    "with open('welcome.txt') as text_file:\n",
    "    # İçeriği oku ve text_data'ya kaydet\n",
    "    text_data = text_file.read()\n",
    "\n",
    "# Dosya içeriğini yazdır\n",
    "print(text_data)"
   ]
  },
  {
   "cell_type": "markdown",
   "id": "0ef4f142-7553-43f4-b1c0-3818e406d346",
   "metadata": {},
   "source": [
    "Bir dosyayı okuduğumuzda, içeriği tek bir string olarak almak isteyebiliriz, bu .read() ile yapılır. Ancak, her bir satırı ayrı bir şekilde saklamak istersek, .readlines() fonksiyonunu kullanabiliriz.\n",
    "\n",
    "Örnek olarak, keats_sonnet.txt adlı bir dosyada şu içerik varsa:\n",
    "\n",
    "To one who has been long in city pent,\n",
    "\n",
    "’Tis very sweet to look into the fair\n",
    "\n",
    "And open face of heaven,—to breathe a prayer\n",
    "\n",
    "Full in the smile of the blue firmament."
   ]
  },
  {
   "cell_type": "code",
   "execution_count": null,
   "id": "57b0e916-08ff-4d53-9a6c-a6ae74da67fe",
   "metadata": {},
   "outputs": [],
   "source": [
    "# Görev 1: Dosyayı aç ve lines_doc olarak kaydet\n",
    "with open('how_many_lines.txt') as lines_doc:\n",
    "    # Görev 2: Dosyadaki her bir satırı yazdır\n",
    "    for line in lines_doc.readlines():\n",
    "        print(line)"
   ]
  },
  {
   "cell_type": "markdown",
   "id": "49de95f0-a0f3-4eca-af68-23d9abf837ae",
   "metadata": {},
   "source": [
    "Bazen bir dosyanın tamamını yinelemek istemeyebiliriz. Bunun için .readline() metodu kullanılır. Bu metod yalnızca bir satırı okur. Eğer dosya satır satır bu şekilde okunursa ve tüm satırlar biterse, .readline() boş bir string (\"\") döndürür.\n",
    "\n",
    "Örnek olarak, millay_sonnet.txt dosyasının şu içerikte olduğunu düşünelim:\n",
    "\n",
    "I shall forget you presently, my dear,\n",
    "\n",
    "So make the most of this, your little day,\n",
    "\n",
    "Your little month, your little half a year,\n",
    "\n",
    "Ere I forget, or die, or move away,"
   ]
  },
  {
   "cell_type": "code",
   "execution_count": null,
   "id": "6982aa12-d7d4-4c92-a489-3b9b1c3cb20f",
   "metadata": {},
   "outputs": [],
   "source": [
    "with open('millay_sonnet.txt') as sonnet_doc:\n",
    "    first_line = sonnet_doc.readline()\n",
    "    second_line = sonnet_doc.readline()\n",
    "    print(second_line)"
   ]
  },
  {
   "cell_type": "markdown",
   "id": "ff068630-feac-41de-8ad4-5f5a5b897b1f",
   "metadata": {},
   "source": [
    "## Dosya Yazma (Writing a File) ##\n",
    "\n",
    "Bir dosyayı okumak faydalı olabilir, ancak kendi dosyamızı oluşturmak istersek ne yapabiliriz? Python, bunu yapmamıza olanak tanır. open() fonksiyonunu kullanarak bir dosya açarken, dosyayı yazma modunda açmak için ek bir argüman kullanmamız gerekir.\n",
    "\n",
    "Aşağıdaki kod, bir dosyayı yazma modunda açmayı gösterir:"
   ]
  },
  {
   "cell_type": "code",
   "execution_count": null,
   "id": "c2b10158-5642-4a4f-a4dd-6274b706f183",
   "metadata": {},
   "outputs": [],
   "source": [
    "with open('generated_file.txt', 'w') as gen_file:\n",
    "    gen_file.write(\"What an incredible file!\")"
   ]
  },
  {
   "cell_type": "markdown",
   "id": "984b52b7-7ebd-4b15-9448-447fe92ec8c4",
   "metadata": {},
   "source": [
    "open('generated_file.txt', 'w'): Dosyayı yazma modunda ('w') açar.\n",
    "    \n",
    "gen_file.write(): Dosyaya belirtilen metni yazar.\n",
    "\n",
    "Eğer generated_file.txt adında bir dosya zaten varsa, bu işlem dosyanın içeriğini tamamen siler ve belirtilen metinle değiştirir. Eğer böyle bir dosya yoksa, yeni bir dosya oluşturur."
   ]
  },
  {
   "cell_type": "markdown",
   "id": "fb6859b5-4e70-4fed-a355-00260750f2ec",
   "metadata": {},
   "source": [
    "## Dosyaya Veri Ekleme (Appending to a File) ##\n",
    "\n",
    "Mevcut dosyaları tamamen silip üzerine yazmak yerine, sadece bir satır eklemek isteyebilirsiniz. Bunun için dosyayı yazma modunda ('w') değil, ekleme modunda ('a') açabilirsiniz.\n",
    "\n",
    "Örneğin, generated_file.txt adlı bir dosyanın şu içeriği olduğunu düşünelim:\n",
    "\n",
    "This was a popular file..."
   ]
  },
  {
   "cell_type": "code",
   "execution_count": null,
   "id": "83d55de3-8bc6-4612-a8c7-5b369c051b69",
   "metadata": {},
   "outputs": [],
   "source": [
    "with open('generated_file.txt', 'a') as gen_file:\n",
    "    gen_file.write(\"\\n... and it still is\")"
   ]
  },
  {
   "cell_type": "markdown",
   "id": "be14a288-e9af-4c3d-ae37-9cce82f48d8d",
   "metadata": {},
   "source": [
    "## \"with\" Ne Anlama Geliyor? ##\n",
    "\n",
    "with anahtar kelimesi, bir dosya açıldığında context manager (bağlam yöneticisi) olarak adlandırılan bir yapı kullanır.\n",
    "Bu yapı:\n",
    "Dosyayı açar (örn: open() ile).\n",
    "\n",
    "İlgili kod bloğu tamamlandığında otomatik olarak dosyayı kapatır.\n",
    "\n",
    "**Neden \"with\" Kullanılır?**\n",
    "\n",
    "Python değişkenleri (listeler, sözlükler gibi) Python tarafından otomatik olarak yönetilir. Ancak dosyalar dış kaynaklarla bağlantılı olduğundan, Python bu bağlantıyı manuel olarak kapatmamızı bekler.\n",
    "Bir dosyanın bağlantısını açık bırakmak, performans sorunlarına ve diğer programlarla çakışmalara neden olabilir.\n",
    "with anahtar kelimesi bu süreci otomatikleştirir ve eski yöntemle dosya kapatma gereksinimini ortadan kaldırır."
   ]
  },
  {
   "cell_type": "markdown",
   "id": "512f341b-67f9-40fa-88dd-97bf4acac3e5",
   "metadata": {},
   "source": [
    "## CSV Dosyası Nedir? ##\n",
    "\n",
    "CSV, virgülle Ayrılmış Değerler (Comma-Separated Values) dosyaları verileri yapılandırmak için kullanılan bir düz metin dosyası formatıdır. Çoğunlukla, Microsoft Excel, Google Sheets gibi elektronik tablo yazılımlarındaki verileri taşınabilir bir formata aktarmak için kullanılır.\n",
    "\n",
    "**Özellikler:**\n",
    "\n",
    "Veri Yapısı: Her satır bir veri kümesini temsil eder, sütunlar ise virgüllerle ayrılır.\n",
    "    \n",
    "Başlık Satırı: İlk satır genellikle verilerin etiketlerini içerir.\n",
    "    \n",
    "Düz Metin: CSV dosyaları, herhangi bir ek kütüphane olmadan okunabilir çünkü düz metin formatındadır."
   ]
  },
  {
   "cell_type": "markdown",
   "id": "7af787e0-512c-4103-a488-41507ae75aac",
   "metadata": {},
   "source": [
    "## CSV Dosyasını Okuma ##\n",
    "\n",
    "CSV dosyaları düz metin formatında okunabilir, ancak bu verileri programlamaya daha uygun bir formata dönüştürmek için Python’un csv kütüphanesini kullanabiliriz. Bu kütüphane, CSV dosyalarını Python sözlüklerine çevirebilir ve bu sayede verileri daha rahat işleyebiliriz.\n",
    "\n",
    "Örnek CSV Dosyası:\n",
    "\n",
    "Name,Username,Email\n",
    "\n",
    "Roger Smith,rsmith,wigginsryan@yahoo.com\n",
    "\n",
    "Michelle Beck,mlbeck,hcosta@hotmail.com\n",
    "\n",
    "Ashley Barker,a_bark_x,a_bark_x@turner.com\n",
    "\n",
    "Lynn Gonzales,goodmanjames,lynniegonz@hotmail.com\n",
    "\n",
    "Bu dosyayı Python ile sözlüklere dönüştürmek ve e-posta adreslerini bir listeye eklemek için şu şekilde bir kod yazabiliriz:"
   ]
  },
  {
   "cell_type": "code",
   "execution_count": null,
   "id": "270de6dc-342f-45f4-8857-ff56a4a774b4",
   "metadata": {},
   "outputs": [],
   "source": [
    "import csv\n",
    "\n",
    "list_of_email_addresses = []\n",
    "with open('users.csv', newline='') as users_csv:\n",
    "    user_reader = csv.DictReader(users_csv)\n",
    "    for row in user_reader:\n",
    "        list_of_email_addresses.append(row['Email'])\n",
    "\n",
    "print(list_of_email_addresses)"
   ]
  },
  {
   "cell_type": "markdown",
   "id": "3564f344-0e7f-42eb-92df-877db9146c41",
   "metadata": {},
   "source": [
    "csv.DictReader: Her bir satırı bir Python sözlüğüne dönüştürür.\n",
    "\n",
    "newline='' parametresi, satır sonu karakterlerinin(\\r\\n) Python tarafından otomatik olarak eklenmesini veya işlenmesini engeller.\n",
    "\n",
    "Anahtarlar: İlk satırdaki sütun adlarıdır (ör. Name, Username, Email).\n",
    "\n",
    "Değerler: İlgili sütundaki verilerdir (ör. Roger Smith, rsmith, wigginsryan@yahoo.com)."
   ]
  },
  {
   "cell_type": "markdown",
   "id": "6d3a0747-8482-47db-9a16-bf543c9c0286",
   "metadata": {},
   "source": [
    "## Farklı Türlerdeki CSV Dosyalarını Okuma ##\n",
    "\n",
    "CSV dosyaları genellikle virgül ile ayrılmış veriler içerir. Ancak, farklı ayraç karakterleri (delimiter) kullanılarak ayrılan CSV dosyaları da vardır. Örneğin, adresler gibi virgül içeren veriler için noktalı virgül (;) ya da başka bir karakter kullanılabilir. \n",
    "\n",
    "delimiter=' ': CSV dosyasında veri alanlarını ayırmak için kullanılan ayraç karakteri belirtilir.\n",
    "\n",
    "Örneğin:\n",
    "\n",
    "Name;Address;Telephone\n",
    "\n",
    "Donna Smith;126 Orr Corner Suite 857\\nEast Michael, LA 54411;906-918-6560\n",
    "\n",
    "Aaron Osborn;6965 Miller Station Suite 485\\nNorth Michelle, KS 64364;815.039.3661x42816"
   ]
  },
  {
   "cell_type": "code",
   "execution_count": null,
   "id": "2d825142-5c15-4670-8b23-74dfece08988",
   "metadata": {},
   "outputs": [],
   "source": [
    "import csv\n",
    "\n",
    "with open('addresses.csv', newline='') as addresses_csv:\n",
    "    address_reader = csv.DictReader(addresses_csv, delimiter=';')\n",
    "    for row in address_reader:\n",
    "        print(row['Address'])"
   ]
  },
  {
   "cell_type": "code",
   "execution_count": null,
   "id": "16095ecb-817a-4c9b-945c-2ccfec81f77d",
   "metadata": {},
   "outputs": [],
   "source": [
    "# Görev 1: csv modülünü içe aktar\n",
    "import csv\n",
    "\n",
    "# Görev 2: books.csv dosyasını aç\n",
    "with open('books.csv', newline='') as books_csv:\n",
    "    # Görev 3: DictReader ile ayraç olarak '@' kullanarak oku\n",
    "    books_reader = csv.DictReader(books_csv, delimiter='@')\n",
    "    \n",
    "    # Görev 4: ISBN numaralarını bir listeye ekle\n",
    "    isbn_list = []\n",
    "    for row in books_reader:\n",
    "        isbn_list.append(row['ISBN'])\n",
    "\n",
    "# ISBN numaralarını yazdır\n",
    "print(isbn_list)"
   ]
  },
  {
   "cell_type": "code",
   "execution_count": null,
   "id": "ed8e749e-7de0-4b57-a2f3-68b6955665f8",
   "metadata": {},
   "outputs": [],
   "source": [
    "access_log = [{'time': '08:39:37', 'limit': 844404, 'address': '1.227.124.181'}, {'time': '13:13:35', 'limit': 543871, 'address': '198.51.139.193'}, {'time': '19:40:45', 'limit': 3021, 'address': '172.1.254.208'}, {'time': '18:57:16', 'limit': 67031769, 'address': '172.58.247.219'}, {'time': '21:17:13', 'limit': 9083, 'address': '124.144.20.113'}, {'time': '23:34:17', 'limit': 65913, 'address': '203.236.149.220'}, {'time': '13:58:05', 'limit': 1541474, 'address': '192.52.206.76'}, {'time': '10:52:00', 'limit': 11465607, 'address': '104.47.149.93'}, {'time': '14:56:12', 'limit': 109, 'address': '192.31.185.7'}, {'time': '18:56:35', 'limit': 6207, 'address': '2.228.164.197'}]\n",
    "fields = ['time', 'address', 'limit']\n",
    "\n",
    "# Görev 1: csv modülünü içe aktar\n",
    "import csv\n",
    "\n",
    "# Görev 2: logger.csv dosyasını yazma modunda aç\n",
    "with open('logger.csv', 'w', newline='') as logger_csv:\n",
    "    # Görev 3: DictWriter nesnesi oluştur\n",
    "    log_writer = csv.DictWriter(logger_csv, fieldnames=fields)\n",
    "    \n",
    "    # Görev 4: Başlıkları dosyaya yaz\n",
    "    log_writer.writeheader()\n",
    "    \n",
    "    # Görev 5: Verileri satır satır dosyaya yaz\n",
    "    for log_entry in access_log:\n",
    "        log_writer.writerow(log_entry)"
   ]
  },
  {
   "cell_type": "markdown",
   "id": "4b39225c-e8e8-4fc1-a657-958351e037ef",
   "metadata": {},
   "source": [
    "## JSON Dosyası Okuma ##\n",
    "\n",
    "JSON (JavaScript Object Notation), veri alışverişinde yaygın olarak kullanılan bir dosya formatıdır. Python, JSON dosyalarını kolayca okuyup işlemek için json modülünü sağlar. JSON formatı, Python sözlüklerine oldukça benzediği için Python geliştiricileri tarafından kolayca anlaşılabilir.\n",
    "\n",
    "{\n",
    "  \"user\": \"ellen_greg\",\n",
    "  \n",
    "  \"action\": \"purchase\",\n",
    "  \n",
    "  \"item_id\": \"14781239\"\n",
    "}"
   ]
  },
  {
   "cell_type": "code",
   "execution_count": 19,
   "id": "e5d6b4be-39ac-4065-bb86-b989a19d049e",
   "metadata": {},
   "outputs": [
    {
     "ename": "FileNotFoundError",
     "evalue": "[Errno 2] No such file or directory: 'purchase_14781239.json'",
     "output_type": "error",
     "traceback": [
      "\u001b[1;31m---------------------------------------------------------------------------\u001b[0m",
      "\u001b[1;31mFileNotFoundError\u001b[0m                         Traceback (most recent call last)",
      "Cell \u001b[1;32mIn[19], line 3\u001b[0m\n\u001b[0;32m      1\u001b[0m \u001b[38;5;28;01mimport\u001b[39;00m \u001b[38;5;21;01mjson\u001b[39;00m\n\u001b[1;32m----> 3\u001b[0m \u001b[38;5;28;01mwith\u001b[39;00m \u001b[38;5;28mopen\u001b[39m(\u001b[38;5;124m'\u001b[39m\u001b[38;5;124mpurchase_14781239.json\u001b[39m\u001b[38;5;124m'\u001b[39m) \u001b[38;5;28;01mas\u001b[39;00m purchase_json:\n\u001b[0;32m      4\u001b[0m     \u001b[38;5;66;03m# json.load(): JSON dosyasını Python sözlüğüne dönüştürür.\u001b[39;00m\n\u001b[0;32m      5\u001b[0m     purchase_data \u001b[38;5;241m=\u001b[39m json\u001b[38;5;241m.\u001b[39mload(purchase_json)\n\u001b[0;32m      7\u001b[0m \u001b[38;5;28mprint\u001b[39m(purchase_data[\u001b[38;5;124m'\u001b[39m\u001b[38;5;124muser\u001b[39m\u001b[38;5;124m'\u001b[39m])\n",
      "File \u001b[1;32m~\\anaconda3\\Lib\\site-packages\\IPython\\core\\interactiveshell.py:324\u001b[0m, in \u001b[0;36m_modified_open\u001b[1;34m(file, *args, **kwargs)\u001b[0m\n\u001b[0;32m    317\u001b[0m \u001b[38;5;28;01mif\u001b[39;00m file \u001b[38;5;129;01min\u001b[39;00m {\u001b[38;5;241m0\u001b[39m, \u001b[38;5;241m1\u001b[39m, \u001b[38;5;241m2\u001b[39m}:\n\u001b[0;32m    318\u001b[0m     \u001b[38;5;28;01mraise\u001b[39;00m \u001b[38;5;167;01mValueError\u001b[39;00m(\n\u001b[0;32m    319\u001b[0m         \u001b[38;5;124mf\u001b[39m\u001b[38;5;124m\"\u001b[39m\u001b[38;5;124mIPython won\u001b[39m\u001b[38;5;124m'\u001b[39m\u001b[38;5;124mt let you open fd=\u001b[39m\u001b[38;5;132;01m{\u001b[39;00mfile\u001b[38;5;132;01m}\u001b[39;00m\u001b[38;5;124m by default \u001b[39m\u001b[38;5;124m\"\u001b[39m\n\u001b[0;32m    320\u001b[0m         \u001b[38;5;124m\"\u001b[39m\u001b[38;5;124mas it is likely to crash IPython. If you know what you are doing, \u001b[39m\u001b[38;5;124m\"\u001b[39m\n\u001b[0;32m    321\u001b[0m         \u001b[38;5;124m\"\u001b[39m\u001b[38;5;124myou can use builtins\u001b[39m\u001b[38;5;124m'\u001b[39m\u001b[38;5;124m open.\u001b[39m\u001b[38;5;124m\"\u001b[39m\n\u001b[0;32m    322\u001b[0m     )\n\u001b[1;32m--> 324\u001b[0m \u001b[38;5;28;01mreturn\u001b[39;00m io_open(file, \u001b[38;5;241m*\u001b[39margs, \u001b[38;5;241m*\u001b[39m\u001b[38;5;241m*\u001b[39mkwargs)\n",
      "\u001b[1;31mFileNotFoundError\u001b[0m: [Errno 2] No such file or directory: 'purchase_14781239.json'"
     ]
    }
   ],
   "source": [
    "import json\n",
    "\n",
    "with open('purchase_14781239.json') as purchase_json:\n",
    "    # json.load(): JSON dosyasını Python sözlüğüne dönüştürür.\n",
    "    purchase_data = json.load(purchase_json)\n",
    "\n",
    "print(purchase_data['user'])  # Çıktı: 'ellen_greg'"
   ]
  },
  {
   "cell_type": "markdown",
   "id": "857e0562-4682-497f-ae98-b34a08aadc7d",
   "metadata": {},
   "source": [
    "**JSON Dosyasına Yazma**\n",
    "\n",
    "Python, bir sözlüğü veya diğer veri yapılarını JSON formatında bir dosyaya dönüştürmek için json kütüphanesini sağlar. Bu özellik, özellikle web sayfalarına veri servis ederken veya JSON formatında veri paylaşırken oldukça yararlıdır."
   ]
  },
  {
   "cell_type": "code",
   "execution_count": 5,
   "id": "a27447c6-96e6-4442-9498-8b7e1a34451e",
   "metadata": {},
   "outputs": [],
   "source": [
    "turn_to_json = {\n",
    "  'eventId': 674189,\n",
    "  'dateTime': '2015-02-12T09:23:17.511Z',\n",
    "  'chocolate': 'Semi-sweet Dark',\n",
    "  'isTomatoAFruit': True\n",
    "}"
   ]
  },
  {
   "cell_type": "code",
   "execution_count": 6,
   "id": "2b22e15e-23f4-4e63-812f-9452fa59bb71",
   "metadata": {},
   "outputs": [],
   "source": [
    "import json\n",
    "\n",
    "with open('output.json', 'w') as json_file:\n",
    "    #turn_to_json nesnesini json_file dosyasına yazar.\n",
    "    json.dump(turn_to_json, json_file)"
   ]
  },
  {
   "cell_type": "markdown",
   "id": "1125711d-3e1e-4378-82bd-1c6d8798c111",
   "metadata": {},
   "source": [
    "## Proje: Doğrusal Regresyon (Linear Regression) ##\n",
    "\n",
    "Reggie, yerel bir fast food zincirinin oyun alanındaki yeni top havuzunu optimize etmek için farklı topların sıçrama özelliklerini araştırıyor. Elde edilen verilerle bir doğrusal regresyon modeli oluşturmayı ve bir veri setine en iyi uyan doğruyu bulmayı amaçlıyor. Bu doğru, toplam hatayı (error) en aza indirecek şekilde belirlenecek. \n",
    "\n",
    "**1. Adım: Hata Hesaplama**\n",
    "  \n",
    "Bir doğru şu formülde ifade edilir:\n",
    "  \n",
    "   𝑦 = 𝑚 ⋅ 𝑥 + 𝑏\n",
    "\n",
    "   y=m⋅x+b\n",
    "   \n",
    "   m: Doğrunun eğimi  b: Y-eksenini kestiği nokta  x: X eksenindeki bir değer\n",
    "\n",
    "get_y Fonksiyonu: Bu fonksiyon, verilen  m, b ve x değerlerini kullanarak y değerini hesaplar. Amaç: Doğru üzerindeki herhangi bir noktanın \n",
    "y değerini bulmak."
   ]
  },
  {
   "cell_type": "code",
   "execution_count": null,
   "id": "3a988fae-eca7-4833-91a4-8c0941f5b75e",
   "metadata": {},
   "outputs": [],
   "source": [
    "def get_y(m, b, x):\n",
    "    y = m * x + b\n",
    "    return y\n",
    "\n",
    "# Örnek\n",
    "print(get_y(1, 0, 7))  # Çıktı: 7\n",
    "print(get_y(5, 10, 3))  # Çıktı: 25"
   ]
  },
  {
   "cell_type": "markdown",
   "id": "8494f338-e3b7-4bc5-b4d9-96f6b005f764",
   "metadata": {},
   "source": [
    "calculate_error Fonksiyonu: Bu fonksiyon, verilen bir nokta ile doğru arasındaki hatayı (mesafeyi) hesaplar. \n",
    "\n",
    "Adımlar: \n",
    "\n",
    "Noktanın x ve y değerlerini alın. \n",
    "\n",
    "get_y fonksiyonunu kullanarak bu x için doğrudaki y değerini hesaplayın. \n",
    "\n",
    "Gerçek y değeri ile tahmin edilen y arasındaki farkın mutlak değerini alın. Amaç: Bir noktanın bir doğruya olan mesafesini (hatasını) bulmak."
   ]
  },
  {
   "cell_type": "code",
   "execution_count": null,
   "id": "20b5e445-f6fe-46dd-b39d-6569c7b4d780",
   "metadata": {},
   "outputs": [],
   "source": [
    "def calculate_error(m, b, point):\n",
    "    x_point, y_point = point\n",
    "    y = m * x_point + b\n",
    "    distance = abs(y - y_point)\n",
    "    return distance\n",
    "\n",
    "# Örnek\n",
    "print(calculate_error(1, 0, (3, 3)))  # Çıktı: 0\n",
    "print(calculate_error(1, 0, (3, 4)))  # Çıktı: 1"
   ]
  },
  {
   "cell_type": "markdown",
   "id": "b0d3b9a4-7da4-4f58-91c2-f49cd6fb1a66",
   "metadata": {},
   "source": [
    "calculate_all_error Fonksiyonu:\n",
    "\n",
    "Bu fonksiyon, bir doğru ve veri seti verilerek tüm noktalar için toplam hatayı hesaplar. Amaç: Tüm noktalar için toplam hatayı hesaplamak."
   ]
  },
  {
   "cell_type": "code",
   "execution_count": null,
   "id": "f88e6d01-d722-4ac3-939a-1de35d8b34c1",
   "metadata": {},
   "outputs": [],
   "source": [
    "def calculate_all_error(m, b, points):\n",
    "    total_error = 0\n",
    "    for point in points:\n",
    "        point_error = calculate_error(m, b, point)\n",
    "        total_error += point_error\n",
    "    return total_error\n",
    "\n",
    "# Örnek veri seti\n",
    "datapoints = [(1, 2), (2, 0), (3, 4), (4, 4), (5, 3)]\n",
    "print(calculate_all_error(1, 0, datapoints))  # Çıktı: 11"
   ]
  },
  {
   "cell_type": "markdown",
   "id": "d328e3a9-22ca-4318-99ca-5f27d4f31e41",
   "metadata": {},
   "source": [
    "**2.Adım: En İyi Doğruyu Bulma**\n",
    "\n",
    "Amacımız: Hata değerini minimize edecek en iyi m (eğim) ve b (kesim noktası) değerlerini bulmak. possible_ms ve possible_bs Listeleri Bu listeler, denemek için belirlenen m ve b değerlerini içerir."
   ]
  },
  {
   "cell_type": "code",
   "execution_count": null,
   "id": "a8f68a35-e9b8-4a7c-bb33-4434fbcdc8ba",
   "metadata": {},
   "outputs": [],
   "source": [
    "possible_ms = [m / 10 for m in range(-100, 101)]  # -10 ile 10 arasında, 0.1 aralıklarla\n",
    "possible_bs = [b / 10 for b in range(-200, 201)]  # -20 ile 20 arasında, 0.1 aralıklarla"
   ]
  },
  {
   "cell_type": "markdown",
   "id": "2dd39482-bb23-4ae5-a1fb-534702d3c9df",
   "metadata": {},
   "source": [
    "Hata Değerlerini Karşılaştırma Tüm 𝑚 m ve 𝑏 b kombinasyonları için hata hesaplanır ve en küçük hata bulunur."
   ]
  },
  {
   "cell_type": "code",
   "execution_count": null,
   "id": "f8b6867f-6f15-4ada-a0c8-57b930fdc67d",
   "metadata": {},
   "outputs": [],
   "source": [
    "datapoints = [(1, 2), (2, 0), (3, 4), (4, 4), (5, 3)]\n",
    "\n",
    "smallest_error = float(\"inf\")\n",
    "best_m = 0\n",
    "best_b = 0\n",
    "\n",
    "for m in possible_ms:\n",
    "    for b in possible_bs:\n",
    "        error = calculate_all_error(m, b, datapoints)\n",
    "        if error < smallest_error:\n",
    "            best_m = m\n",
    "            best_b = b\n",
    "            smallest_error = error\n",
    "\n",
    "print(\"En iyi eğim (m):\", best_m)\n",
    "print(\"En iyi kesim noktası (b):\", best_b)\n",
    "print(\"En küçük hata:\", smallest_error)"
   ]
  },
  {
   "cell_type": "markdown",
   "id": "f31fb8f9-fbd7-4070-b7f9-564775cbcfe3",
   "metadata": {},
   "source": [
    "**3. Adım: Modelin Tahminleri**\n",
    "\n",
    "Bulunan en iyi 𝑚 m ve 𝑏 b değerlerini kullanarak yeni tahminler yapabilirsiniz. Örneğin, genişliği 6 cm olan bir top için sıçrama yüksekliği tahmini:\n",
    "\n",
    "Amaç: Modelin gerçek hayattaki verilerle nasıl uyum sağladığını görmek."
   ]
  },
  {
   "cell_type": "code",
   "execution_count": null,
   "id": "08df1aa0-624d-4c5d-afe2-2b9dbebc7a6a",
   "metadata": {},
   "outputs": [],
   "source": [
    "print(get_y(0.4, 1.6, 6))  # Çıktı: 4.0"
   ]
  },
  {
   "cell_type": "markdown",
   "id": "cebcc07e-8d2c-4429-8622-8a46b5d62ea4",
   "metadata": {},
   "source": [
    "**Özet**\n",
    "\n",
    "Bu proje, doğrusal regresyon mantığını öğrenmek ve uygulamak için basit bir yol sunar. Hata fonksiyonları, optimizasyon algoritmaları ve model tahmini, makine öğrenimindeki temel kavramları anlamaya yardımcı olur."
   ]
  },
  {
   "cell_type": "code",
   "execution_count": null,
   "id": "cc5ba5c9-6fa4-4b47-8bb5-4eaf8cfb7102",
   "metadata": {},
   "outputs": [],
   "source": []
  }
 ],
 "metadata": {
  "kernelspec": {
   "display_name": "Python 3 (ipykernel)",
   "language": "python",
   "name": "python3"
  },
  "language_info": {
   "codemirror_mode": {
    "name": "ipython",
    "version": 3
   },
   "file_extension": ".py",
   "mimetype": "text/x-python",
   "name": "python",
   "nbconvert_exporter": "python",
   "pygments_lexer": "ipython3",
   "version": "3.12.7"
  }
 },
 "nbformat": 4,
 "nbformat_minor": 5
}
